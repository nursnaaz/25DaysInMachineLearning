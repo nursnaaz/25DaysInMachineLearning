{
 "cells": [
  {
   "cell_type": "code",
   "execution_count": 2,
   "metadata": {},
   "outputs": [
    {
     "name": "stdout",
     "output_type": "stream",
     "text": [
      "task:       [regression]\n",
      "metric:     [mean_absolute_error]\n",
      "mode:       [oof_pred_bag]\n",
      "n_models:   [3]\n",
      "\n",
      "model 0:    [ExtraTreesRegressor]\n",
      "    fold 0: [3.20733439]\n",
      "    fold 1: [2.87943130]\n",
      "    fold 2: [2.53026486]\n",
      "    fold 3: [2.83618694]\n",
      "    ----\n",
      "    MEAN:   [2.86330437] + [0.23993093]\n",
      "    FULL:   [2.86330437]\n",
      "\n",
      "model 1:    [RandomForestRegressor]\n",
      "    fold 0: [3.11110485]\n",
      "    fold 1: [2.78404210]\n",
      "    fold 2: [2.55707729]\n",
      "    fold 3: [2.32209992]\n",
      "    ----\n",
      "    MEAN:   [2.69358104] + [0.29117900]\n",
      "    FULL:   [2.69358104]\n",
      "\n",
      "model 2:    [XGBRegressor]\n",
      "    fold 0: [2.40318942]\n",
      "    fold 1: [2.37286943]\n",
      "    fold 2: [1.89121526]\n",
      "    fold 3: [1.95382805]\n",
      "    ----\n",
      "    MEAN:   [2.15527554] + [0.23404984]\n",
      "    FULL:   [2.15527554]\n",
      "\n",
      "Final prediction score: [2.78409081]\n"
     ]
    }
   ],
   "source": [
    "from vecstack import stacking\n",
    "\n",
    "# Get your data\n",
    "\n",
    "# Initialize 1st level models\n",
    "\n",
    "# Get your stacking features in a single line\n",
    "#S_train, S_test = stacking(models, X_train, y_train, X_test, regression = True, verbose = 2)\n",
    "\n",
    "# Use 2nd level model with stacking features\n",
    "#Complete examples\n",
    "#Regression\n",
    "from sklearn.datasets import load_boston\n",
    "from sklearn.model_selection import train_test_split\n",
    "from sklearn.metrics import mean_absolute_error\n",
    "from sklearn.ensemble import ExtraTreesRegressor\n",
    "from sklearn.ensemble import RandomForestRegressor\n",
    "from xgboost import XGBRegressor\n",
    "from vecstack import stacking\n",
    "\n",
    "# Load demo data\n",
    "boston = load_boston()\n",
    "X, y = boston.data, boston.target\n",
    "\n",
    "# Make train/test split\n",
    "# As usual in machine learning task we have X_train, y_train, and X_test\n",
    "X_train, X_test, y_train, y_test = train_test_split(X, y, \n",
    "    test_size = 0.2, random_state = 0)\n",
    "\n",
    "# Caution! All models and parameter values are just \n",
    "# demonstrational and shouldn't be considered as recommended.\n",
    "# Initialize 1st level models.\n",
    "models = [\n",
    "    ExtraTreesRegressor(random_state = 0, n_jobs = -1, \n",
    "        n_estimators = 100, max_depth = 3),\n",
    "        \n",
    "    RandomForestRegressor(random_state = 0, n_jobs = -1, \n",
    "        n_estimators = 100, max_depth = 3),\n",
    "        \n",
    "    XGBRegressor(seed = 0, n_jobs = -1, learning_rate = 0.1, \n",
    "        n_estimators = 100, max_depth = 3)]\n",
    "    \n",
    "# Compute stacking features\n",
    "S_train, S_test = stacking(models, X_train, y_train, X_test, \n",
    "    regression = True, metric = mean_absolute_error, n_folds = 4, \n",
    "    shuffle = True, random_state = 0, verbose = 2)\n",
    "\n",
    "# Initialize 2nd level model\n",
    "model = XGBRegressor(seed = 0, n_jobs = -1, learning_rate = 0.1, \n",
    "    n_estimators = 100, max_depth = 3)\n",
    "    \n",
    "# Fit 2nd level model\n",
    "model = model.fit(S_train, y_train)\n",
    "\n",
    "# Predict\n",
    "y_pred = model.predict(S_test)\n",
    "\n",
    "# Final prediction score\n",
    "print('Final prediction score: [%.8f]' % mean_absolute_error(y_test, y_pred))"
   ]
  },
  {
   "cell_type": "code",
   "execution_count": null,
   "metadata": {
    "collapsed": true
   },
   "outputs": [],
   "source": []
  },
  {
   "cell_type": "code",
   "execution_count": null,
   "metadata": {
    "collapsed": true
   },
   "outputs": [],
   "source": []
  }
 ],
 "metadata": {
  "kernelspec": {
   "display_name": "Python 3",
   "language": "python",
   "name": "python3"
  },
  "language_info": {
   "codemirror_mode": {
    "name": "ipython",
    "version": 3
   },
   "file_extension": ".py",
   "mimetype": "text/x-python",
   "name": "python",
   "nbconvert_exporter": "python",
   "pygments_lexer": "ipython3",
   "version": "3.6.4"
  }
 },
 "nbformat": 4,
 "nbformat_minor": 2
}
