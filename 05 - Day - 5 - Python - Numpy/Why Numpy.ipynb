{
 "cells": [
  {
   "cell_type": "markdown",
   "metadata": {},
   "source": [
    "# Why Numpy?"
   ]
  },
  {
   "cell_type": "markdown",
   "metadata": {},
   "source": [
    "Advantages of using NumPy Arrays:\n",
    "The most important benefits of using it are :\n",
    "\n",
    "It consumes less memory.\n",
    "It is fast as compared to the python List.\n",
    "It is convenient to use.\n",
    "Now, let's write small programs to prove that NumPy multidimensional array object is better than the python List."
   ]
  },
  {
   "cell_type": "markdown",
   "metadata": {},
   "source": [
    "# Comparing Memory use"
   ]
  },
  {
   "cell_type": "code",
   "execution_count": 1,
   "metadata": {},
   "outputs": [
    {
     "name": "stdout",
     "output_type": "stream",
     "text": [
      "Size of NumPy array:  800\n",
      "Size of list:  2800\n"
     ]
    }
   ],
   "source": [
    "import numpy as np\n",
    "import time \n",
    "import sys\n",
    "\n",
    "# Creating a NumPy array with 100 elements\n",
    "array = np.arange(100)\n",
    "# array.itemsize : Size of one element\n",
    "# array.size : length of array\n",
    "print(\"Size of NumPy array: \", array.size * array.itemsize)\n",
    "\n",
    "# Creating a list with 100 elements\n",
    "# Now I'll print the size of list\n",
    "list = range(0, 100)\n",
    "# Multiplying size of 1 element with length of the list\n",
    "print(\"Size of list: \", sys.getsizeof(1)*len(list))"
   ]
  },
  {
   "cell_type": "markdown",
   "metadata": {},
   "source": [
    "# Fast Computation of NumPy array"
   ]
  },
  {
   "cell_type": "code",
   "execution_count": 8,
   "metadata": {},
   "outputs": [
    {
     "name": "stdout",
     "output_type": "stream",
     "text": [
      "Time for Python List in msec:  16.850709915161133\n",
      "Time for NumPy array in msec:  1.6350746154785156\n",
      "This means NumPy array is faster than Python List\n"
     ]
    }
   ],
   "source": [
    "import numpy as np\n",
    "import time\n",
    "import sys\n",
    "\n",
    "# let's declare the size\n",
    "Size = 100000\n",
    "\n",
    "# Creating two lists\n",
    "list1 = range(Size)\n",
    "list2 = range(Size)\n",
    "\n",
    "# Creating two NumPy arrays\n",
    "arr1 = np.arange(Size)\n",
    "arr2 = np.arange(Size)\n",
    "\n",
    "# Calculating time for Python list\n",
    "start = time.time()\n",
    "result = [(x+y) for x, y in zip(list1, list2)]\n",
    "          \n",
    "print(\"Time for Python List in msec: \", (time.time() - start) * 1000)\n",
    "\n",
    "# Calculating time for NumPy array\n",
    "start = time.time()\n",
    "result = arr1+arr2\n",
    "print(\"Time for NumPy array in msec: \", (time.time()- start) * 1000)\n",
    "\n",
    "print(\"This means NumPy array is faster than Python List\")"
   ]
  },
  {
   "cell_type": "markdown",
   "metadata": {},
   "source": [
    "# NumPy is Convenient to use"
   ]
  },
  {
   "cell_type": "code",
   "execution_count": 11,
   "metadata": {},
   "outputs": [
    {
     "name": "stdout",
     "output_type": "stream",
     "text": [
      "ADD a1 and a2 elements :  [5 7 9]\n",
      "SUB a1 and a2 elements :  [-3 -3 -3]\n",
      "MUL a1 and a2 elements :  [ 4 10 18]\n",
      "Time for NumPy array in msec:  0.5030632019042969\n"
     ]
    }
   ],
   "source": [
    "import numpy as np\n",
    "import time\n",
    "\n",
    "a1 = np.array([1, 2, 3])\n",
    "a2 = np.array([4, 5, 6])\n",
    "\n",
    "# To add two array you can simply do it by\n",
    "print(\"ADD a1 and a2 elements : \", a1+a2)\n",
    "\n",
    "# To sub two array you can simply do it by\n",
    "print(\"SUB a1 and a2 elements : \", a1 - a2)\n",
    "\n",
    "# To mul two array you can simply do it by\n",
    "print(\"MUL a1 and a2 elements : \", a1 * a2)\n",
    "\n",
    "# Calculating time for NumPy array\n",
    "start = time.time()\n",
    "result = arr1+arr2\n",
    "print(\"Time for NumPy array in msec: \", (time.time()- start) * 1000)"
   ]
  },
  {
   "cell_type": "code",
   "execution_count": null,
   "metadata": {},
   "outputs": [],
   "source": []
  }
 ],
 "metadata": {
  "kernelspec": {
   "display_name": "Python 3",
   "language": "python",
   "name": "python3"
  },
  "language_info": {
   "codemirror_mode": {
    "name": "ipython",
    "version": 3
   },
   "file_extension": ".py",
   "mimetype": "text/x-python",
   "name": "python",
   "nbconvert_exporter": "python",
   "pygments_lexer": "ipython3",
   "version": "3.6.4"
  }
 },
 "nbformat": 4,
 "nbformat_minor": 2
}
