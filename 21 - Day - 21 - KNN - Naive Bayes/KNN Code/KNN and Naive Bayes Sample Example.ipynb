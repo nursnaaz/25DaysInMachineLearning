{
 "cells": [
  {
   "cell_type": "code",
   "execution_count": 1,
   "metadata": {},
   "outputs": [],
   "source": [
    "import pandas as pd\n",
    "import numpy as np\n",
    "import matplotlib.pyplot as plt\n",
    "%matplotlib inline\n",
    "from sklearn.linear_model import LogisticRegression\n",
    "from sklearn.preprocessing import StandardScaler\n",
    "from sklearn.neighbors import KNeighborsClassifier\n",
    "from sklearn.model_selection import train_test_split\n",
    "from sklearn.metrics import accuracy_score\n",
    "from sklearn.preprocessing import PolynomialFeatures\n",
    "import warnings\n",
    "warnings.filterwarnings(\"ignore\")\n",
    "np.random.seed(42)"
   ]
  },
  {
   "cell_type": "code",
   "execution_count": 2,
   "metadata": {},
   "outputs": [],
   "source": [
    "df = pd.read_csv(\"http://archive.ics.uci.edu/ml/machine-learning-databases/wine-quality/winequality-white.csv\", sep = ';')\n",
    "y = df.pop('quality')"
   ]
  },
  {
   "cell_type": "code",
   "execution_count": 5,
   "metadata": {},
   "outputs": [],
   "source": [
    "data = pd.read_csv(\"http://archive.ics.uci.edu/ml/machine-learning-databases/wine-quality/winequality-white.csv\", sep = ';')"
   ]
  },
  {
   "cell_type": "code",
   "execution_count": 6,
   "metadata": {},
   "outputs": [
    {
     "data": {
      "text/html": [
       "<div>\n",
       "<style scoped>\n",
       "    .dataframe tbody tr th:only-of-type {\n",
       "        vertical-align: middle;\n",
       "    }\n",
       "\n",
       "    .dataframe tbody tr th {\n",
       "        vertical-align: top;\n",
       "    }\n",
       "\n",
       "    .dataframe thead th {\n",
       "        text-align: right;\n",
       "    }\n",
       "</style>\n",
       "<table border=\"1\" class=\"dataframe\">\n",
       "  <thead>\n",
       "    <tr style=\"text-align: right;\">\n",
       "      <th></th>\n",
       "      <th>fixed acidity</th>\n",
       "      <th>volatile acidity</th>\n",
       "      <th>citric acid</th>\n",
       "      <th>residual sugar</th>\n",
       "      <th>chlorides</th>\n",
       "      <th>free sulfur dioxide</th>\n",
       "      <th>total sulfur dioxide</th>\n",
       "      <th>density</th>\n",
       "      <th>pH</th>\n",
       "      <th>sulphates</th>\n",
       "      <th>alcohol</th>\n",
       "      <th>quality</th>\n",
       "    </tr>\n",
       "  </thead>\n",
       "  <tbody>\n",
       "    <tr>\n",
       "      <th>0</th>\n",
       "      <td>7.0</td>\n",
       "      <td>0.27</td>\n",
       "      <td>0.36</td>\n",
       "      <td>20.7</td>\n",
       "      <td>0.045</td>\n",
       "      <td>45.0</td>\n",
       "      <td>170.0</td>\n",
       "      <td>1.0010</td>\n",
       "      <td>3.00</td>\n",
       "      <td>0.45</td>\n",
       "      <td>8.8</td>\n",
       "      <td>6</td>\n",
       "    </tr>\n",
       "    <tr>\n",
       "      <th>1</th>\n",
       "      <td>6.3</td>\n",
       "      <td>0.30</td>\n",
       "      <td>0.34</td>\n",
       "      <td>1.6</td>\n",
       "      <td>0.049</td>\n",
       "      <td>14.0</td>\n",
       "      <td>132.0</td>\n",
       "      <td>0.9940</td>\n",
       "      <td>3.30</td>\n",
       "      <td>0.49</td>\n",
       "      <td>9.5</td>\n",
       "      <td>6</td>\n",
       "    </tr>\n",
       "    <tr>\n",
       "      <th>2</th>\n",
       "      <td>8.1</td>\n",
       "      <td>0.28</td>\n",
       "      <td>0.40</td>\n",
       "      <td>6.9</td>\n",
       "      <td>0.050</td>\n",
       "      <td>30.0</td>\n",
       "      <td>97.0</td>\n",
       "      <td>0.9951</td>\n",
       "      <td>3.26</td>\n",
       "      <td>0.44</td>\n",
       "      <td>10.1</td>\n",
       "      <td>6</td>\n",
       "    </tr>\n",
       "    <tr>\n",
       "      <th>3</th>\n",
       "      <td>7.2</td>\n",
       "      <td>0.23</td>\n",
       "      <td>0.32</td>\n",
       "      <td>8.5</td>\n",
       "      <td>0.058</td>\n",
       "      <td>47.0</td>\n",
       "      <td>186.0</td>\n",
       "      <td>0.9956</td>\n",
       "      <td>3.19</td>\n",
       "      <td>0.40</td>\n",
       "      <td>9.9</td>\n",
       "      <td>6</td>\n",
       "    </tr>\n",
       "    <tr>\n",
       "      <th>4</th>\n",
       "      <td>7.2</td>\n",
       "      <td>0.23</td>\n",
       "      <td>0.32</td>\n",
       "      <td>8.5</td>\n",
       "      <td>0.058</td>\n",
       "      <td>47.0</td>\n",
       "      <td>186.0</td>\n",
       "      <td>0.9956</td>\n",
       "      <td>3.19</td>\n",
       "      <td>0.40</td>\n",
       "      <td>9.9</td>\n",
       "      <td>6</td>\n",
       "    </tr>\n",
       "  </tbody>\n",
       "</table>\n",
       "</div>"
      ],
      "text/plain": [
       "   fixed acidity  volatile acidity  citric acid  residual sugar  chlorides  \\\n",
       "0            7.0              0.27         0.36            20.7      0.045   \n",
       "1            6.3              0.30         0.34             1.6      0.049   \n",
       "2            8.1              0.28         0.40             6.9      0.050   \n",
       "3            7.2              0.23         0.32             8.5      0.058   \n",
       "4            7.2              0.23         0.32             8.5      0.058   \n",
       "\n",
       "   free sulfur dioxide  total sulfur dioxide  density    pH  sulphates  \\\n",
       "0                 45.0                 170.0   1.0010  3.00       0.45   \n",
       "1                 14.0                 132.0   0.9940  3.30       0.49   \n",
       "2                 30.0                  97.0   0.9951  3.26       0.44   \n",
       "3                 47.0                 186.0   0.9956  3.19       0.40   \n",
       "4                 47.0                 186.0   0.9956  3.19       0.40   \n",
       "\n",
       "   alcohol  quality  \n",
       "0      8.8        6  \n",
       "1      9.5        6  \n",
       "2     10.1        6  \n",
       "3      9.9        6  \n",
       "4      9.9        6  "
      ]
     },
     "execution_count": 6,
     "metadata": {},
     "output_type": "execute_result"
    }
   ],
   "source": [
    "data.head()"
   ]
  },
  {
   "cell_type": "code",
   "execution_count": 7,
   "metadata": {},
   "outputs": [
    {
     "data": {
      "text/plain": [
       "array([6, 5, 7, 8, 4, 3, 9])"
      ]
     },
     "execution_count": 7,
     "metadata": {},
     "output_type": "execute_result"
    }
   ],
   "source": [
    "data.quality.unique()"
   ]
  },
  {
   "cell_type": "code",
   "execution_count": 8,
   "metadata": {},
   "outputs": [
    {
     "data": {
      "text/plain": [
       "fixed acidity           0\n",
       "volatile acidity        0\n",
       "citric acid             0\n",
       "residual sugar          0\n",
       "chlorides               0\n",
       "free sulfur dioxide     0\n",
       "total sulfur dioxide    0\n",
       "density                 0\n",
       "pH                      0\n",
       "sulphates               0\n",
       "alcohol                 0\n",
       "quality                 0\n",
       "dtype: int64"
      ]
     },
     "execution_count": 8,
     "metadata": {},
     "output_type": "execute_result"
    }
   ],
   "source": [
    "data.isna().sum()"
   ]
  },
  {
   "cell_type": "code",
   "execution_count": 9,
   "metadata": {},
   "outputs": [
    {
     "data": {
      "text/html": [
       "<div>\n",
       "<style scoped>\n",
       "    .dataframe tbody tr th:only-of-type {\n",
       "        vertical-align: middle;\n",
       "    }\n",
       "\n",
       "    .dataframe tbody tr th {\n",
       "        vertical-align: top;\n",
       "    }\n",
       "\n",
       "    .dataframe thead th {\n",
       "        text-align: right;\n",
       "    }\n",
       "</style>\n",
       "<table border=\"1\" class=\"dataframe\">\n",
       "  <thead>\n",
       "    <tr style=\"text-align: right;\">\n",
       "      <th></th>\n",
       "      <th>fixed acidity</th>\n",
       "      <th>volatile acidity</th>\n",
       "      <th>citric acid</th>\n",
       "      <th>residual sugar</th>\n",
       "      <th>chlorides</th>\n",
       "      <th>free sulfur dioxide</th>\n",
       "      <th>total sulfur dioxide</th>\n",
       "      <th>density</th>\n",
       "      <th>pH</th>\n",
       "      <th>sulphates</th>\n",
       "      <th>alcohol</th>\n",
       "      <th>quality</th>\n",
       "    </tr>\n",
       "  </thead>\n",
       "  <tbody>\n",
       "    <tr>\n",
       "      <th>count</th>\n",
       "      <td>4898.000000</td>\n",
       "      <td>4898.000000</td>\n",
       "      <td>4898.000000</td>\n",
       "      <td>4898.000000</td>\n",
       "      <td>4898.000000</td>\n",
       "      <td>4898.000000</td>\n",
       "      <td>4898.000000</td>\n",
       "      <td>4898.000000</td>\n",
       "      <td>4898.000000</td>\n",
       "      <td>4898.000000</td>\n",
       "      <td>4898.000000</td>\n",
       "      <td>4898.000000</td>\n",
       "    </tr>\n",
       "    <tr>\n",
       "      <th>mean</th>\n",
       "      <td>6.854788</td>\n",
       "      <td>0.278241</td>\n",
       "      <td>0.334192</td>\n",
       "      <td>6.391415</td>\n",
       "      <td>0.045772</td>\n",
       "      <td>35.308085</td>\n",
       "      <td>138.360657</td>\n",
       "      <td>0.994027</td>\n",
       "      <td>3.188267</td>\n",
       "      <td>0.489847</td>\n",
       "      <td>10.514267</td>\n",
       "      <td>5.877909</td>\n",
       "    </tr>\n",
       "    <tr>\n",
       "      <th>std</th>\n",
       "      <td>0.843868</td>\n",
       "      <td>0.100795</td>\n",
       "      <td>0.121020</td>\n",
       "      <td>5.072058</td>\n",
       "      <td>0.021848</td>\n",
       "      <td>17.007137</td>\n",
       "      <td>42.498065</td>\n",
       "      <td>0.002991</td>\n",
       "      <td>0.151001</td>\n",
       "      <td>0.114126</td>\n",
       "      <td>1.230621</td>\n",
       "      <td>0.885639</td>\n",
       "    </tr>\n",
       "    <tr>\n",
       "      <th>min</th>\n",
       "      <td>3.800000</td>\n",
       "      <td>0.080000</td>\n",
       "      <td>0.000000</td>\n",
       "      <td>0.600000</td>\n",
       "      <td>0.009000</td>\n",
       "      <td>2.000000</td>\n",
       "      <td>9.000000</td>\n",
       "      <td>0.987110</td>\n",
       "      <td>2.720000</td>\n",
       "      <td>0.220000</td>\n",
       "      <td>8.000000</td>\n",
       "      <td>3.000000</td>\n",
       "    </tr>\n",
       "    <tr>\n",
       "      <th>25%</th>\n",
       "      <td>6.300000</td>\n",
       "      <td>0.210000</td>\n",
       "      <td>0.270000</td>\n",
       "      <td>1.700000</td>\n",
       "      <td>0.036000</td>\n",
       "      <td>23.000000</td>\n",
       "      <td>108.000000</td>\n",
       "      <td>0.991723</td>\n",
       "      <td>3.090000</td>\n",
       "      <td>0.410000</td>\n",
       "      <td>9.500000</td>\n",
       "      <td>5.000000</td>\n",
       "    </tr>\n",
       "    <tr>\n",
       "      <th>50%</th>\n",
       "      <td>6.800000</td>\n",
       "      <td>0.260000</td>\n",
       "      <td>0.320000</td>\n",
       "      <td>5.200000</td>\n",
       "      <td>0.043000</td>\n",
       "      <td>34.000000</td>\n",
       "      <td>134.000000</td>\n",
       "      <td>0.993740</td>\n",
       "      <td>3.180000</td>\n",
       "      <td>0.470000</td>\n",
       "      <td>10.400000</td>\n",
       "      <td>6.000000</td>\n",
       "    </tr>\n",
       "    <tr>\n",
       "      <th>75%</th>\n",
       "      <td>7.300000</td>\n",
       "      <td>0.320000</td>\n",
       "      <td>0.390000</td>\n",
       "      <td>9.900000</td>\n",
       "      <td>0.050000</td>\n",
       "      <td>46.000000</td>\n",
       "      <td>167.000000</td>\n",
       "      <td>0.996100</td>\n",
       "      <td>3.280000</td>\n",
       "      <td>0.550000</td>\n",
       "      <td>11.400000</td>\n",
       "      <td>6.000000</td>\n",
       "    </tr>\n",
       "    <tr>\n",
       "      <th>max</th>\n",
       "      <td>14.200000</td>\n",
       "      <td>1.100000</td>\n",
       "      <td>1.660000</td>\n",
       "      <td>65.800000</td>\n",
       "      <td>0.346000</td>\n",
       "      <td>289.000000</td>\n",
       "      <td>440.000000</td>\n",
       "      <td>1.038980</td>\n",
       "      <td>3.820000</td>\n",
       "      <td>1.080000</td>\n",
       "      <td>14.200000</td>\n",
       "      <td>9.000000</td>\n",
       "    </tr>\n",
       "  </tbody>\n",
       "</table>\n",
       "</div>"
      ],
      "text/plain": [
       "       fixed acidity  volatile acidity  citric acid  residual sugar  \\\n",
       "count    4898.000000       4898.000000  4898.000000     4898.000000   \n",
       "mean        6.854788          0.278241     0.334192        6.391415   \n",
       "std         0.843868          0.100795     0.121020        5.072058   \n",
       "min         3.800000          0.080000     0.000000        0.600000   \n",
       "25%         6.300000          0.210000     0.270000        1.700000   \n",
       "50%         6.800000          0.260000     0.320000        5.200000   \n",
       "75%         7.300000          0.320000     0.390000        9.900000   \n",
       "max        14.200000          1.100000     1.660000       65.800000   \n",
       "\n",
       "         chlorides  free sulfur dioxide  total sulfur dioxide      density  \\\n",
       "count  4898.000000          4898.000000           4898.000000  4898.000000   \n",
       "mean      0.045772            35.308085            138.360657     0.994027   \n",
       "std       0.021848            17.007137             42.498065     0.002991   \n",
       "min       0.009000             2.000000              9.000000     0.987110   \n",
       "25%       0.036000            23.000000            108.000000     0.991723   \n",
       "50%       0.043000            34.000000            134.000000     0.993740   \n",
       "75%       0.050000            46.000000            167.000000     0.996100   \n",
       "max       0.346000           289.000000            440.000000     1.038980   \n",
       "\n",
       "                pH    sulphates      alcohol      quality  \n",
       "count  4898.000000  4898.000000  4898.000000  4898.000000  \n",
       "mean      3.188267     0.489847    10.514267     5.877909  \n",
       "std       0.151001     0.114126     1.230621     0.885639  \n",
       "min       2.720000     0.220000     8.000000     3.000000  \n",
       "25%       3.090000     0.410000     9.500000     5.000000  \n",
       "50%       3.180000     0.470000    10.400000     6.000000  \n",
       "75%       3.280000     0.550000    11.400000     6.000000  \n",
       "max       3.820000     1.080000    14.200000     9.000000  "
      ]
     },
     "execution_count": 9,
     "metadata": {},
     "output_type": "execute_result"
    }
   ],
   "source": [
    "data.describe()"
   ]
  },
  {
   "cell_type": "code",
   "execution_count": 10,
   "metadata": {},
   "outputs": [
    {
     "name": "stdout",
     "output_type": "stream",
     "text": [
      "<class 'pandas.core.frame.DataFrame'>\n",
      "RangeIndex: 4898 entries, 0 to 4897\n",
      "Data columns (total 12 columns):\n",
      "fixed acidity           4898 non-null float64\n",
      "volatile acidity        4898 non-null float64\n",
      "citric acid             4898 non-null float64\n",
      "residual sugar          4898 non-null float64\n",
      "chlorides               4898 non-null float64\n",
      "free sulfur dioxide     4898 non-null float64\n",
      "total sulfur dioxide    4898 non-null float64\n",
      "density                 4898 non-null float64\n",
      "pH                      4898 non-null float64\n",
      "sulphates               4898 non-null float64\n",
      "alcohol                 4898 non-null float64\n",
      "quality                 4898 non-null int64\n",
      "dtypes: float64(11), int64(1)\n",
      "memory usage: 459.3 KB\n"
     ]
    }
   ],
   "source": [
    "data.info()"
   ]
  },
  {
   "cell_type": "code",
   "execution_count": 14,
   "metadata": {},
   "outputs": [
    {
     "data": {
      "text/plain": [
       "(4898, 12)"
      ]
     },
     "execution_count": 14,
     "metadata": {},
     "output_type": "execute_result"
    }
   ],
   "source": [
    "data.shape"
   ]
  },
  {
   "cell_type": "code",
   "execution_count": 15,
   "metadata": {},
   "outputs": [
    {
     "data": {
      "text/plain": [
       "(937, 12)"
      ]
     },
     "execution_count": 15,
     "metadata": {},
     "output_type": "execute_result"
    }
   ],
   "source": [
    "data[data.duplicated()].shape"
   ]
  },
  {
   "cell_type": "code",
   "execution_count": 17,
   "metadata": {},
   "outputs": [],
   "source": [
    "data.drop_duplicates(inplace= True)"
   ]
  },
  {
   "cell_type": "code",
   "execution_count": 18,
   "metadata": {},
   "outputs": [
    {
     "data": {
      "text/plain": [
       "(3961, 12)"
      ]
     },
     "execution_count": 18,
     "metadata": {},
     "output_type": "execute_result"
    }
   ],
   "source": [
    "data.shape"
   ]
  },
  {
   "cell_type": "code",
   "execution_count": 19,
   "metadata": {},
   "outputs": [
    {
     "data": {
      "text/html": [
       "<div>\n",
       "<style scoped>\n",
       "    .dataframe tbody tr th:only-of-type {\n",
       "        vertical-align: middle;\n",
       "    }\n",
       "\n",
       "    .dataframe tbody tr th {\n",
       "        vertical-align: top;\n",
       "    }\n",
       "\n",
       "    .dataframe thead th {\n",
       "        text-align: right;\n",
       "    }\n",
       "</style>\n",
       "<table border=\"1\" class=\"dataframe\">\n",
       "  <thead>\n",
       "    <tr style=\"text-align: right;\">\n",
       "      <th></th>\n",
       "      <th>fixed acidity</th>\n",
       "      <th>volatile acidity</th>\n",
       "      <th>citric acid</th>\n",
       "      <th>residual sugar</th>\n",
       "      <th>chlorides</th>\n",
       "      <th>free sulfur dioxide</th>\n",
       "      <th>total sulfur dioxide</th>\n",
       "      <th>density</th>\n",
       "      <th>pH</th>\n",
       "      <th>sulphates</th>\n",
       "      <th>alcohol</th>\n",
       "      <th>quality</th>\n",
       "    </tr>\n",
       "  </thead>\n",
       "  <tbody>\n",
       "    <tr>\n",
       "      <th>fixed acidity</th>\n",
       "      <td>1.000000</td>\n",
       "      <td>-0.019214</td>\n",
       "      <td>0.298959</td>\n",
       "      <td>0.083620</td>\n",
       "      <td>0.024036</td>\n",
       "      <td>-0.058396</td>\n",
       "      <td>0.082425</td>\n",
       "      <td>0.266091</td>\n",
       "      <td>-0.431274</td>\n",
       "      <td>-0.017453</td>\n",
       "      <td>-0.110788</td>\n",
       "      <td>-0.124636</td>\n",
       "    </tr>\n",
       "    <tr>\n",
       "      <th>volatile acidity</th>\n",
       "      <td>-0.019214</td>\n",
       "      <td>1.000000</td>\n",
       "      <td>-0.163228</td>\n",
       "      <td>0.098340</td>\n",
       "      <td>0.086287</td>\n",
       "      <td>-0.102471</td>\n",
       "      <td>0.102315</td>\n",
       "      <td>0.060603</td>\n",
       "      <td>-0.046954</td>\n",
       "      <td>-0.021150</td>\n",
       "      <td>0.046815</td>\n",
       "      <td>-0.190678</td>\n",
       "    </tr>\n",
       "    <tr>\n",
       "      <th>citric acid</th>\n",
       "      <td>0.298959</td>\n",
       "      <td>-0.163228</td>\n",
       "      <td>1.000000</td>\n",
       "      <td>0.106269</td>\n",
       "      <td>0.132590</td>\n",
       "      <td>0.091681</td>\n",
       "      <td>0.122845</td>\n",
       "      <td>0.160076</td>\n",
       "      <td>-0.183015</td>\n",
       "      <td>0.049442</td>\n",
       "      <td>-0.076514</td>\n",
       "      <td>0.007065</td>\n",
       "    </tr>\n",
       "    <tr>\n",
       "      <th>residual sugar</th>\n",
       "      <td>0.083620</td>\n",
       "      <td>0.098340</td>\n",
       "      <td>0.106269</td>\n",
       "      <td>1.000000</td>\n",
       "      <td>0.076091</td>\n",
       "      <td>0.306835</td>\n",
       "      <td>0.409583</td>\n",
       "      <td>0.820498</td>\n",
       "      <td>-0.165997</td>\n",
       "      <td>-0.020503</td>\n",
       "      <td>-0.398167</td>\n",
       "      <td>-0.117339</td>\n",
       "    </tr>\n",
       "    <tr>\n",
       "      <th>chlorides</th>\n",
       "      <td>0.024036</td>\n",
       "      <td>0.086287</td>\n",
       "      <td>0.132590</td>\n",
       "      <td>0.076091</td>\n",
       "      <td>1.000000</td>\n",
       "      <td>0.101272</td>\n",
       "      <td>0.191145</td>\n",
       "      <td>0.253088</td>\n",
       "      <td>-0.090573</td>\n",
       "      <td>0.017871</td>\n",
       "      <td>-0.356928</td>\n",
       "      <td>-0.217739</td>\n",
       "    </tr>\n",
       "    <tr>\n",
       "      <th>free sulfur dioxide</th>\n",
       "      <td>-0.058396</td>\n",
       "      <td>-0.102471</td>\n",
       "      <td>0.091681</td>\n",
       "      <td>0.306835</td>\n",
       "      <td>0.101272</td>\n",
       "      <td>1.000000</td>\n",
       "      <td>0.619437</td>\n",
       "      <td>0.294638</td>\n",
       "      <td>-0.007750</td>\n",
       "      <td>0.037932</td>\n",
       "      <td>-0.251768</td>\n",
       "      <td>0.010507</td>\n",
       "    </tr>\n",
       "    <tr>\n",
       "      <th>total sulfur dioxide</th>\n",
       "      <td>0.082425</td>\n",
       "      <td>0.102315</td>\n",
       "      <td>0.122845</td>\n",
       "      <td>0.409583</td>\n",
       "      <td>0.191145</td>\n",
       "      <td>0.619437</td>\n",
       "      <td>1.000000</td>\n",
       "      <td>0.536868</td>\n",
       "      <td>0.008239</td>\n",
       "      <td>0.136544</td>\n",
       "      <td>-0.446643</td>\n",
       "      <td>-0.183356</td>\n",
       "    </tr>\n",
       "    <tr>\n",
       "      <th>density</th>\n",
       "      <td>0.266091</td>\n",
       "      <td>0.060603</td>\n",
       "      <td>0.160076</td>\n",
       "      <td>0.820498</td>\n",
       "      <td>0.253088</td>\n",
       "      <td>0.294638</td>\n",
       "      <td>0.536868</td>\n",
       "      <td>1.000000</td>\n",
       "      <td>-0.063734</td>\n",
       "      <td>0.082048</td>\n",
       "      <td>-0.760162</td>\n",
       "      <td>-0.337805</td>\n",
       "    </tr>\n",
       "    <tr>\n",
       "      <th>pH</th>\n",
       "      <td>-0.431274</td>\n",
       "      <td>-0.046954</td>\n",
       "      <td>-0.183015</td>\n",
       "      <td>-0.165997</td>\n",
       "      <td>-0.090573</td>\n",
       "      <td>-0.007750</td>\n",
       "      <td>0.008239</td>\n",
       "      <td>-0.063734</td>\n",
       "      <td>1.000000</td>\n",
       "      <td>0.142353</td>\n",
       "      <td>0.093095</td>\n",
       "      <td>0.123829</td>\n",
       "    </tr>\n",
       "    <tr>\n",
       "      <th>sulphates</th>\n",
       "      <td>-0.017453</td>\n",
       "      <td>-0.021150</td>\n",
       "      <td>0.049442</td>\n",
       "      <td>-0.020503</td>\n",
       "      <td>0.017871</td>\n",
       "      <td>0.037932</td>\n",
       "      <td>0.136544</td>\n",
       "      <td>0.082048</td>\n",
       "      <td>0.142353</td>\n",
       "      <td>1.000000</td>\n",
       "      <td>-0.022850</td>\n",
       "      <td>0.053200</td>\n",
       "    </tr>\n",
       "    <tr>\n",
       "      <th>alcohol</th>\n",
       "      <td>-0.110788</td>\n",
       "      <td>0.046815</td>\n",
       "      <td>-0.076514</td>\n",
       "      <td>-0.398167</td>\n",
       "      <td>-0.356928</td>\n",
       "      <td>-0.251768</td>\n",
       "      <td>-0.446643</td>\n",
       "      <td>-0.760162</td>\n",
       "      <td>0.093095</td>\n",
       "      <td>-0.022850</td>\n",
       "      <td>1.000000</td>\n",
       "      <td>0.462869</td>\n",
       "    </tr>\n",
       "    <tr>\n",
       "      <th>quality</th>\n",
       "      <td>-0.124636</td>\n",
       "      <td>-0.190678</td>\n",
       "      <td>0.007065</td>\n",
       "      <td>-0.117339</td>\n",
       "      <td>-0.217739</td>\n",
       "      <td>0.010507</td>\n",
       "      <td>-0.183356</td>\n",
       "      <td>-0.337805</td>\n",
       "      <td>0.123829</td>\n",
       "      <td>0.053200</td>\n",
       "      <td>0.462869</td>\n",
       "      <td>1.000000</td>\n",
       "    </tr>\n",
       "  </tbody>\n",
       "</table>\n",
       "</div>"
      ],
      "text/plain": [
       "                      fixed acidity  volatile acidity  citric acid  \\\n",
       "fixed acidity              1.000000         -0.019214     0.298959   \n",
       "volatile acidity          -0.019214          1.000000    -0.163228   \n",
       "citric acid                0.298959         -0.163228     1.000000   \n",
       "residual sugar             0.083620          0.098340     0.106269   \n",
       "chlorides                  0.024036          0.086287     0.132590   \n",
       "free sulfur dioxide       -0.058396         -0.102471     0.091681   \n",
       "total sulfur dioxide       0.082425          0.102315     0.122845   \n",
       "density                    0.266091          0.060603     0.160076   \n",
       "pH                        -0.431274         -0.046954    -0.183015   \n",
       "sulphates                 -0.017453         -0.021150     0.049442   \n",
       "alcohol                   -0.110788          0.046815    -0.076514   \n",
       "quality                   -0.124636         -0.190678     0.007065   \n",
       "\n",
       "                      residual sugar  chlorides  free sulfur dioxide  \\\n",
       "fixed acidity               0.083620   0.024036            -0.058396   \n",
       "volatile acidity            0.098340   0.086287            -0.102471   \n",
       "citric acid                 0.106269   0.132590             0.091681   \n",
       "residual sugar              1.000000   0.076091             0.306835   \n",
       "chlorides                   0.076091   1.000000             0.101272   \n",
       "free sulfur dioxide         0.306835   0.101272             1.000000   \n",
       "total sulfur dioxide        0.409583   0.191145             0.619437   \n",
       "density                     0.820498   0.253088             0.294638   \n",
       "pH                         -0.165997  -0.090573            -0.007750   \n",
       "sulphates                  -0.020503   0.017871             0.037932   \n",
       "alcohol                    -0.398167  -0.356928            -0.251768   \n",
       "quality                    -0.117339  -0.217739             0.010507   \n",
       "\n",
       "                      total sulfur dioxide   density        pH  sulphates  \\\n",
       "fixed acidity                     0.082425  0.266091 -0.431274  -0.017453   \n",
       "volatile acidity                  0.102315  0.060603 -0.046954  -0.021150   \n",
       "citric acid                       0.122845  0.160076 -0.183015   0.049442   \n",
       "residual sugar                    0.409583  0.820498 -0.165997  -0.020503   \n",
       "chlorides                         0.191145  0.253088 -0.090573   0.017871   \n",
       "free sulfur dioxide               0.619437  0.294638 -0.007750   0.037932   \n",
       "total sulfur dioxide              1.000000  0.536868  0.008239   0.136544   \n",
       "density                           0.536868  1.000000 -0.063734   0.082048   \n",
       "pH                                0.008239 -0.063734  1.000000   0.142353   \n",
       "sulphates                         0.136544  0.082048  0.142353   1.000000   \n",
       "alcohol                          -0.446643 -0.760162  0.093095  -0.022850   \n",
       "quality                          -0.183356 -0.337805  0.123829   0.053200   \n",
       "\n",
       "                       alcohol   quality  \n",
       "fixed acidity        -0.110788 -0.124636  \n",
       "volatile acidity      0.046815 -0.190678  \n",
       "citric acid          -0.076514  0.007065  \n",
       "residual sugar       -0.398167 -0.117339  \n",
       "chlorides            -0.356928 -0.217739  \n",
       "free sulfur dioxide  -0.251768  0.010507  \n",
       "total sulfur dioxide -0.446643 -0.183356  \n",
       "density              -0.760162 -0.337805  \n",
       "pH                    0.093095  0.123829  \n",
       "sulphates            -0.022850  0.053200  \n",
       "alcohol               1.000000  0.462869  \n",
       "quality               0.462869  1.000000  "
      ]
     },
     "execution_count": 19,
     "metadata": {},
     "output_type": "execute_result"
    }
   ],
   "source": [
    "data.corr()"
   ]
  },
  {
   "cell_type": "code",
   "execution_count": 20,
   "metadata": {},
   "outputs": [],
   "source": [
    "remove_column = [\"citric acid\", \"sulphates\",\"free sulfur dioxide\" ]"
   ]
  },
  {
   "cell_type": "code",
   "execution_count": 22,
   "metadata": {},
   "outputs": [],
   "source": [
    "data.drop(columns=remove_column, inplace = True)"
   ]
  },
  {
   "cell_type": "code",
   "execution_count": null,
   "metadata": {},
   "outputs": [],
   "source": [
    "#data[\"quality\"] = data[\"quality\"].astype(\"category\")"
   ]
  },
  {
   "cell_type": "code",
   "execution_count": 25,
   "metadata": {},
   "outputs": [],
   "source": [
    "X = data.drop(columns = \"quality\")"
   ]
  },
  {
   "cell_type": "code",
   "execution_count": 26,
   "metadata": {},
   "outputs": [],
   "source": [
    "y = data[\"quality\"]"
   ]
  },
  {
   "cell_type": "code",
   "execution_count": 27,
   "metadata": {},
   "outputs": [],
   "source": [
    "train_X, test_X, train_y, test_y = train_test_split(X, y, test_size = 0.3, random_state = 1)"
   ]
  },
  {
   "cell_type": "code",
   "execution_count": 28,
   "metadata": {},
   "outputs": [],
   "source": [
    "knn = KNeighborsClassifier()"
   ]
  },
  {
   "cell_type": "code",
   "execution_count": 29,
   "metadata": {},
   "outputs": [
    {
     "data": {
      "text/plain": [
       "KNeighborsClassifier(algorithm='auto', leaf_size=30, metric='minkowski',\n",
       "           metric_params=None, n_jobs=1, n_neighbors=5, p=2,\n",
       "           weights='uniform')"
      ]
     },
     "execution_count": 29,
     "metadata": {},
     "output_type": "execute_result"
    }
   ],
   "source": [
    "knn.fit(train_X,train_y)"
   ]
  },
  {
   "cell_type": "code",
   "execution_count": 31,
   "metadata": {},
   "outputs": [],
   "source": [
    "train_pred = knn.predict(train_X)"
   ]
  },
  {
   "cell_type": "code",
   "execution_count": 32,
   "metadata": {},
   "outputs": [],
   "source": [
    "from sklearn.metrics import accuracy_score"
   ]
  },
  {
   "cell_type": "code",
   "execution_count": 33,
   "metadata": {},
   "outputs": [
    {
     "data": {
      "text/plain": [
       "0.6024531024531025"
      ]
     },
     "execution_count": 33,
     "metadata": {},
     "output_type": "execute_result"
    }
   ],
   "source": [
    "accuracy_score(train_pred,train_y)"
   ]
  },
  {
   "cell_type": "code",
   "execution_count": 34,
   "metadata": {},
   "outputs": [],
   "source": [
    "test_pred = knn.predict(test_X)"
   ]
  },
  {
   "cell_type": "code",
   "execution_count": 35,
   "metadata": {},
   "outputs": [
    {
     "data": {
      "text/plain": [
       "0.45836837678721615"
      ]
     },
     "execution_count": 35,
     "metadata": {},
     "output_type": "execute_result"
    }
   ],
   "source": [
    "accuracy_score(test_pred,test_y)"
   ]
  },
  {
   "cell_type": "code",
   "execution_count": 64,
   "metadata": {},
   "outputs": [],
   "source": [
    "from sklearn.preprocessing import StandardScaler, MinMaxScaler"
   ]
  },
  {
   "cell_type": "code",
   "execution_count": 65,
   "metadata": {},
   "outputs": [],
   "source": [
    "scale = StandardScaler()\n",
    "norm  = MinMaxScaler()"
   ]
  },
  {
   "cell_type": "code",
   "execution_count": 66,
   "metadata": {},
   "outputs": [],
   "source": [
    "X_scaled = scale.fit_transform(X)\n",
    "X_normalised = norm.fit_transform(X)"
   ]
  },
  {
   "cell_type": "code",
   "execution_count": 41,
   "metadata": {},
   "outputs": [],
   "source": [
    "def model_fit(model, X, y):\n",
    "    \n",
    "    train_X, test_X, train_y, test_y = train_test_split(X, y, test_size = 0.3, random_state = 1)\n",
    "    model.fit(train_X,train_y)\n",
    "    train_pred = model.predict(train_X)\n",
    "    print(\"Train Accuracy :\",accuracy_score(train_pred,train_y))\n",
    "    test_pred = model.predict(test_X)\n",
    "    print(\"Test Accuracy :\", accuracy_score(test_pred,test_y))\n"
   ]
  },
  {
   "cell_type": "code",
   "execution_count": 42,
   "metadata": {},
   "outputs": [
    {
     "name": "stdout",
     "output_type": "stream",
     "text": [
      "Train Accuracy : 0.6024531024531025\n",
      "Test Accuracy : 0.45836837678721615\n"
     ]
    }
   ],
   "source": [
    "model_fit(knn, X, y)"
   ]
  },
  {
   "cell_type": "code",
   "execution_count": 62,
   "metadata": {},
   "outputs": [],
   "source": [
    "knn = KNeighborsClassifier(n_neighbors=57)"
   ]
  },
  {
   "cell_type": "code",
   "execution_count": 63,
   "metadata": {},
   "outputs": [
    {
     "name": "stdout",
     "output_type": "stream",
     "text": [
      "Train Accuracy : 0.47943722943722944\n",
      "Test Accuracy : 0.4751892346509672\n"
     ]
    }
   ],
   "source": [
    "model_fit(knn, X, y)"
   ]
  },
  {
   "cell_type": "code",
   "execution_count": 43,
   "metadata": {},
   "outputs": [
    {
     "name": "stdout",
     "output_type": "stream",
     "text": [
      "Train Accuracy : 0.6435786435786436\n",
      "Test Accuracy : 0.5130361648444071\n"
     ]
    }
   ],
   "source": [
    "model_fit(knn, X_scaled, y)"
   ]
  },
  {
   "cell_type": "code",
   "execution_count": 67,
   "metadata": {},
   "outputs": [
    {
     "name": "stdout",
     "output_type": "stream",
     "text": [
      "Train Accuracy : 0.5580808080808081\n",
      "Test Accuracy : 0.5441547518923465\n"
     ]
    }
   ],
   "source": [
    "model_fit(knn, X_normalised, y)"
   ]
  },
  {
   "cell_type": "code",
   "execution_count": 71,
   "metadata": {},
   "outputs": [],
   "source": [
    "knn = KNeighborsClassifier(n_neighbors=30)"
   ]
  },
  {
   "cell_type": "code",
   "execution_count": 72,
   "metadata": {},
   "outputs": [
    {
     "name": "stdout",
     "output_type": "stream",
     "text": [
      "Train Accuracy : 0.564935064935065\n",
      "Test Accuracy : 0.5449957947855341\n"
     ]
    }
   ],
   "source": [
    "model_fit(knn, X_normalised, y)"
   ]
  },
  {
   "cell_type": "code",
   "execution_count": 68,
   "metadata": {},
   "outputs": [],
   "source": [
    "\n",
    "def model_fit_k_optimizer(k, X, y):\n",
    "    model = KNeighborsClassifier(n_neighbors=k)\n",
    "    train_X, test_X, train_y, test_y = train_test_split(X, y, test_size = 0.3, random_state = 1)\n",
    "    model.fit(train_X,train_y)\n",
    "    train_pred = model.predict(train_X)\n",
    "    print(\"Train Accuracy :\",accuracy_score(train_pred,train_y))\n",
    "    train_acc = accuracy_score(train_pred,train_y)\n",
    "    test_pred = model.predict(test_X)\n",
    "    print(\"Test Accuracy :\", accuracy_score(test_pred,test_y))\n",
    "    test_acc = accuracy_score(test_pred,test_y)\n",
    "    return train_acc, test_acc"
   ]
  },
  {
   "cell_type": "code",
   "execution_count": 48,
   "metadata": {
    "collapsed": true
   },
   "outputs": [
    {
     "name": "stdout",
     "output_type": "stream",
     "text": [
      "Train Accuracy : 1.0\n",
      "Test Accuracy : 0.47098402018502944\n",
      "Train Accuracy : 0.715007215007215\n",
      "Test Accuracy : 0.4861227922624054\n",
      "Train Accuracy : 0.6435786435786436\n",
      "Test Accuracy : 0.5130361648444071\n",
      "Train Accuracy : 0.6277056277056277\n",
      "Test Accuracy : 0.5189234650967199\n",
      "Train Accuracy : 0.613997113997114\n",
      "Test Accuracy : 0.5323801513877208\n",
      "Train Accuracy : 0.61002886002886\n",
      "Test Accuracy : 0.5332211942809083\n",
      "Train Accuracy : 0.5959595959595959\n",
      "Test Accuracy : 0.5349032800672834\n",
      "Train Accuracy : 0.5894660894660895\n",
      "Test Accuracy : 0.5441547518923465\n",
      "Train Accuracy : 0.5826118326118326\n",
      "Test Accuracy : 0.5449957947855341\n",
      "Train Accuracy : 0.5826118326118326\n",
      "Test Accuracy : 0.543313708999159\n",
      "Train Accuracy : 0.579004329004329\n",
      "Test Accuracy : 0.5399495374264087\n",
      "Train Accuracy : 0.5753968253968254\n",
      "Test Accuracy : 0.5399495374264087\n",
      "Train Accuracy : 0.5746753246753247\n",
      "Test Accuracy : 0.5399495374264087\n",
      "Train Accuracy : 0.5717893217893217\n",
      "Test Accuracy : 0.5424726661059714\n",
      "Train Accuracy : 0.56998556998557\n",
      "Test Accuracy : 0.5483599663582843\n",
      "Train Accuracy : 0.5710678210678211\n",
      "Test Accuracy : 0.5407905803195963\n",
      "Train Accuracy : 0.5670995670995671\n",
      "Test Accuracy : 0.5391084945332212\n",
      "Train Accuracy : 0.5689033189033189\n",
      "Test Accuracy : 0.5399495374264087\n",
      "Train Accuracy : 0.5663780663780664\n",
      "Test Accuracy : 0.5458368376787216\n",
      "Train Accuracy : 0.5692640692640693\n",
      "Test Accuracy : 0.5441547518923465\n",
      "Train Accuracy : 0.5685425685425686\n",
      "Test Accuracy : 0.5508830950378469\n",
      "Train Accuracy : 0.5667388167388168\n",
      "Test Accuracy : 0.5492010092514719\n",
      "Train Accuracy : 0.562049062049062\n",
      "Test Accuracy : 0.5449957947855341\n",
      "Train Accuracy : 0.5631313131313131\n",
      "Test Accuracy : 0.5449957947855341\n",
      "Train Accuracy : 0.5580808080808081\n",
      "Test Accuracy : 0.5466778805719091\n",
      "Train Accuracy : 0.560966810966811\n",
      "Test Accuracy : 0.5449957947855341\n",
      "Train Accuracy : 0.5584415584415584\n",
      "Test Accuracy : 0.5475189234650967\n",
      "Train Accuracy : 0.5606060606060606\n",
      "Test Accuracy : 0.5576114381833474\n",
      "Train Accuracy : 0.5566378066378066\n",
      "Test Accuracy : 0.5492010092514719\n",
      "Train Accuracy : 0.5573593073593074\n",
      "Test Accuracy : 0.5483599663582843\n",
      "Train Accuracy : 0.5551948051948052\n",
      "Test Accuracy : 0.5475189234650967\n",
      "Train Accuracy : 0.5537518037518038\n",
      "Test Accuracy : 0.5500420521446594\n",
      "Train Accuracy : 0.5551948051948052\n",
      "Test Accuracy : 0.5542472666105971\n",
      "Train Accuracy : 0.5515873015873016\n",
      "Test Accuracy : 0.5550883095037847\n",
      "Train Accuracy : 0.5512265512265512\n",
      "Test Accuracy : 0.5576114381833474\n",
      "Train Accuracy : 0.5537518037518038\n",
      "Test Accuracy : 0.5449957947855341\n",
      "Train Accuracy : 0.553030303030303\n",
      "Test Accuracy : 0.5559293523969723\n",
      "Train Accuracy : 0.551948051948052\n",
      "Test Accuracy : 0.5500420521446594\n",
      "Train Accuracy : 0.5501443001443002\n",
      "Test Accuracy : 0.5424726661059714\n",
      "Train Accuracy : 0.5533910533910534\n",
      "Test Accuracy : 0.5508830950378469\n",
      "Train Accuracy : 0.551948051948052\n",
      "Test Accuracy : 0.5458368376787216\n",
      "Train Accuracy : 0.5497835497835498\n",
      "Test Accuracy : 0.5416316232127838\n",
      "Train Accuracy : 0.5487012987012987\n",
      "Test Accuracy : 0.5416316232127838\n",
      "Train Accuracy : 0.5523088023088023\n",
      "Test Accuracy : 0.5416316232127838\n",
      "Train Accuracy : 0.5551948051948052\n",
      "Test Accuracy : 0.5424726661059714\n",
      "Train Accuracy : 0.5497835497835498\n",
      "Test Accuracy : 0.5424726661059714\n",
      "Train Accuracy : 0.5465367965367965\n",
      "Test Accuracy : 0.5382674516400336\n",
      "Train Accuracy : 0.5461760461760462\n",
      "Test Accuracy : 0.5441547518923465\n",
      "Train Accuracy : 0.5425685425685426\n",
      "Test Accuracy : 0.5407905803195963\n",
      "Train Accuracy : 0.5458152958152959\n",
      "Test Accuracy : 0.5424726661059714\n"
     ]
    }
   ],
   "source": [
    "train_acc_list = []\n",
    "test_acc_list = []\n",
    "for i in range(1,100,2):\n",
    "    train_acc, test_acc = model_fit_k_optimizer(i,X_scaled,y)\n",
    "    train_acc_list.append(train_acc)\n",
    "    test_acc_list.append(test_acc)\n",
    "    \n",
    "    "
   ]
  },
  {
   "cell_type": "code",
   "execution_count": 69,
   "metadata": {},
   "outputs": [
    {
     "name": "stdout",
     "output_type": "stream",
     "text": [
      "Train Accuracy : 1.0\n",
      "Test Accuracy : 0.4768713204373423\n",
      "Train Accuracy : 0.7038239538239538\n",
      "Test Accuracy : 0.4894869638351556\n",
      "Train Accuracy : 0.6461038961038961\n",
      "Test Accuracy : 0.5096719932716569\n",
      "Train Accuracy : 0.6179653679653679\n",
      "Test Accuracy : 0.5147182506307821\n",
      "Train Accuracy : 0.604978354978355\n",
      "Test Accuracy : 0.528174936921783\n",
      "Train Accuracy : 0.5963203463203464\n",
      "Test Accuracy : 0.5256518082422204\n",
      "Train Accuracy : 0.5898268398268398\n",
      "Test Accuracy : 0.5349032800672834\n",
      "Train Accuracy : 0.586940836940837\n",
      "Test Accuracy : 0.5298570227081582\n",
      "Train Accuracy : 0.5804473304473304\n",
      "Test Accuracy : 0.5273338940285954\n",
      "Train Accuracy : 0.5826118326118326\n",
      "Test Accuracy : 0.5332211942809083\n",
      "Train Accuracy : 0.5800865800865801\n",
      "Test Accuracy : 0.5365853658536586\n",
      "Train Accuracy : 0.5782828282828283\n",
      "Test Accuracy : 0.5349032800672834\n",
      "Train Accuracy : 0.5681818181818182\n",
      "Test Accuracy : 0.5391084945332212\n",
      "Train Accuracy : 0.5667388167388168\n",
      "Test Accuracy : 0.5483599663582843\n",
      "Train Accuracy : 0.564935064935065\n",
      "Test Accuracy : 0.552565180824222\n",
      "Train Accuracy : 0.5591630591630592\n",
      "Test Accuracy : 0.5500420521446594\n",
      "Train Accuracy : 0.5548340548340548\n",
      "Test Accuracy : 0.543313708999159\n",
      "Train Accuracy : 0.5515873015873016\n",
      "Test Accuracy : 0.5416316232127838\n",
      "Train Accuracy : 0.5555555555555556\n",
      "Test Accuracy : 0.5382674516400336\n",
      "Train Accuracy : 0.5555555555555556\n",
      "Test Accuracy : 0.5382674516400336\n",
      "Train Accuracy : 0.5555555555555556\n",
      "Test Accuracy : 0.5374264087468461\n",
      "Train Accuracy : 0.5562770562770563\n",
      "Test Accuracy : 0.5391084945332212\n",
      "Train Accuracy : 0.5559163059163059\n",
      "Test Accuracy : 0.5340622371740958\n",
      "Train Accuracy : 0.5577200577200577\n",
      "Test Accuracy : 0.5323801513877208\n",
      "Train Accuracy : 0.5537518037518038\n",
      "Test Accuracy : 0.5374264087468461\n",
      "Train Accuracy : 0.5559163059163059\n",
      "Test Accuracy : 0.5407905803195963\n",
      "Train Accuracy : 0.5580808080808081\n",
      "Test Accuracy : 0.5407905803195963\n",
      "Train Accuracy : 0.5548340548340548\n",
      "Test Accuracy : 0.5424726661059714\n",
      "Train Accuracy : 0.5580808080808081\n",
      "Test Accuracy : 0.5441547518923465\n",
      "Train Accuracy : 0.5505050505050505\n",
      "Test Accuracy : 0.5365853658536586\n",
      "Train Accuracy : 0.5508658008658008\n",
      "Test Accuracy : 0.5365853658536586\n",
      "Train Accuracy : 0.5494227994227994\n",
      "Test Accuracy : 0.5349032800672834\n",
      "Train Accuracy : 0.549062049062049\n",
      "Test Accuracy : 0.5424726661059714\n",
      "Train Accuracy : 0.5468975468975469\n",
      "Test Accuracy : 0.543313708999159\n",
      "Train Accuracy : 0.5476190476190477\n",
      "Test Accuracy : 0.5374264087468461\n",
      "Train Accuracy : 0.5476190476190477\n",
      "Test Accuracy : 0.535744322960471\n",
      "Train Accuracy : 0.5465367965367965\n",
      "Test Accuracy : 0.5382674516400336\n",
      "Train Accuracy : 0.5429292929292929\n",
      "Test Accuracy : 0.5391084945332212\n",
      "Train Accuracy : 0.5422077922077922\n",
      "Test Accuracy : 0.5407905803195963\n",
      "Train Accuracy : 0.5465367965367965\n",
      "Test Accuracy : 0.5374264087468461\n",
      "Train Accuracy : 0.5461760461760462\n",
      "Test Accuracy : 0.5365853658536586\n",
      "Train Accuracy : 0.5432900432900433\n",
      "Test Accuracy : 0.535744322960471\n",
      "Train Accuracy : 0.5411255411255411\n",
      "Test Accuracy : 0.5407905803195963\n",
      "Train Accuracy : 0.5418470418470418\n",
      "Test Accuracy : 0.5416316232127838\n",
      "Train Accuracy : 0.5443722943722944\n",
      "Test Accuracy : 0.5449957947855341\n",
      "Train Accuracy : 0.5440115440115441\n",
      "Test Accuracy : 0.5424726661059714\n",
      "Train Accuracy : 0.5465367965367965\n",
      "Test Accuracy : 0.543313708999159\n",
      "Train Accuracy : 0.5447330447330447\n",
      "Test Accuracy : 0.5441547518923465\n",
      "Train Accuracy : 0.5472582972582972\n",
      "Test Accuracy : 0.543313708999159\n",
      "Train Accuracy : 0.5450937950937951\n",
      "Test Accuracy : 0.543313708999159\n"
     ]
    }
   ],
   "source": [
    "train_acc_norm_list = []\n",
    "test_acc_norm_list = []\n",
    "for i in range(1,100,2):\n",
    "    train_acc, test_acc = model_fit_k_optimizer(i,X_normalised,y)\n",
    "    train_acc_norm_list.append(train_acc)\n",
    "    test_acc_norm_list.append(test_acc)\n",
    "    "
   ]
  },
  {
   "cell_type": "code",
   "execution_count": 56,
   "metadata": {},
   "outputs": [],
   "source": [
    "result = pd.DataFrame([np.arange(1,100,2),train_acc_list,test_acc_list]).T"
   ]
  },
  {
   "cell_type": "code",
   "execution_count": 57,
   "metadata": {},
   "outputs": [],
   "source": [
    "result.columns = [\"k\" , \"Train_Acc\", \"Test_Acc\"]"
   ]
  },
  {
   "cell_type": "code",
   "execution_count": 58,
   "metadata": {},
   "outputs": [
    {
     "data": {
      "text/html": [
       "<div>\n",
       "<style scoped>\n",
       "    .dataframe tbody tr th:only-of-type {\n",
       "        vertical-align: middle;\n",
       "    }\n",
       "\n",
       "    .dataframe tbody tr th {\n",
       "        vertical-align: top;\n",
       "    }\n",
       "\n",
       "    .dataframe thead th {\n",
       "        text-align: right;\n",
       "    }\n",
       "</style>\n",
       "<table border=\"1\" class=\"dataframe\">\n",
       "  <thead>\n",
       "    <tr style=\"text-align: right;\">\n",
       "      <th></th>\n",
       "      <th>k</th>\n",
       "      <th>Train_Acc</th>\n",
       "      <th>Test_Acc</th>\n",
       "    </tr>\n",
       "  </thead>\n",
       "  <tbody>\n",
       "    <tr>\n",
       "      <th>0</th>\n",
       "      <td>1.0</td>\n",
       "      <td>1.000000</td>\n",
       "      <td>0.470984</td>\n",
       "    </tr>\n",
       "    <tr>\n",
       "      <th>1</th>\n",
       "      <td>3.0</td>\n",
       "      <td>0.715007</td>\n",
       "      <td>0.486123</td>\n",
       "    </tr>\n",
       "    <tr>\n",
       "      <th>2</th>\n",
       "      <td>5.0</td>\n",
       "      <td>0.643579</td>\n",
       "      <td>0.513036</td>\n",
       "    </tr>\n",
       "    <tr>\n",
       "      <th>3</th>\n",
       "      <td>7.0</td>\n",
       "      <td>0.627706</td>\n",
       "      <td>0.518923</td>\n",
       "    </tr>\n",
       "    <tr>\n",
       "      <th>4</th>\n",
       "      <td>9.0</td>\n",
       "      <td>0.613997</td>\n",
       "      <td>0.532380</td>\n",
       "    </tr>\n",
       "  </tbody>\n",
       "</table>\n",
       "</div>"
      ],
      "text/plain": [
       "     k  Train_Acc  Test_Acc\n",
       "0  1.0   1.000000  0.470984\n",
       "1  3.0   0.715007  0.486123\n",
       "2  5.0   0.643579  0.513036\n",
       "3  7.0   0.627706  0.518923\n",
       "4  9.0   0.613997  0.532380"
      ]
     },
     "execution_count": 58,
     "metadata": {},
     "output_type": "execute_result"
    }
   ],
   "source": [
    "result.head()"
   ]
  },
  {
   "cell_type": "code",
   "execution_count": 59,
   "metadata": {},
   "outputs": [
    {
     "data": {
      "text/plain": [
       "<matplotlib.axes._subplots.AxesSubplot at 0x11c8aacc0>"
      ]
     },
     "execution_count": 59,
     "metadata": {},
     "output_type": "execute_result"
    },
    {
     "data": {
      "image/png": "[encoded data removed]",
      "text/plain": [
       "<Figure size 720x360 with 1 Axes>"
      ]
     },
     "metadata": {},
     "output_type": "display_data"
    }
   ],
   "source": [
    "result.plot(x='k', y=['Train_Acc', 'Test_Acc'], figsize=(10,5), grid=True)"
   ]
  },
  {
   "cell_type": "code",
   "execution_count": 70,
   "metadata": {},
   "outputs": [
    {
     "data": {
      "text/plain": [
       "<matplotlib.axes._subplots.AxesSubplot at 0x11cf00b00>"
      ]
     },
     "execution_count": 70,
     "metadata": {},
     "output_type": "execute_result"
    },
    {
     "data": {
      "image/png": "[encoded data removed]",
      "text/plain": [
       "<Figure size 720x360 with 1 Axes>"
      ]
     },
     "metadata": {},
     "output_type": "display_data"
    }
   ],
   "source": [
    "result = pd.DataFrame([np.arange(1,100,2),train_acc_norm_list,test_acc_norm_list]).T\n",
    "\n",
    "result.columns = [\"k\" , \"Train_Acc\", \"Test_Acc\"]\n",
    "\n",
    "result.head()\n",
    "\n",
    "result.plot(x='k', y=['Train_Acc', 'Test_Acc'], figsize=(10,5), grid=True)"
   ]
  },
  {
   "cell_type": "code",
   "execution_count": 80,
   "metadata": {},
   "outputs": [],
   "source": [
    "def create_poly(train,test,degree):\n",
    "    poly = PolynomialFeatures(degree=degree)\n",
    "    train_poly = poly.fit_transform(train)\n",
    "    test_poly = poly.fit_transform(test)\n",
    "    return train_poly,test_poly"
   ]
  },
  {
   "cell_type": "code",
   "execution_count": 100,
   "metadata": {},
   "outputs": [],
   "source": [
    "train_X_poly, test_X_poly = create_poly(train_X, test_X, 3)"
   ]
  },
  {
   "cell_type": "code",
   "execution_count": 101,
   "metadata": {},
   "outputs": [
    {
     "data": {
      "text/plain": [
       "KNeighborsClassifier(algorithm='auto', leaf_size=30, metric='minkowski',\n",
       "           metric_params=None, n_jobs=1, n_neighbors=30, p=2,\n",
       "           weights='uniform')"
      ]
     },
     "execution_count": 101,
     "metadata": {},
     "output_type": "execute_result"
    }
   ],
   "source": [
    "knn.fit(train_X_poly,train_y)"
   ]
  },
  {
   "cell_type": "code",
   "execution_count": 102,
   "metadata": {},
   "outputs": [
    {
     "data": {
      "text/plain": [
       "0.4797979797979798"
      ]
     },
     "execution_count": 102,
     "metadata": {},
     "output_type": "execute_result"
    }
   ],
   "source": [
    "accuracy_score(train_y, knn.predict(train_X_poly))"
   ]
  },
  {
   "cell_type": "code",
   "execution_count": 103,
   "metadata": {},
   "outputs": [
    {
     "data": {
      "text/plain": [
       "0.46173254835996635"
      ]
     },
     "execution_count": 103,
     "metadata": {},
     "output_type": "execute_result"
    }
   ],
   "source": [
    "accuracy_score(test_y, knn.predict(test_X_poly))"
   ]
  },
  {
   "cell_type": "markdown",
   "metadata": {},
   "source": [
    "# Naive Bayes"
   ]
  },
  {
   "cell_type": "code",
   "execution_count": 73,
   "metadata": {},
   "outputs": [],
   "source": [
    "from sklearn.naive_bayes import GaussianNB"
   ]
  },
  {
   "cell_type": "code",
   "execution_count": 74,
   "metadata": {},
   "outputs": [],
   "source": [
    "nb = GaussianNB()"
   ]
  },
  {
   "cell_type": "code",
   "execution_count": 78,
   "metadata": {},
   "outputs": [
    {
     "name": "stdout",
     "output_type": "stream",
     "text": [
      "Train Accuracy : 0.455988455988456\n",
      "Test Accuracy : 0.4449116904962153\n"
     ]
    }
   ],
   "source": [
    "model_fit(nb, X, y)"
   ]
  },
  {
   "cell_type": "code",
   "execution_count": 79,
   "metadata": {},
   "outputs": [
    {
     "name": "stdout",
     "output_type": "stream",
     "text": [
      "Train Accuracy : 0.4491341991341991\n",
      "Test Accuracy : 0.43986543313709\n"
     ]
    }
   ],
   "source": [
    "model_fit(nb, X_normalised, y)"
   ]
  },
  {
   "cell_type": "code",
   "execution_count": null,
   "metadata": {},
   "outputs": [],
   "source": []
  }
 ],
 "metadata": {
  "kernelspec": {
   "display_name": "Python 3",
   "language": "python",
   "name": "python3"
  },
  "language_info": {
   "codemirror_mode": {
    "name": "ipython",
    "version": 3
   },
   "file_extension": ".py",
   "mimetype": "text/x-python",
   "name": "python",
   "nbconvert_exporter": "python",
   "pygments_lexer": "ipython3",
   "version": "3.6.4"
  }
 },
 "nbformat": 4,
 "nbformat_minor": 2
}
