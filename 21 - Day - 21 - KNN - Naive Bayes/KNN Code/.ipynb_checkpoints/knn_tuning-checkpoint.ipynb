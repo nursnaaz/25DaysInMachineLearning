{
 "cells": [
  {
   "cell_type": "code",
   "execution_count": 1,
   "metadata": {},
   "outputs": [],
   "source": [
    "import pandas as pd\n",
    "import numpy as np\n",
    "import matplotlib.pyplot as plt\n",
    "%matplotlib inline\n",
    "from sklearn.linear_model import LogisticRegression\n",
    "from sklearn.preprocessing import StandardScaler\n",
    "from sklearn.neighbors import KNeighborsClassifier\n",
    "from sklearn.model_selection import train_test_split\n",
    "from sklearn.metrics import accuracy_score\n",
    "from sklearn.preprocessing import PolynomialFeatures\n",
    "import warnings\n",
    "warnings.filterwarnings(\"ignore\")\n",
    "np.random.seed(42)"
   ]
  },
  {
   "cell_type": "code",
   "execution_count": 2,
   "metadata": {},
   "outputs": [],
   "source": [
    "df = pd.read_csv(\"http://archive.ics.uci.edu/ml/machine-learning-databases/wine-quality/winequality-white.csv\", sep = ';')\n",
    "y = df.pop('quality')"
   ]
  },
  {
   "cell_type": "code",
   "execution_count": 3,
   "metadata": {},
   "outputs": [],
   "source": [
    "for i in df.columns:\n",
    "    df[i] = df[i].fillna(np.mean(df[i]))\n",
    "train, test, y_train, y_test = train_test_split(df, y, test_size = 0.2)"
   ]
  },
  {
   "cell_type": "code",
   "execution_count": 4,
   "metadata": {},
   "outputs": [
    {
     "name": "stdout",
     "output_type": "stream",
     "text": [
      "Accuracy score baseline: 0.5163265306122449\n"
     ]
    }
   ],
   "source": [
    "lr = LogisticRegression()\n",
    "lr.fit(train, y_train)\n",
    "y_pred = lr.predict(test)\n",
    "print('Accuracy score baseline:', accuracy_score(y_test, y_pred))"
   ]
  },
  {
   "cell_type": "code",
   "execution_count": 5,
   "metadata": {},
   "outputs": [],
   "source": [
    "def fit_predict(train, test, y_train, y_test, scaler, \n",
    "                n_neighbours, metric = 'manhattan', weights = 'uniform'):\n",
    "    train_scaled = scaler.fit_transform(train)\n",
    "    test_scaled = scaler.transform(test)        \n",
    "    knn = KNeighborsClassifier(n_neighbors=n_neighbours, metric=metric, \n",
    "                               weights=weights, n_jobs = 4)\n",
    "    knn.fit(train_scaled, y_train)\n",
    "    y_pred = knn.predict(test_scaled)\n",
    "    print(accuracy_score(y_test, y_pred))"
   ]
  },
  {
   "cell_type": "markdown",
   "metadata": {},
   "source": [
    "### Neighbours tuning"
   ]
  },
  {
   "cell_type": "code",
   "execution_count": 6,
   "metadata": {},
   "outputs": [
    {
     "name": "stdout",
     "output_type": "stream",
     "text": [
      "Accuracy score on kNN using n_neighbours = 2: 0.5724489795918367\n",
      "Accuracy score on kNN using n_neighbours = 4: 0.5551020408163265\n",
      "Accuracy score on kNN using n_neighbours = 8: 0.5438775510204081\n",
      "Accuracy score on kNN using n_neighbours = 16: 0.5418367346938775\n",
      "Accuracy score on kNN using n_neighbours = 32: 0.5520408163265306\n",
      "Accuracy score on kNN using n_neighbours = 64: 0.5387755102040817\n",
      "Accuracy score on kNN using n_neighbours = 128: 0.5295918367346939\n",
      "Accuracy score on kNN using n_neighbours = 256: 0.5163265306122449\n",
      "Accuracy score on kNN using n_neighbours = 512: 0.5040816326530613\n",
      "Accuracy score on kNN using n_neighbours = 1024: 0.47244897959183674\n",
      "Accuracy score on kNN using n_neighbours = 2048: 0.44081632653061226\n"
     ]
    }
   ],
   "source": [
    "for k in range(1,12):\n",
    "    print('Accuracy score on kNN using n_neighbours = {0}:'.format(2**k), end = ' ')\n",
    "    fit_predict(train, test, y_train, y_test, StandardScaler(), 2**k)"
   ]
  },
  {
   "cell_type": "code",
   "execution_count": 7,
   "metadata": {},
   "outputs": [
    {
     "name": "stdout",
     "output_type": "stream",
     "text": [
      "Accuracy score on kNN using n_neighbours = 4: 0.5551020408163265\n",
      "Accuracy score on kNN using n_neighbours = 7: 0.5581632653061225\n",
      "Accuracy score on kNN using n_neighbours = 13: 0.5438775510204081\n",
      "Accuracy score on kNN using n_neighbours = 25: 0.55\n",
      "Accuracy score on kNN using n_neighbours = 48: 0.5469387755102041\n",
      "Accuracy score on kNN using n_neighbours = 90: 0.5346938775510204\n",
      "Accuracy score on kNN using n_neighbours = 168: 0.5285714285714286\n",
      "Accuracy score on kNN using n_neighbours = 315: 0.5153061224489796\n",
      "Accuracy score on kNN using n_neighbours = 588: 0.4928571428571429\n",
      "Accuracy score on kNN using n_neighbours = 1097: 0.4673469387755102\n",
      "Accuracy score on kNN using n_neighbours = 2048: 0.44081632653061226\n"
     ]
    }
   ],
   "source": [
    "for k in np.logspace(2, 11, base = 2, num = 11, dtype=int).tolist():\n",
    "    print('Accuracy score on kNN using n_neighbours = {0}:'.format(k), end = ' ')\n",
    "    fit_predict(train, test, y_train, y_test, StandardScaler(), k)"
   ]
  },
  {
   "cell_type": "markdown",
   "metadata": {},
   "source": [
    "### Metric tuning"
   ]
  },
  {
   "cell_type": "code",
   "execution_count": 8,
   "metadata": {},
   "outputs": [
    {
     "name": "stdout",
     "output_type": "stream",
     "text": [
      "Accuracy score on kNN using euclidean metric and 2048 neighbours: 0.573469387755102\n",
      "Accuracy score on kNN using cosine metric and 2048 neighbours: 0.5510204081632653\n",
      "Accuracy score on kNN using manhattan metric and 2048 neighbours: 0.5724489795918367\n",
      "Accuracy score on kNN using chebyshev metric and 2048 neighbours: 0.5744897959183674\n"
     ]
    }
   ],
   "source": [
    "for metric in ['euclidean', 'cosine', 'manhattan', 'chebyshev']:\n",
    "    print('Accuracy score on kNN using {} metric and {} neighbours:'.format(metric,k), end = ' ')\n",
    "    fit_predict(train, test, y_train, y_test, StandardScaler(), 2, metric)"
   ]
  },
  {
   "cell_type": "markdown",
   "metadata": {},
   "source": [
    "### Weighted kNN"
   ]
  },
  {
   "cell_type": "code",
   "execution_count": 9,
   "metadata": {},
   "outputs": [
    {
     "name": "stdout",
     "output_type": "stream",
     "text": [
      "Accuracy score on kNN using weights = uniform: 0.5744897959183674\n",
      "Accuracy score on kNN using weights = distance: 0.6489795918367347\n"
     ]
    }
   ],
   "source": [
    "for weights in ['uniform', 'distance']:\n",
    "    print('Accuracy score on kNN using weights = {0}:'.format(weights), end = ' ')\n",
    "    fit_predict(train, test, y_train, y_test, StandardScaler(), 2, 'chebyshev', weights = weights)"
   ]
  },
  {
   "cell_type": "markdown",
   "metadata": {},
   "source": [
    "### Engineering"
   ]
  },
  {
   "cell_type": "code",
   "execution_count": 10,
   "metadata": {},
   "outputs": [],
   "source": [
    "def create_poly(train,test,degree):\n",
    "    poly = PolynomialFeatures(degree=degree)\n",
    "    train_poly = poly.fit_transform(train)\n",
    "    test_poly = poly.fit_transform(test)\n",
    "    return train_poly,test_poly"
   ]
  },
  {
   "cell_type": "code",
   "execution_count": 11,
   "metadata": {},
   "outputs": [
    {
     "name": "stdout",
     "output_type": "stream",
     "text": [
      "Polynomial degree 1\n",
      "0.6489795918367347\n",
      "----------\n",
      "Polynomial degree 2\n",
      "0.6408163265306123\n",
      "----------\n",
      "Polynomial degree 3\n",
      "0.6428571428571429\n",
      "----------\n"
     ]
    }
   ],
   "source": [
    "for degree in [1,2,3]:\n",
    "    train_poly, test_poly = create_poly(train, test, degree)\n",
    "    print('Polynomial degree',degree)\n",
    "    fit_predict(train_poly, test_poly, y_train, y_test, StandardScaler(), 2, 'chebyshev', weights = 'distance')\n",
    "    print(10*'-')\n",
    "    \n",
    "train_poly, test_poly = create_poly(train, test, 2) "
   ]
  },
  {
   "cell_type": "code",
   "execution_count": 12,
   "metadata": {},
   "outputs": [],
   "source": [
    "def feat_eng(df):\n",
    "    df['eng1'] = df['fixed acidity'] * df['pH']\n",
    "    df['eng2'] = df['total sulfur dioxide'] / df['free sulfur dioxide']\n",
    "    df['eng3'] = df['sulphates'] / df['chlorides']\n",
    "    df['eng4'] = df['chlorides'] / df['sulphates']\n",
    "    return df\n",
    "\n",
    "train = feat_eng(train)\n",
    "test = feat_eng(test)"
   ]
  },
  {
   "cell_type": "code",
   "execution_count": 13,
   "metadata": {},
   "outputs": [
    {
     "name": "stdout",
     "output_type": "stream",
     "text": [
      "Accuracy score after engineering: 0.6704081632653062\n"
     ]
    }
   ],
   "source": [
    "print('Accuracy score after engineering:', end = ' ')\n",
    "fit_predict(train, test, y_train, y_test, StandardScaler(), 2, 'chebyshev', weights = 'distance')"
   ]
  },
  {
   "cell_type": "code",
   "execution_count": 14,
   "metadata": {},
   "outputs": [
    {
     "name": "stdout",
     "output_type": "stream",
     "text": [
      "overall improvement is 30.36 %\n"
     ]
    }
   ],
   "source": [
    "original_score = 0.514285714286\n",
    "best_score = 0.670408163265\n",
    "improvement = np.abs(np.round(100*(original_score - best_score)/original_score,2))\n",
    "print('overall improvement is {} %'.format(improvement))"
   ]
  },
  {
   "cell_type": "code",
   "execution_count": null,
   "metadata": {},
   "outputs": [],
   "source": []
  },
  {
   "cell_type": "code",
   "execution_count": null,
   "metadata": {},
   "outputs": [],
   "source": []
  },
  {
   "cell_type": "code",
   "execution_count": null,
   "metadata": {},
   "outputs": [],
   "source": []
  }
 ],
 "metadata": {
  "kernelspec": {
   "display_name": "Python 3",
   "language": "python",
   "name": "python3"
  },
  "language_info": {
   "codemirror_mode": {
    "name": "ipython",
    "version": 3
   },
   "file_extension": ".py",
   "mimetype": "text/x-python",
   "name": "python",
   "nbconvert_exporter": "python",
   "pygments_lexer": "ipython3",
   "version": "3.6.4"
  }
 },
 "nbformat": 4,
 "nbformat_minor": 2
}
