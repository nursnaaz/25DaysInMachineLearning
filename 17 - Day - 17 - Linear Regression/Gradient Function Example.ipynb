{
 "cells": [
  {
   "cell_type": "markdown",
   "metadata": {},
   "source": [
    "The gradient descent algorithm is applied to find a local minimum of the function f(x)=x4−3x3+2, with derivative f'(x)=4x3−9x2. Here is an implementation in the Python programming language."
   ]
  },
  {
   "cell_type": "code",
   "execution_count": 7,
   "metadata": {},
   "outputs": [
    {
     "name": "stdout",
     "output_type": "stream",
     "text": [
      "prev_x 6\n",
      "prev_x 0.5999999999999996\n",
      "prev_x 0.6237599999999996\n",
      "prev_x 0.6490692731402646\n",
      "prev_x 0.6760475763767438\n",
      "prev_x 0.704821965498881\n",
      "prev_x 0.7355261366038248\n",
      "prev_x 0.7682992721113444\n",
      "prev_x 0.8032842278686305\n",
      "prev_x 0.840624861847519\n",
      "prev_x 0.8804622684298664\n",
      "prev_x 0.9229296507309586\n",
      "prev_x 0.9681455460305634\n",
      "prev_x 1.016205130521792\n",
      "prev_x 1.067169389942697\n",
      "prev_x 1.1210520795330405\n",
      "prev_x 1.1778046421472836\n",
      "prev_x 1.237299637824332\n",
      "prev_x 1.2993137782331108\n",
      "prev_x 1.3635123370474889\n",
      "prev_x 1.429437442158506\n",
      "prev_x 1.4965033788967752\n",
      "prev_x 1.5640022802344904\n",
      "prev_x 1.6311231270849003\n",
      "prev_x 1.6969855549473505\n",
      "prev_x 1.7606875094969714\n",
      "prev_x 1.821362659674955\n",
      "prev_x 1.8782404675959476\n",
      "prev_x 1.930700009196379\n",
      "prev_x 1.9783089472809865\n",
      "prev_x 2.0208417065692057\n",
      "prev_x 2.0582751831448975\n",
      "prev_x 2.090764845528107\n",
      "prev_x 2.118607415721545\n",
      "prev_x 2.1421976265432066\n",
      "prev_x 2.1619858762300224\n",
      "prev_x 2.178441640823547\n",
      "prev_x 2.1920251576443675\n",
      "prev_x 2.203167862727841\n",
      "prev_x 2.2122606942724694\n",
      "prev_x 2.2196486877629633\n",
      "prev_x 2.2256301304909205\n",
      "prev_x 2.2304587076907274\n",
      "prev_x 2.234347382687595\n",
      "prev_x 2.2374730902946083\n",
      "prev_x 2.239981621916576\n",
      "prev_x 2.2419923174775156\n",
      "prev_x 2.243602351591089\n",
      "prev_x 2.2448905184851697\n",
      "prev_x 2.2459204946033684\n",
      "The local minimum occurs at 2.2467436015363202\n"
     ]
    }
   ],
   "source": [
    "# From calculation, it is expected that the local minimum occurs at x=9/4\n",
    "\n",
    "cur_x = 6 # The algorithm starts at x=6\n",
    "gamma = 0.01 # step size multiplier\n",
    "precision = 0.001\n",
    "previous_step_size = 1 \n",
    "max_iters = 100000 # maximum number of iterations\n",
    "iters = 0 #iteration counter\n",
    "\n",
    "df = lambda x: 4 * x**3 - 9 * x**2\n",
    "\n",
    "while ((previous_step_size > precision) and (iters < max_iters)):\n",
    "    prev_x = cur_x\n",
    "    cur_x -= gamma * df(prev_x)\n",
    "    previous_step_size = abs(cur_x - prev_x)\n",
    "    iters += 1\n",
    "    #print(\"cur_x\",cur_x)\n",
    "    #print(\"gamma\",gamma)\n",
    "    print(\"prev_x\",prev_x)\n",
    "    \n",
    "\n",
    "print(\"The local minimum occurs at\", cur_x)\n",
    "#The output for the above will be: ('The local minimum occurs at', 2.2499646074278457)"
   ]
  },
  {
   "cell_type": "code",
   "execution_count": null,
   "metadata": {},
   "outputs": [],
   "source": []
  }
 ],
 "metadata": {
  "kernelspec": {
   "display_name": "Python 3",
   "language": "python",
   "name": "python3"
  },
  "language_info": {
   "codemirror_mode": {
    "name": "ipython",
    "version": 3
   },
   "file_extension": ".py",
   "mimetype": "text/x-python",
   "name": "python",
   "nbconvert_exporter": "python",
   "pygments_lexer": "ipython3",
   "version": "3.6.4"
  }
 },
 "nbformat": 4,
 "nbformat_minor": 2
}
