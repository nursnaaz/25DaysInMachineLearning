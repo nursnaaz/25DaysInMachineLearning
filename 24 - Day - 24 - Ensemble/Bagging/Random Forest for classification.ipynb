{
 "cells": [
  {
   "cell_type": "code",
   "execution_count": 1,
   "metadata": {
    "collapsed": true
   },
   "outputs": [],
   "source": [
    "import pandas as pd\n",
    "import numpy as np\n",
    "import matplotlib.pyplot as plt\n",
    "%matplotlib inline\n",
    "from sklearn.preprocessing import StandardScaler\n",
    "from sklearn.linear_model import LogisticRegression\n",
    "from sklearn.ensemble import RandomForestClassifier\n",
    "from sklearn.model_selection import train_test_split\n",
    "from sklearn.metrics import accuracy_score\n",
    "from sklearn.preprocessing import PolynomialFeatures\n",
    "import warnings\n",
    "warnings.filterwarnings(\"ignore\")\n",
    "np.random.seed(42)"
   ]
  },
  {
   "cell_type": "code",
   "execution_count": 4,
   "metadata": {},
   "outputs": [
    {
     "data": {
      "text/plain": [
       "Index(['fixed acidity', 'volatile acidity', 'citric acid', 'residual sugar',\n",
       "       'chlorides', 'free sulfur dioxide', 'total sulfur dioxide', 'density',\n",
       "       'pH', 'sulphates', 'alcohol', 'quality'],\n",
       "      dtype='object')"
      ]
     },
     "execution_count": 4,
     "metadata": {},
     "output_type": "execute_result"
    }
   ],
   "source": [
    "df = pd.read_csv(\"http://archive.ics.uci.edu/ml/machine-learning-databases/wine-quality/winequality-white.csv\", sep = ';')\n",
    "df.columns"
   ]
  },
  {
   "cell_type": "code",
   "execution_count": 6,
   "metadata": {
    "collapsed": true
   },
   "outputs": [],
   "source": [
    "df = pd.read_csv(\"http://archive.ics.uci.edu/ml/machine-learning-databases/wine-quality/winequality-white.csv\", sep = ';')\n",
    "y = df.pop('quality')\n",
    "for i in df.columns:\n",
    "    df[i] = df[i].fillna(np.mean(df[i]))\n",
    "train, test, y_train, y_test = train_test_split(df, y, test_size = 0.2)"
   ]
  },
  {
   "cell_type": "code",
   "execution_count": null,
   "metadata": {
    "collapsed": true
   },
   "outputs": [],
   "source": [
    "LogisticRegression"
   ]
  },
  {
   "cell_type": "code",
   "execution_count": 7,
   "metadata": {},
   "outputs": [
    {
     "name": "stdout",
     "output_type": "stream",
     "text": [
      "Accuracy score baseline: 0.5418367346938775\n"
     ]
    }
   ],
   "source": [
    "lr = LogisticRegression()\n",
    "lr.fit(train, y_train)\n",
    "y_pred = lr.predict(test)\n",
    "print('Accuracy score baseline:', accuracy_score(y_test, y_pred))"
   ]
  },
  {
   "cell_type": "code",
   "execution_count": 8,
   "metadata": {
    "collapsed": true
   },
   "outputs": [],
   "source": [
    "def fit_predict(train, test, y_train, y_test,  max_depth = None , \n",
    "                n_estimators = 10, max_features = 'auto', min_samples_split = 2,scaler = None):\n",
    "    if scaler:\n",
    "        train = scaler.fit_transform(train)\n",
    "        test = scaler.transform(test)        \n",
    "    RF = RandomForestClassifier(n_estimators = n_estimators, max_depth=max_depth, \n",
    "                                random_state = 42, max_features = max_features,\n",
    "                               min_samples_split = min_samples_split)\n",
    "    RF.fit(train, y_train)\n",
    "    y_pred = RF.predict(test)\n",
    "    print(accuracy_score(y_test, y_pred))"
   ]
  },
  {
   "cell_type": "code",
   "execution_count": 9,
   "metadata": {},
   "outputs": [
    {
     "name": "stdout",
     "output_type": "stream",
     "text": [
      "baseline accuracy score: 0.6489795918367347\n",
      "baseline accuracy score with scaler: 0.6489795918367347\n"
     ]
    }
   ],
   "source": [
    "print('baseline accuracy score', end = ': ')\n",
    "fit_predict(train,test,y_train,y_test)\n",
    "print('baseline accuracy score with scaler', end = ': ')\n",
    "fit_predict(train,test,y_train,y_test,scaler=StandardScaler())"
   ]
  },
  {
   "cell_type": "code",
   "execution_count": 10,
   "metadata": {},
   "outputs": [
    {
     "name": "stdout",
     "output_type": "stream",
     "text": [
      "Accuracy score using n_estimators = 20: 0.6571428571428571\n",
      "Accuracy score using n_estimators = 40: 0.6683673469387755\n",
      "Accuracy score using n_estimators = 60: 0.6693877551020408\n",
      "Accuracy score using n_estimators = 80: 0.676530612244898\n",
      "Accuracy score using n_estimators = 100: 0.6724489795918367\n",
      "Accuracy score using n_estimators = 120: 0.6795918367346939\n",
      "Accuracy score using n_estimators = 140: 0.6836734693877551\n",
      "Accuracy score using n_estimators = 160: 0.6795918367346939\n",
      "Accuracy score using n_estimators = 180: 0.6836734693877551\n"
     ]
    }
   ],
   "source": [
    "for n_estimators in range(20,200,20):\n",
    "    print('Accuracy score using n_estimators =', n_estimators, end = ': ')\n",
    "    fit_predict(train,test,y_train,y_test,n_estimators = n_estimators)\n"
   ]
  },
  {
   "cell_type": "code",
   "execution_count": 7,
   "metadata": {},
   "outputs": [
    {
     "name": "stdout",
     "output_type": "stream",
     "text": [
      "Accuracy score using max_depth = 1: 0.44081632653061226\n",
      "Accuracy score using max_depth = 2: 0.4897959183673469\n",
      "Accuracy score using max_depth = 3: 0.49387755102040815\n",
      "Accuracy score using max_depth = 4: 0.5051020408163265\n",
      "Accuracy score using max_depth = 5: 0.5244897959183673\n",
      "Accuracy score using max_depth = 6: 0.5357142857142857\n",
      "Accuracy score using max_depth = 7: 0.563265306122449\n",
      "Accuracy score using max_depth = 8: 0.5826530612244898\n",
      "Accuracy score using max_depth = 9: 0.5959183673469388\n",
      "Accuracy score using max_depth = 10: 0.6091836734693877\n",
      "Accuracy score using max_depth = 11: 0.6469387755102041\n",
      "Accuracy score using max_depth = 12: 0.6744897959183673\n",
      "Accuracy score using max_depth = 13: 0.6795918367346939\n",
      "Accuracy score using max_depth = 14: 0.6979591836734694\n",
      "Accuracy score using max_depth = 15: 0.7010204081632653\n",
      "Accuracy score using max_depth = 16: 0.6959183673469388\n",
      "Accuracy score using max_depth = 17: 0.6969387755102041\n",
      "Accuracy score using max_depth = 18: 0.7020408163265306\n",
      "Accuracy score using max_depth = 19: 0.7010204081632653\n"
     ]
    }
   ],
   "source": [
    "for max_depth in range(1,20):\n",
    "    print('Accuracy score using max_depth =', max_depth, end = ': ')\n",
    "    fit_predict(train,test,y_train,y_test,n_estimators = 160,max_depth = max_depth)\n"
   ]
  },
  {
   "cell_type": "code",
   "execution_count": 8,
   "metadata": {},
   "outputs": [
    {
     "name": "stdout",
     "output_type": "stream",
     "text": [
      "Accuracy score using max_features = 0.1: 0.6969387755102041\n",
      "Accuracy score using max_features = 0.2: 0.7040816326530612\n",
      "Accuracy score using max_features = 0.30000000000000004: 0.7020408163265306\n",
      "Accuracy score using max_features = 0.4: 0.6948979591836735\n",
      "Accuracy score using max_features = 0.5: 0.6969387755102041\n",
      "Accuracy score using max_features = 0.6: 0.6908163265306122\n",
      "Accuracy score using max_features = 0.7000000000000001: 0.6969387755102041\n",
      "Accuracy score using max_features = 0.8: 0.6989795918367347\n",
      "Accuracy score using max_features = 0.9: 0.6918367346938775\n",
      "Accuracy score using max_features = 1.0: 0.7020408163265306\n"
     ]
    }
   ],
   "source": [
    "for max_features in np.linspace(0.1,1,10):\n",
    "    print('Accuracy score using max_features =', max_features, end = ': ')\n",
    "    fit_predict(train,test,y_train,y_test,n_estimators = 160,max_features = max_features,max_depth = 18)\n"
   ]
  },
  {
   "cell_type": "code",
   "execution_count": 9,
   "metadata": {},
   "outputs": [
    {
     "name": "stdout",
     "output_type": "stream",
     "text": [
      "Accuracy score using min_samples_split = 2: 0.7040816326530612\n",
      "Accuracy score using min_samples_split = 3: 0.7193877551020408\n",
      "Accuracy score using min_samples_split = 4: 0.7040816326530612\n",
      "Accuracy score using min_samples_split = 5: 0.6938775510204082\n",
      "Accuracy score using min_samples_split = 6: 0.6938775510204082\n",
      "Accuracy score using min_samples_split = 7: 0.6857142857142857\n",
      "Accuracy score using min_samples_split = 8: 0.6806122448979591\n",
      "Accuracy score using min_samples_split = 9: 0.6714285714285714\n"
     ]
    }
   ],
   "source": [
    "for min_samples_split in range(2,10):\n",
    "    print('Accuracy score using min_samples_split =', min_samples_split, end = ': ')\n",
    "    fit_predict(train,test,y_train,y_test,n_estimators = 160,max_features = 0.2,min_samples_split=min_samples_split\n",
    "               ,max_depth = 18)\n"
   ]
  },
  {
   "cell_type": "code",
   "execution_count": 11,
   "metadata": {},
   "outputs": [
    {
     "name": "stdout",
     "output_type": "stream",
     "text": [
      "tuned accuracy score: 0.6806122448979591\n",
      "tuned accuracy score with scaler: 0.6806122448979591\n"
     ]
    }
   ],
   "source": [
    "print('tuned accuracy score', end = ': ')\n",
    "fit_predict(train,test,y_train,y_test,n_estimators = 160,max_features = 0.2,min_samples_split=3,max_depth = 18)\n",
    "print('tuned accuracy score with scaler', end = ': ')\n",
    "\n",
    "fit_predict(train,test,y_train,y_test,n_estimators = 160,max_features = 0.2,min_samples_split=3,\n",
    "            max_depth = 18,scaler=StandardScaler())"
   ]
  },
  {
   "cell_type": "code",
   "execution_count": 11,
   "metadata": {},
   "outputs": [
    {
     "name": "stdout",
     "output_type": "stream",
     "text": [
      "overall improvement is 39.88 %\n"
     ]
    }
   ],
   "source": [
    "original_score = 0.514285714286\n",
    "best_score = 0.7193877551020408\n",
    "improvement = np.abs(np.round(100*(original_score - best_score)/original_score,2))\n",
    "print('overall improvement is {} %'.format(improvement))"
   ]
  },
  {
   "cell_type": "code",
   "execution_count": 12,
   "metadata": {},
   "outputs": [
    {
     "name": "stdout",
     "output_type": "stream",
     "text": [
      "overall improvement compare to non tuned model is 11.9 %\n"
     ]
    }
   ],
   "source": [
    "original_score = 0.6428571428571429\n",
    "best_score = 0.7193877551020408\n",
    "improvement = np.abs(np.round(100*(original_score - best_score)/original_score,2))\n",
    "print('overall improvement compare to non tuned model is {} %'.format(improvement))"
   ]
  }
 ],
 "metadata": {
  "kernelspec": {
   "display_name": "Python 3",
   "language": "python",
   "name": "python3"
  },
  "language_info": {
   "codemirror_mode": {
    "name": "ipython",
    "version": 3
   },
   "file_extension": ".py",
   "mimetype": "text/x-python",
   "name": "python",
   "nbconvert_exporter": "python",
   "pygments_lexer": "ipython3",
   "version": "3.6.4"
  }
 },
 "nbformat": 4,
 "nbformat_minor": 2
}
