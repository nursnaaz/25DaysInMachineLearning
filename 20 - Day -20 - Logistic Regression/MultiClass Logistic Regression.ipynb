{
 "cells": [
  {
   "cell_type": "markdown",
   "metadata": {},
   "source": [
    "# Multi Class Logistic Regression"
   ]
  },
  {
   "cell_type": "markdown",
   "metadata": {},
   "source": [
    "# OVR - One Over Rest"
   ]
  },
  {
   "cell_type": "code",
   "execution_count": 5,
   "metadata": {},
   "outputs": [
    {
     "name": "stdout",
     "output_type": "stream",
     "text": [
      "Report for One Vs Rest Strategy\n",
      "             precision    recall  f1-score   support\n",
      "\n",
      "          0       1.00      0.71      0.83         7\n",
      "          1       0.40      1.00      0.57         4\n",
      "          2       1.00      0.78      0.88        18\n",
      "\n",
      "avg / total       0.92      0.79      0.82        29\n",
      "\n",
      "Accuracy ::  0.793103448276\n"
     ]
    },
    {
     "data": {
      "text/html": [
       "<div>\n",
       "<style scoped>\n",
       "    .dataframe tbody tr th:only-of-type {\n",
       "        vertical-align: middle;\n",
       "    }\n",
       "\n",
       "    .dataframe tbody tr th {\n",
       "        vertical-align: top;\n",
       "    }\n",
       "\n",
       "    .dataframe thead th {\n",
       "        text-align: right;\n",
       "    }\n",
       "</style>\n",
       "<table border=\"1\" class=\"dataframe\">\n",
       "  <thead>\n",
       "    <tr style=\"text-align: right;\">\n",
       "      <th></th>\n",
       "      <th>0</th>\n",
       "      <th>1</th>\n",
       "      <th>2</th>\n",
       "    </tr>\n",
       "  </thead>\n",
       "  <tbody>\n",
       "    <tr>\n",
       "      <th>0</th>\n",
       "      <td>5</td>\n",
       "      <td>2</td>\n",
       "      <td>0</td>\n",
       "    </tr>\n",
       "    <tr>\n",
       "      <th>1</th>\n",
       "      <td>0</td>\n",
       "      <td>4</td>\n",
       "      <td>0</td>\n",
       "    </tr>\n",
       "    <tr>\n",
       "      <th>2</th>\n",
       "      <td>0</td>\n",
       "      <td>4</td>\n",
       "      <td>14</td>\n",
       "    </tr>\n",
       "  </tbody>\n",
       "</table>\n",
       "</div>"
      ],
      "text/plain": [
       "   0  1   2\n",
       "0  5  2   0\n",
       "1  0  4   0\n",
       "2  0  4  14"
      ]
     },
     "execution_count": 5,
     "metadata": {},
     "output_type": "execute_result"
    }
   ],
   "source": [
    "from sklearn import datasets\n",
    "import numpy as np\n",
    "from sklearn.linear_model import LogisticRegression\n",
    "from sklearn.metrics import classification_report, confusion_matrix, accuracy_score\n",
    "import pandas as pd\n",
    "# loading data\n",
    "iris = datasets.load_iris()\n",
    "\n",
    "# sperate training and test\n",
    "msk = np.random.rand(len(iris.target)) < 0.8\n",
    "train_X = iris.data[msk]\n",
    "train_Y = iris.target[msk]\n",
    "\n",
    "test_X = iris.data[~msk]\n",
    "test_Y = iris.target[~msk]\n",
    "\n",
    "# regularization\n",
    "reg = 0.01\n",
    "\n",
    "# multi-class stretegies\n",
    "# One Vs All(Rest) (OVA) -- default\n",
    "OVRModel = LogisticRegression(C=reg, multi_class='ovr', solver='newton-cg',class_weight=None)\n",
    "OVRModel.fit(train_X, train_Y)\n",
    "\n",
    "# predict test\n",
    "predVals = OVRModel.predict(test_X)\n",
    "\n",
    "# checking acc\n",
    "totalNum = len(test_Y)\n",
    "truePredCount = sum(np.equal(predVals, test_Y))\n",
    "print('Report for One Vs Rest Strategy')\n",
    "print(classification_report(predVals, test_Y))\n",
    "print(\"Accuracy :: \",accuracy_score(predVals, test_Y))\n",
    "labels = [0,1,2]\n",
    "pd.DataFrame(confusion_matrix(predVals, test_Y),index=labels, columns=labels)\n"
   ]
  },
  {
   "cell_type": "markdown",
   "metadata": {},
   "source": [
    "# One Vs One\n",
    "# One Vs OnO is a voting strategy based on comparing each model to another model\n"
   ]
  },
  {
   "cell_type": "code",
   "execution_count": 6,
   "metadata": {},
   "outputs": [
    {
     "name": "stdout",
     "output_type": "stream",
     "text": [
      "Report for One Vs One Strategy\n",
      "             precision    recall  f1-score   support\n",
      "\n",
      "          0       1.00      1.00      1.00         5\n",
      "          1       0.80      1.00      0.89         8\n",
      "          2       1.00      0.88      0.93        16\n",
      "\n",
      "avg / total       0.94      0.93      0.93        29\n",
      "\n",
      "Accuracy ::  0.931034482759\n"
     ]
    },
    {
     "data": {
      "text/html": [
       "<div>\n",
       "<style scoped>\n",
       "    .dataframe tbody tr th:only-of-type {\n",
       "        vertical-align: middle;\n",
       "    }\n",
       "\n",
       "    .dataframe tbody tr th {\n",
       "        vertical-align: top;\n",
       "    }\n",
       "\n",
       "    .dataframe thead th {\n",
       "        text-align: right;\n",
       "    }\n",
       "</style>\n",
       "<table border=\"1\" class=\"dataframe\">\n",
       "  <thead>\n",
       "    <tr style=\"text-align: right;\">\n",
       "      <th></th>\n",
       "      <th>0</th>\n",
       "      <th>1</th>\n",
       "      <th>2</th>\n",
       "    </tr>\n",
       "  </thead>\n",
       "  <tbody>\n",
       "    <tr>\n",
       "      <th>0</th>\n",
       "      <td>5</td>\n",
       "      <td>0</td>\n",
       "      <td>0</td>\n",
       "    </tr>\n",
       "    <tr>\n",
       "      <th>1</th>\n",
       "      <td>0</td>\n",
       "      <td>8</td>\n",
       "      <td>0</td>\n",
       "    </tr>\n",
       "    <tr>\n",
       "      <th>2</th>\n",
       "      <td>0</td>\n",
       "      <td>2</td>\n",
       "      <td>14</td>\n",
       "    </tr>\n",
       "  </tbody>\n",
       "</table>\n",
       "</div>"
      ],
      "text/plain": [
       "   0  1   2\n",
       "0  5  0   0\n",
       "1  0  8   0\n",
       "2  0  2  14"
      ]
     },
     "execution_count": 6,
     "metadata": {},
     "output_type": "execute_result"
    }
   ],
   "source": [
    "# Creating voter models which compares one class to another one\n",
    "setOfClasses = set(iris.target)\n",
    "numberOfClasses = len(setOfClasses)\n",
    "classList = list(setOfClasses)\n",
    "modelList = []\n",
    "for i in classList:\n",
    "    for j in classList:\n",
    "        if i < j:\n",
    "            flt = np.logical_or(np.equal(train_Y, i), np.equal(train_Y, j))\n",
    "            subX = train_X[flt]\n",
    "            subY = train_Y[flt]\n",
    "            subModel = LogisticRegression(C=reg)\n",
    "            subModel.fit(subX, subY)\n",
    "            modelList.append(subModel)\n",
    "\n",
    "# Counting of votes of models for determining classes of test set\n",
    "\n",
    "predVals = []\n",
    "for testIns in test_X:\n",
    "    votes = np.zeros(numberOfClasses)\n",
    "    # print votes\n",
    "\n",
    "    for currModel in modelList:\n",
    "        predVal = currModel.predict([testIns])\n",
    "        tmpIn = classList.index(predVal)\n",
    "        votes[tmpIn] = votes[tmpIn] + 1\n",
    "\n",
    "    predVals.append(classList[votes.argmax()])\n",
    "\n",
    "\n",
    "# print results\n",
    "totalNum = len(test_Y)\n",
    "truePredCount = 0\n",
    "for pred, trueClass in zip(predVals,test_Y):\n",
    "    if pred == trueClass:\n",
    "        truePredCount = truePredCount + 1\n",
    "\n",
    "print('Report for One Vs One Strategy')\n",
    "print(classification_report(predVals, test_Y))\n",
    "print(\"Accuracy :: \",accuracy_score(predVals, test_Y))\n",
    "\n",
    "labels = [0,1,2]\n",
    "pd.DataFrame(confusion_matrix(predVals, test_Y),index=labels, columns=labels)\n"
   ]
  },
  {
   "cell_type": "code",
   "execution_count": null,
   "metadata": {},
   "outputs": [],
   "source": []
  }
 ],
 "metadata": {
  "kernelspec": {
   "display_name": "Python 3",
   "language": "python",
   "name": "python3"
  },
  "language_info": {
   "codemirror_mode": {
    "name": "ipython",
    "version": 3
   },
   "file_extension": ".py",
   "mimetype": "text/x-python",
   "name": "python",
   "nbconvert_exporter": "python",
   "pygments_lexer": "ipython3",
   "version": "3.6.4"
  }
 },
 "nbformat": 4,
 "nbformat_minor": 2
}
