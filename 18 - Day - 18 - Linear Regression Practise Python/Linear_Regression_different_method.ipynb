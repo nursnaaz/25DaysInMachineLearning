{
 "cells": [
  {
   "cell_type": "markdown",
   "metadata": {},
   "source": [
    "# Linear regression with various methods\n",
    "This is a very simple example of using two scipy tools for linear regression.\n",
    "* Scipy.Polyfit\n",
    "* Stats.linregress\n",
    "* Optimize.curve_fit\n",
    "* numpy.linalg.lstsq\n",
    "* statsmodels.OLS\n",
    "* Analytic solution using Moore-Penrose generalized inverse or simple multiplicative matrix inverse\n",
    "* sklearn.linear_model.LinearRegression"
   ]
  },
  {
   "cell_type": "markdown",
   "metadata": {},
   "source": [
    "## Import libraries"
   ]
  },
  {
   "cell_type": "code",
   "execution_count": 2,
   "metadata": {},
   "outputs": [
    {
     "name": "stderr",
     "output_type": "stream",
     "text": [
      "C:\\Users\\Tirtha\\Python\\Anaconda3\\lib\\site-packages\\statsmodels\\compat\\pandas.py:56: FutureWarning: The pandas.core.datetools module is deprecated and will be removed in a future version. Please use the pandas.tseries module instead.\n",
      "  from pandas.core import datetools\n"
     ]
    }
   ],
   "source": [
    "from scipy import linspace, polyval, polyfit, sqrt, stats, randn, optimize\n",
    "import statsmodels.api as sm\n",
    "import matplotlib.pyplot as plt\n",
    "import time\n",
    "import numpy as np\n",
    "from sklearn.linear_model import LinearRegression\n",
    "import pandas as pd\n",
    "%matplotlib inline"
   ]
  },
  {
   "cell_type": "markdown",
   "metadata": {},
   "source": [
    "## Generate random data of a sufficiently large size"
   ]
  },
  {
   "cell_type": "code",
   "execution_count": 2,
   "metadata": {
    "collapsed": true
   },
   "outputs": [],
   "source": [
    "#Sample data creation\n",
    "#number of points \n",
    "n=int(5e6)\n",
    "t=np.linspace(-10,10,n)\n",
    "#parameters\n",
    "a=3.25; b=-6.5\n",
    "x=polyval([a,b],t)\n",
    "#add some noise\n",
    "xn=x+3*randn(n)"
   ]
  },
  {
   "cell_type": "markdown",
   "metadata": {},
   "source": [
    "### Draw few random sample points and plot"
   ]
  },
  {
   "cell_type": "code",
   "execution_count": 3,
   "metadata": {},
   "outputs": [
    {
     "data": {
      "image/png": "[encoded data removed]",
      "text/plain": [
       "<matplotlib.figure.Figure at 0x289503a98d0>"
      ]
     },
     "metadata": {},
     "output_type": "display_data"
    }
   ],
   "source": [
    "xvar=np.random.choice(t,size=20)\n",
    "yvar=polyval([a,b],xvar)+3*randn(20)\n",
    "plt.scatter(xvar,yvar,c='green',edgecolors='k')\n",
    "plt.grid(True)\n",
    "plt.show()"
   ]
  },
  {
   "cell_type": "markdown",
   "metadata": {},
   "source": [
    "## Method: Scipy.Polyfit"
   ]
  },
  {
   "cell_type": "code",
   "execution_count": 4,
   "metadata": {},
   "outputs": [
    {
     "name": "stdout",
     "output_type": "stream",
     "text": [
      "Linear regression using polyfit\n",
      "parameters: a=3.25 b=-6.50, ms error= 3.000\n",
      "Time taken: 1.7698638439178467 seconds\n"
     ]
    }
   ],
   "source": [
    "#Linear regressison -polyfit - polyfit can be used other orders polynomials\n",
    "t1=time.time()\n",
    "(ar,br)=polyfit(t,xn,1)\n",
    "xr=polyval([ar,br],t)\n",
    "#compute the mean square error\n",
    "err=sqrt(sum((xr-xn)**2)/n)\n",
    "t2=time.time()\n",
    "t_polyfit = float(t2-t1)\n",
    "\n",
    "print('Linear regression using polyfit')\n",
    "print('parameters: a=%.2f b=%.2f, ms error= %.3f' % (ar,br,err))\n",
    "print(\"Time taken: {} seconds\".format(t_polyfit))"
   ]
  },
  {
   "cell_type": "markdown",
   "metadata": {},
   "source": [
    "## Method: Stats.linregress"
   ]
  },
  {
   "cell_type": "code",
   "execution_count": 5,
   "metadata": {},
   "outputs": [
    {
     "name": "stdout",
     "output_type": "stream",
     "text": [
      "Linear regression using stats.linregress\n",
      "a=3.25 b=-6.50, std error= 0.000, r^2 coefficient= 0.987\n",
      "Time taken: 0.15017366409301758 seconds\n"
     ]
    }
   ],
   "source": [
    "#Linear regression using stats.linregress\n",
    "t1=time.time()\n",
    "(a_s,b_s,r,tt,stderr)=stats.linregress(t,xn)\n",
    "t2=time.time()\n",
    "t_linregress = float(t2-t1)\n",
    "\n",
    "print('Linear regression using stats.linregress')\n",
    "print('a=%.2f b=%.2f, std error= %.3f, r^2 coefficient= %.3f' % (a_s,b_s,stderr,r))\n",
    "print(\"Time taken: {} seconds\".format(t_linregress))"
   ]
  },
  {
   "cell_type": "markdown",
   "metadata": {},
   "source": [
    "## Method: Optimize.curve_fit"
   ]
  },
  {
   "cell_type": "code",
   "execution_count": 5,
   "metadata": {
    "collapsed": true
   },
   "outputs": [],
   "source": [
    "def flin(t,a,b):\n",
    "    result = a*t+b\n",
    "    return(result)"
   ]
  },
  {
   "cell_type": "code",
   "execution_count": 7,
   "metadata": {},
   "outputs": [
    {
     "name": "stdout",
     "output_type": "stream",
     "text": [
      "Linear regression using optimize.curve_fit\n",
      "parameters: a=3.25 b=-6.50\n",
      "Time taken: 1.2034447193145752 seconds\n"
     ]
    }
   ],
   "source": [
    "t1=time.time()\n",
    "p1,_=optimize.curve_fit(flin,xdata=t,ydata=xn,method='lm')\n",
    "t2=time.time()\n",
    "t_optimize_curve_fit = float(t2-t1)\n",
    "\n",
    "print('Linear regression using optimize.curve_fit')\n",
    "print('parameters: a=%.2f b=%.2f' % (p1[0],p1[1]))\n",
    "print(\"Time taken: {} seconds\".format(t_optimize_curve_fit))"
   ]
  },
  {
   "cell_type": "markdown",
   "metadata": {},
   "source": [
    "## Method: numpy.linalg.lstsq"
   ]
  },
  {
   "cell_type": "code",
   "execution_count": 8,
   "metadata": {},
   "outputs": [
    {
     "name": "stdout",
     "output_type": "stream",
     "text": [
      "Linear regression using numpy.linalg.lstsq\n",
      "parameters: a=3.25 b=-6.50, ms error= 3.000\n",
      "Time taken: 0.3698573112487793 seconds\n"
     ]
    }
   ],
   "source": [
    "t1=time.time()\n",
    "A = np.vstack([t, np.ones(len(t))]).T\n",
    "result = np.linalg.lstsq(A, xn)\n",
    "ar,br = result[0]\n",
    "err = np.sqrt(result[1]/len(xn))\n",
    "t2=time.time()\n",
    "t_linalg_lstsq = float(t2-t1)\n",
    "\n",
    "print('Linear regression using numpy.linalg.lstsq')\n",
    "print('parameters: a=%.2f b=%.2f, ms error= %.3f' % (ar,br,err))\n",
    "print(\"Time taken: {} seconds\".format(t_linalg_lstsq))"
   ]
  },
  {
   "cell_type": "markdown",
   "metadata": {},
   "source": [
    "## Method: Statsmodels.OLS"
   ]
  },
  {
   "cell_type": "code",
   "execution_count": 9,
   "metadata": {},
   "outputs": [
    {
     "name": "stdout",
     "output_type": "stream",
     "text": [
      "Linear regression using statsmodels.OLS\n",
      "parameters: a=3.25 b=-6.50\n",
      "Time taken: 0.9167804718017578 seconds\n"
     ]
    }
   ],
   "source": [
    "t1=time.time()\n",
    "t=sm.add_constant(t)\n",
    "model = sm.OLS(x, t)\n",
    "results = model.fit()\n",
    "ar=results.params[1]\n",
    "br=results.params[0]\n",
    "t2=time.time()\n",
    "t_OLS = float(t2-t1)\n",
    "\n",
    "print('Linear regression using statsmodels.OLS')\n",
    "print('parameters: a=%.2f b=%.2f'% (ar,br))\n",
    "print(\"Time taken: {} seconds\".format(t_OLS))      "
   ]
  },
  {
   "cell_type": "code",
   "execution_count": 10,
   "metadata": {},
   "outputs": [
    {
     "name": "stdout",
     "output_type": "stream",
     "text": [
      "                            OLS Regression Results                            \n",
      "==============================================================================\n",
      "Dep. Variable:                      y   R-squared:                       1.000\n",
      "Model:                            OLS   Adj. R-squared:                  1.000\n",
      "Method:                 Least Squares   F-statistic:                 4.287e+34\n",
      "Date:                Fri, 08 Dec 2017   Prob (F-statistic):               0.00\n",
      "Time:                        23:09:33   Log-Likelihood:             1.3904e+08\n",
      "No. Observations:             5000000   AIC:                        -2.781e+08\n",
      "Df Residuals:                 4999998   BIC:                        -2.781e+08\n",
      "Df Model:                           1                                         \n",
      "Covariance Type:            nonrobust                                         \n",
      "==============================================================================\n",
      "                 coef    std err          t      P>|t|      [0.025      0.975]\n",
      "------------------------------------------------------------------------------\n",
      "const         -6.5000   9.06e-17  -7.17e+16      0.000      -6.500      -6.500\n",
      "x1             3.2500   1.57e-17   2.07e+17      0.000       3.250       3.250\n",
      "==============================================================================\n",
      "Omnibus:                  4418788.703   Durbin-Watson:                   0.000\n",
      "Prob(Omnibus):                  0.000   Jarque-Bera (JB):           299716.811\n",
      "Skew:                          -0.001   Prob(JB):                         0.00\n",
      "Kurtosis:                       1.801   Cond. No.                         5.77\n",
      "==============================================================================\n",
      "\n",
      "Warnings:\n",
      "[1] Standard Errors assume that the covariance matrix of the errors is correctly specified.\n"
     ]
    }
   ],
   "source": [
    "print(results.summary())"
   ]
  },
  {
   "cell_type": "markdown",
   "metadata": {},
   "source": [
    "## Analytic solution using Moore-Penrose pseudoinverse"
   ]
  },
  {
   "cell_type": "code",
   "execution_count": 11,
   "metadata": {},
   "outputs": [
    {
     "name": "stdout",
     "output_type": "stream",
     "text": [
      "Linear regression using Moore-Penrose inverse\n",
      "parameters: a=3.25 b=-6.50\n",
      "Time taken: 0.6019864082336426 seconds\n"
     ]
    }
   ],
   "source": [
    "t1=time.time()\n",
    "mpinv = np.linalg.pinv(t)\n",
    "result = mpinv.dot(x)\n",
    "ar = result[1]\n",
    "br = result[0]\n",
    "t2=time.time()\n",
    "t_inv_matrix = float(t2-t1)\n",
    "\n",
    "print('Linear regression using Moore-Penrose inverse')\n",
    "print('parameters: a=%.2f b=%.2f'% (ar,br))\n",
    "print(\"Time taken: {} seconds\".format(t_inv_matrix)) "
   ]
  },
  {
   "cell_type": "markdown",
   "metadata": {},
   "source": [
    "## Analytic solution using simple multiplicative matrix inverse"
   ]
  },
  {
   "cell_type": "code",
   "execution_count": 12,
   "metadata": {},
   "outputs": [
    {
     "name": "stdout",
     "output_type": "stream",
     "text": [
      "Linear regression using simple inverse\n",
      "parameters: a=3.25 b=-6.50\n",
      "Time taken: 0.13125276565551758 seconds\n"
     ]
    }
   ],
   "source": [
    "t1=time.time()\n",
    "m = np.dot((np.dot(np.linalg.inv(np.dot(t.T,t)),t.T)),x)\n",
    "ar = m[1]\n",
    "br = m[0]\n",
    "t2=time.time()\n",
    "t_simple_inv = float(t2-t1)\n",
    "\n",
    "print('Linear regression using simple inverse')\n",
    "print('parameters: a=%.2f b=%.2f'% (ar,br))\n",
    "print(\"Time taken: {} seconds\".format(t_simple_inv)) "
   ]
  },
  {
   "cell_type": "markdown",
   "metadata": {},
   "source": [
    "## Method: sklearn.linear_model.LinearRegression"
   ]
  },
  {
   "cell_type": "code",
   "execution_count": 13,
   "metadata": {},
   "outputs": [
    {
     "name": "stdout",
     "output_type": "stream",
     "text": [
      "Linear regression using sklearn.linear_model.LinearRegression\n",
      "parameters: a=3.25 b=-6.50\n",
      "Time taken: 0.5318112373352051 seconds\n"
     ]
    }
   ],
   "source": [
    "t1=time.time()\n",
    "lm = LinearRegression()\n",
    "lm.fit(t,x)\n",
    "ar=lm.coef_[1]\n",
    "br=lm.intercept_\n",
    "t2=time.time()\n",
    "t_sklearn_linear = float(t2-t1)\n",
    "\n",
    "print('Linear regression using sklearn.linear_model.LinearRegression')\n",
    "print('parameters: a=%.2f b=%.2f'% (ar,br))\n",
    "print(\"Time taken: {} seconds\".format(t_sklearn_linear)) "
   ]
  },
  {
   "cell_type": "markdown",
   "metadata": {},
   "source": [
    "## Bucket all the execution times in a list and plot"
   ]
  },
  {
   "cell_type": "code",
   "execution_count": 14,
   "metadata": {
    "collapsed": true
   },
   "outputs": [],
   "source": [
    "times = [t_polyfit,t_linregress,t_optimize_curve_fit,t_linalg_lstsq,t_OLS,t_inv_matrix,t_simple_inv,t_sklearn_linear]"
   ]
  },
  {
   "cell_type": "code",
   "execution_count": 15,
   "metadata": {},
   "outputs": [
    {
     "data": {
      "image/png": "[encoded data removed]",
      "text/plain": [
       "<matplotlib.figure.Figure at 0x2895976c6a0>"
      ]
     },
     "metadata": {},
     "output_type": "display_data"
    }
   ],
   "source": [
    "plt.figure(figsize=(20,5))\n",
    "plt.grid(True)\n",
    "plt.bar(left=[l*0.8 for l in range(8)],height=times, width=0.4,\n",
    "        tick_label=['Polyfit','Stats.linregress','Optimize.curve_fit',\n",
    "                    'numpy.linalg.lstsq','statsmodels.OLS','Moore-Penrose matrix inverse',\n",
    "                    'Simple matrix inverse','sklearn.linear_model'])\n",
    "plt.show()"
   ]
  },
  {
   "cell_type": "code",
   "execution_count": 3,
   "metadata": {},
   "outputs": [],
   "source": [
    "n_min = 50000\n",
    "n_max = int(1e7)\n",
    "n_levels = 25\n",
    "r = np.log10(n_max/n_min)\n",
    "l = np.linspace(0,r,n_levels)\n",
    "n_data = list((n_min*np.power(10,l)))\n",
    "n_data = [int(n) for n in n_data]"
   ]
  },
  {
   "cell_type": "code",
   "execution_count": 6,
   "metadata": {},
   "outputs": [
    {
     "name": "stderr",
     "output_type": "stream",
     "text": [
      "100%|██████████████████████████████████████████████████████████████████████████████████| 25/25 [00:51<00:00,  2.05s/it]\n"
     ]
    }
   ],
   "source": [
    "#time_dict={'Polyfit':[],'Stats.lingress':[],'Optimize.curve_fit':[],'linalg.lstsq':[],'statsmodels.OLS':[],\n",
    "          #'Moore-Penrose matrix inverse':[],'Simple matrix inverse':[], 'sklearn.linear_model':[]}\n",
    "\n",
    "l1=['Polyfit', 'Stats.lingress','Optimize.curve_fit', 'linalg.lstsq', \n",
    " 'statsmodels.OLS', 'Moore-Penrose matrix inverse', 'Simple matrix inverse', 'sklearn.linear_model']\n",
    "time_dict = {key:[] for key in l1}\n",
    "\n",
    "from tqdm import tqdm\n",
    "\n",
    "for i in tqdm(range(len(n_data))):\n",
    "    t=np.linspace(-10,10,n_data[i])\n",
    "    #parameters\n",
    "    a=3.25; b=-6.5\n",
    "    x=polyval([a,b],t)\n",
    "    #add some noise\n",
    "    xn=x+3*randn(n_data[i])\n",
    "    \n",
    "    #Linear regressison -polyfit - polyfit can be used other orders polynomials\n",
    "    t1=time.time()\n",
    "    (ar,br)=polyfit(t,xn,1)\n",
    "    t2=time.time()\n",
    "    t_polyfit = 1e3*float(t2-t1)\n",
    "    time_dict['Polyfit'].append(t_polyfit)\n",
    "    \n",
    "    #Linear regression using stats.linregress\n",
    "    t1=time.time()\n",
    "    (a_s,b_s,r,tt,stderr)=stats.linregress(t,xn)\n",
    "    t2=time.time()\n",
    "    t_linregress = 1e3*float(t2-t1)\n",
    "    time_dict['Stats.lingress'].append(t_linregress)\n",
    "    \n",
    "    #Linear regression using optimize.curve_fit\n",
    "    t1=time.time()\n",
    "    p1,_=optimize.curve_fit(flin,xdata=t,ydata=xn,method='lm')\n",
    "    t2=time.time()\n",
    "    t_optimize_curve_fit = 1e3*float(t2-t1)\n",
    "    time_dict['Optimize.curve_fit'].append(t_optimize_curve_fit)\n",
    "    \n",
    "    # Linear regression using np.linalg.lstsq (solving Ax=B equation system)\n",
    "    t1=time.time()\n",
    "    A = np.vstack([t, np.ones(len(t))]).T\n",
    "    result = np.linalg.lstsq(A, xn)\n",
    "    ar,br = result[0]\n",
    "    t2=time.time()\n",
    "    t_linalg_lstsq = 1e3*float(t2-t1)\n",
    "    time_dict['linalg.lstsq'].append(t_linalg_lstsq)\n",
    "    \n",
    "    # Linear regression using statsmodels.OLS\n",
    "    t1=time.time()\n",
    "    t=sm.add_constant(t)\n",
    "    model = sm.OLS(x, t)\n",
    "    results = model.fit()\n",
    "    ar=results.params[1]\n",
    "    br=results.params[0]\n",
    "    t2=time.time()\n",
    "    t_OLS = 1e3*float(t2-t1)\n",
    "    time_dict['statsmodels.OLS'].append(t_OLS)\n",
    "    \n",
    "    # Linear regression using Moore-Penrose pseudoinverse matrix\n",
    "    t1=time.time()\n",
    "    mpinv = np.linalg.pinv(t)\n",
    "    result = mpinv.dot(x)\n",
    "    ar = result[1]\n",
    "    br = result[0]\n",
    "    t2=time.time()\n",
    "    t_mpinverse = 1e3*float(t2-t1)\n",
    "    time_dict['Moore-Penrose matrix inverse'].append(t_mpinverse)\n",
    "    \n",
    "    # Linear regression using simple multiplicative inverse matrix\n",
    "    t1=time.time()\n",
    "    m = np.dot((np.dot(np.linalg.inv(np.dot(t.T,t)),t.T)),x)\n",
    "    ar = m[1]\n",
    "    br = m[0]\n",
    "    t2=time.time()\n",
    "    t_simple_inv = 1e3*float(t2-t1)\n",
    "    time_dict['Simple matrix inverse'].append(t_simple_inv)\n",
    "    \n",
    "    # Linear regression using scikit-learn's linear_model\n",
    "    t1=time.time()\n",
    "    lm = LinearRegression()\n",
    "    lm.fit(t,x)\n",
    "    ar=lm.coef_[1]\n",
    "    br=lm.intercept_\n",
    "    t2=time.time()\n",
    "    t_sklearn_linear = 1e3*float(t2-t1)\n",
    "    time_dict['sklearn.linear_model'].append(t_sklearn_linear)"
   ]
  },
  {
   "cell_type": "code",
   "execution_count": 7,
   "metadata": {},
   "outputs": [
    {
     "data": {
      "text/html": [
       "<div>\n",
       "<style>\n",
       "    .dataframe thead tr:only-child th {\n",
       "        text-align: right;\n",
       "    }\n",
       "\n",
       "    .dataframe thead th {\n",
       "        text-align: left;\n",
       "    }\n",
       "\n",
       "    .dataframe tbody tr th {\n",
       "        vertical-align: top;\n",
       "    }\n",
       "</style>\n",
       "<table border=\"1\" class=\"dataframe\">\n",
       "  <thead>\n",
       "    <tr style=\"text-align: right;\">\n",
       "      <th></th>\n",
       "      <th>Moore-Penrose matrix inverse</th>\n",
       "      <th>Optimize.curve_fit</th>\n",
       "      <th>Polyfit</th>\n",
       "      <th>Simple matrix inverse</th>\n",
       "      <th>Stats.lingress</th>\n",
       "      <th>linalg.lstsq</th>\n",
       "      <th>sklearn.linear_model</th>\n",
       "      <th>statsmodels.OLS</th>\n",
       "    </tr>\n",
       "  </thead>\n",
       "  <tbody>\n",
       "    <tr>\n",
       "      <th>0</th>\n",
       "      <td>0.000000</td>\n",
       "      <td>0.000000</td>\n",
       "      <td>15.630484</td>\n",
       "      <td>0.000000</td>\n",
       "      <td>0.000000</td>\n",
       "      <td>15.625477</td>\n",
       "      <td>15.621424</td>\n",
       "      <td>15.629292</td>\n",
       "    </tr>\n",
       "    <tr>\n",
       "      <th>1</th>\n",
       "      <td>0.000000</td>\n",
       "      <td>0.000000</td>\n",
       "      <td>15.630245</td>\n",
       "      <td>0.000000</td>\n",
       "      <td>0.000000</td>\n",
       "      <td>0.000000</td>\n",
       "      <td>0.000000</td>\n",
       "      <td>22.155523</td>\n",
       "    </tr>\n",
       "    <tr>\n",
       "      <th>2</th>\n",
       "      <td>15.622139</td>\n",
       "      <td>15.624523</td>\n",
       "      <td>15.627623</td>\n",
       "      <td>0.000000</td>\n",
       "      <td>0.000000</td>\n",
       "      <td>0.000000</td>\n",
       "      <td>0.000000</td>\n",
       "      <td>15.625715</td>\n",
       "    </tr>\n",
       "    <tr>\n",
       "      <th>3</th>\n",
       "      <td>15.625238</td>\n",
       "      <td>15.636921</td>\n",
       "      <td>22.137165</td>\n",
       "      <td>0.000000</td>\n",
       "      <td>0.000000</td>\n",
       "      <td>0.000000</td>\n",
       "      <td>0.000000</td>\n",
       "      <td>15.619516</td>\n",
       "    </tr>\n",
       "    <tr>\n",
       "      <th>4</th>\n",
       "      <td>15.625477</td>\n",
       "      <td>19.137859</td>\n",
       "      <td>15.630722</td>\n",
       "      <td>0.000000</td>\n",
       "      <td>18.176317</td>\n",
       "      <td>0.000000</td>\n",
       "      <td>15.627146</td>\n",
       "      <td>15.618801</td>\n",
       "    </tr>\n",
       "    <tr>\n",
       "      <th>5</th>\n",
       "      <td>4.007816</td>\n",
       "      <td>31.253576</td>\n",
       "      <td>22.130489</td>\n",
       "      <td>0.000000</td>\n",
       "      <td>15.628815</td>\n",
       "      <td>15.621901</td>\n",
       "      <td>31.254768</td>\n",
       "      <td>33.256292</td>\n",
       "    </tr>\n",
       "    <tr>\n",
       "      <th>6</th>\n",
       "      <td>18.633366</td>\n",
       "      <td>53.041935</td>\n",
       "      <td>31.249762</td>\n",
       "      <td>3.501654</td>\n",
       "      <td>0.000000</td>\n",
       "      <td>0.000000</td>\n",
       "      <td>15.632153</td>\n",
       "      <td>46.875238</td>\n",
       "    </tr>\n",
       "    <tr>\n",
       "      <th>7</th>\n",
       "      <td>31.255722</td>\n",
       "      <td>53.006411</td>\n",
       "      <td>46.876192</td>\n",
       "      <td>0.000000</td>\n",
       "      <td>0.000000</td>\n",
       "      <td>31.256199</td>\n",
       "      <td>31.252623</td>\n",
       "      <td>37.758827</td>\n",
       "    </tr>\n",
       "    <tr>\n",
       "      <th>8</th>\n",
       "      <td>15.657902</td>\n",
       "      <td>69.021463</td>\n",
       "      <td>32.253742</td>\n",
       "      <td>15.627623</td>\n",
       "      <td>15.626431</td>\n",
       "      <td>15.619516</td>\n",
       "      <td>31.259298</td>\n",
       "      <td>68.526506</td>\n",
       "    </tr>\n",
       "    <tr>\n",
       "      <th>9</th>\n",
       "      <td>31.253576</td>\n",
       "      <td>84.650755</td>\n",
       "      <td>47.293186</td>\n",
       "      <td>0.000000</td>\n",
       "      <td>15.624762</td>\n",
       "      <td>31.246662</td>\n",
       "      <td>37.778139</td>\n",
       "      <td>69.011211</td>\n",
       "    </tr>\n",
       "    <tr>\n",
       "      <th>10</th>\n",
       "      <td>37.775517</td>\n",
       "      <td>115.889788</td>\n",
       "      <td>69.014549</td>\n",
       "      <td>15.623808</td>\n",
       "      <td>15.629768</td>\n",
       "      <td>33.759832</td>\n",
       "      <td>46.875000</td>\n",
       "      <td>82.136869</td>\n",
       "    </tr>\n",
       "    <tr>\n",
       "      <th>11</th>\n",
       "      <td>50.890923</td>\n",
       "      <td>148.653030</td>\n",
       "      <td>100.265026</td>\n",
       "      <td>2.500057</td>\n",
       "      <td>15.624285</td>\n",
       "      <td>36.260605</td>\n",
       "      <td>67.022562</td>\n",
       "      <td>115.892887</td>\n",
       "    </tr>\n",
       "    <tr>\n",
       "      <th>12</th>\n",
       "      <td>51.916361</td>\n",
       "      <td>169.280767</td>\n",
       "      <td>100.261211</td>\n",
       "      <td>15.595436</td>\n",
       "      <td>15.626669</td>\n",
       "      <td>46.873331</td>\n",
       "      <td>84.640265</td>\n",
       "      <td>133.024454</td>\n",
       "    </tr>\n",
       "    <tr>\n",
       "      <th>13</th>\n",
       "      <td>69.013357</td>\n",
       "      <td>204.277992</td>\n",
       "      <td>131.512642</td>\n",
       "      <td>31.260490</td>\n",
       "      <td>33.258915</td>\n",
       "      <td>62.905312</td>\n",
       "      <td>84.661484</td>\n",
       "      <td>169.303179</td>\n",
       "    </tr>\n",
       "    <tr>\n",
       "      <th>14</th>\n",
       "      <td>105.759859</td>\n",
       "      <td>263.057709</td>\n",
       "      <td>178.895473</td>\n",
       "      <td>31.325102</td>\n",
       "      <td>21.633863</td>\n",
       "      <td>69.040298</td>\n",
       "      <td>131.505728</td>\n",
       "      <td>247.957468</td>\n",
       "    </tr>\n",
       "    <tr>\n",
       "      <th>15</th>\n",
       "      <td>131.574392</td>\n",
       "      <td>319.949627</td>\n",
       "      <td>216.182470</td>\n",
       "      <td>32.747269</td>\n",
       "      <td>62.495470</td>\n",
       "      <td>81.153154</td>\n",
       "      <td>120.925665</td>\n",
       "      <td>253.957272</td>\n",
       "    </tr>\n",
       "    <tr>\n",
       "      <th>16</th>\n",
       "      <td>153.636217</td>\n",
       "      <td>448.011875</td>\n",
       "      <td>269.543409</td>\n",
       "      <td>46.900511</td>\n",
       "      <td>53.393364</td>\n",
       "      <td>115.928888</td>\n",
       "      <td>169.338226</td>\n",
       "      <td>316.501141</td>\n",
       "    </tr>\n",
       "    <tr>\n",
       "      <th>17</th>\n",
       "      <td>231.811762</td>\n",
       "      <td>701.419353</td>\n",
       "      <td>300.346613</td>\n",
       "      <td>65.008879</td>\n",
       "      <td>53.394318</td>\n",
       "      <td>178.601742</td>\n",
       "      <td>220.121384</td>\n",
       "      <td>422.495842</td>\n",
       "    </tr>\n",
       "    <tr>\n",
       "      <th>18</th>\n",
       "      <td>285.177946</td>\n",
       "      <td>616.899490</td>\n",
       "      <td>432.182074</td>\n",
       "      <td>69.028854</td>\n",
       "      <td>84.664822</td>\n",
       "      <td>215.755463</td>\n",
       "      <td>285.164833</td>\n",
       "      <td>517.048597</td>\n",
       "    </tr>\n",
       "    <tr>\n",
       "      <th>19</th>\n",
       "      <td>332.066059</td>\n",
       "      <td>819.245577</td>\n",
       "      <td>501.351357</td>\n",
       "      <td>84.640741</td>\n",
       "      <td>120.899916</td>\n",
       "      <td>231.451511</td>\n",
       "      <td>347.280264</td>\n",
       "      <td>670.651913</td>\n",
       "    </tr>\n",
       "    <tr>\n",
       "      <th>20</th>\n",
       "      <td>369.444609</td>\n",
       "      <td>1024.812222</td>\n",
       "      <td>585.524321</td>\n",
       "      <td>115.913153</td>\n",
       "      <td>131.541967</td>\n",
       "      <td>278.692007</td>\n",
       "      <td>447.981596</td>\n",
       "      <td>770.556927</td>\n",
       "    </tr>\n",
       "    <tr>\n",
       "      <th>21</th>\n",
       "      <td>685.094118</td>\n",
       "      <td>1249.316692</td>\n",
       "      <td>748.612404</td>\n",
       "      <td>216.203928</td>\n",
       "      <td>153.661489</td>\n",
       "      <td>416.716337</td>\n",
       "      <td>701.471090</td>\n",
       "      <td>955.613136</td>\n",
       "    </tr>\n",
       "    <tr>\n",
       "      <th>22</th>\n",
       "      <td>748.389482</td>\n",
       "      <td>1572.880745</td>\n",
       "      <td>886.412144</td>\n",
       "      <td>200.346470</td>\n",
       "      <td>200.551510</td>\n",
       "      <td>463.643789</td>\n",
       "      <td>686.309099</td>\n",
       "      <td>1224.907160</td>\n",
       "    </tr>\n",
       "    <tr>\n",
       "      <th>23</th>\n",
       "      <td>887.850046</td>\n",
       "      <td>1884.766817</td>\n",
       "      <td>1202.514887</td>\n",
       "      <td>216.167450</td>\n",
       "      <td>251.927853</td>\n",
       "      <td>539.185524</td>\n",
       "      <td>886.838436</td>\n",
       "      <td>1535.134792</td>\n",
       "    </tr>\n",
       "    <tr>\n",
       "      <th>24</th>\n",
       "      <td>954.769611</td>\n",
       "      <td>2425.298929</td>\n",
       "      <td>1450.640917</td>\n",
       "      <td>269.577265</td>\n",
       "      <td>332.119942</td>\n",
       "      <td>696.031809</td>\n",
       "      <td>1049.167395</td>\n",
       "      <td>1888.795376</td>\n",
       "    </tr>\n",
       "  </tbody>\n",
       "</table>\n",
       "</div>"
      ],
      "text/plain": [
       "    Moore-Penrose matrix inverse  Optimize.curve_fit      Polyfit  \\\n",
       "0                       0.000000            0.000000    15.630484   \n",
       "1                       0.000000            0.000000    15.630245   \n",
       "2                      15.622139           15.624523    15.627623   \n",
       "3                      15.625238           15.636921    22.137165   \n",
       "4                      15.625477           19.137859    15.630722   \n",
       "5                       4.007816           31.253576    22.130489   \n",
       "6                      18.633366           53.041935    31.249762   \n",
       "7                      31.255722           53.006411    46.876192   \n",
       "8                      15.657902           69.021463    32.253742   \n",
       "9                      31.253576           84.650755    47.293186   \n",
       "10                     37.775517          115.889788    69.014549   \n",
       "11                     50.890923          148.653030   100.265026   \n",
       "12                     51.916361          169.280767   100.261211   \n",
       "13                     69.013357          204.277992   131.512642   \n",
       "14                    105.759859          263.057709   178.895473   \n",
       "15                    131.574392          319.949627   216.182470   \n",
       "16                    153.636217          448.011875   269.543409   \n",
       "17                    231.811762          701.419353   300.346613   \n",
       "18                    285.177946          616.899490   432.182074   \n",
       "19                    332.066059          819.245577   501.351357   \n",
       "20                    369.444609         1024.812222   585.524321   \n",
       "21                    685.094118         1249.316692   748.612404   \n",
       "22                    748.389482         1572.880745   886.412144   \n",
       "23                    887.850046         1884.766817  1202.514887   \n",
       "24                    954.769611         2425.298929  1450.640917   \n",
       "\n",
       "    Simple matrix inverse  Stats.lingress  linalg.lstsq  sklearn.linear_model  \\\n",
       "0                0.000000        0.000000     15.625477             15.621424   \n",
       "1                0.000000        0.000000      0.000000              0.000000   \n",
       "2                0.000000        0.000000      0.000000              0.000000   \n",
       "3                0.000000        0.000000      0.000000              0.000000   \n",
       "4                0.000000       18.176317      0.000000             15.627146   \n",
       "5                0.000000       15.628815     15.621901             31.254768   \n",
       "6                3.501654        0.000000      0.000000             15.632153   \n",
       "7                0.000000        0.000000     31.256199             31.252623   \n",
       "8               15.627623       15.626431     15.619516             31.259298   \n",
       "9                0.000000       15.624762     31.246662             37.778139   \n",
       "10              15.623808       15.629768     33.759832             46.875000   \n",
       "11               2.500057       15.624285     36.260605             67.022562   \n",
       "12              15.595436       15.626669     46.873331             84.640265   \n",
       "13              31.260490       33.258915     62.905312             84.661484   \n",
       "14              31.325102       21.633863     69.040298            131.505728   \n",
       "15              32.747269       62.495470     81.153154            120.925665   \n",
       "16              46.900511       53.393364    115.928888            169.338226   \n",
       "17              65.008879       53.394318    178.601742            220.121384   \n",
       "18              69.028854       84.664822    215.755463            285.164833   \n",
       "19              84.640741      120.899916    231.451511            347.280264   \n",
       "20             115.913153      131.541967    278.692007            447.981596   \n",
       "21             216.203928      153.661489    416.716337            701.471090   \n",
       "22             200.346470      200.551510    463.643789            686.309099   \n",
       "23             216.167450      251.927853    539.185524            886.838436   \n",
       "24             269.577265      332.119942    696.031809           1049.167395   \n",
       "\n",
       "    statsmodels.OLS  \n",
       "0         15.629292  \n",
       "1         22.155523  \n",
       "2         15.625715  \n",
       "3         15.619516  \n",
       "4         15.618801  \n",
       "5         33.256292  \n",
       "6         46.875238  \n",
       "7         37.758827  \n",
       "8         68.526506  \n",
       "9         69.011211  \n",
       "10        82.136869  \n",
       "11       115.892887  \n",
       "12       133.024454  \n",
       "13       169.303179  \n",
       "14       247.957468  \n",
       "15       253.957272  \n",
       "16       316.501141  \n",
       "17       422.495842  \n",
       "18       517.048597  \n",
       "19       670.651913  \n",
       "20       770.556927  \n",
       "21       955.613136  \n",
       "22      1224.907160  \n",
       "23      1535.134792  \n",
       "24      1888.795376  "
      ]
     },
     "execution_count": 7,
     "metadata": {},
     "output_type": "execute_result"
    }
   ],
   "source": [
    "df = pd.DataFrame(data=time_dict)\n",
    "df"
   ]
  },
  {
   "cell_type": "code",
   "execution_count": 8,
   "metadata": {},
   "outputs": [
    {
     "data": {
      "text/plain": [
       "<matplotlib.legend.Legend at 0x24edb8101d0>"
      ]
     },
     "execution_count": 8,
     "metadata": {},
     "output_type": "execute_result"
    },
    {
     "data": {
      "image/png": "[encoded data removed]",
      "text/plain": [
       "<matplotlib.figure.Figure at 0x24edb8105f8>"
      ]
     },
     "metadata": {},
     "output_type": "display_data"
    }
   ],
   "source": [
    "plt.figure(figsize=(15,10))\n",
    "for i in df.columns:\n",
    "    plt.semilogx((n_data),df[i],lw=3)\n",
    "plt.xticks([1e5,2e5,5e5,1e6,2e6,5e6,1e7],fontsize=15)\n",
    "plt.xlabel(\"\\nSize of the data set (number of samples)\",fontsize=15)\n",
    "plt.yticks(fontsize=15)\n",
    "plt.ylabel(\"Milliseconds needed for simple linear regression model fit\\n\",fontsize=15)\n",
    "plt.grid(True)\n",
    "plt.legend([name for name in df.columns],fontsize=20)"
   ]
  },
  {
   "cell_type": "code",
   "execution_count": 9,
   "metadata": {
    "collapsed": true
   },
   "outputs": [],
   "source": [
    "a1=df.iloc[n_levels-1]"
   ]
  },
  {
   "cell_type": "code",
   "execution_count": 10,
   "metadata": {},
   "outputs": [
    {
     "data": {
      "image/png": "[encoded data removed]",
      "text/plain": [
       "<matplotlib.figure.Figure at 0x24e8567acf8>"
      ]
     },
     "metadata": {},
     "output_type": "display_data"
    }
   ],
   "source": [
    "plt.figure(figsize=(20,5))\n",
    "plt.grid(True)\n",
    "plt.bar(left=[l*0.8 for l in range(8)],height=a1, width=0.4,\n",
    "        tick_label=list(a1.index))\n",
    "plt.show()"
   ]
  },
  {
   "cell_type": "code",
   "execution_count": null,
   "metadata": {
    "collapsed": true
   },
   "outputs": [],
   "source": []
  }
 ],
 "metadata": {
  "kernelspec": {
   "display_name": "Python 3",
   "language": "python",
   "name": "python3"
  },
  "language_info": {
   "codemirror_mode": {
    "name": "ipython",
    "version": 3
   },
   "file_extension": ".py",
   "mimetype": "text/x-python",
   "name": "python",
   "nbconvert_exporter": "python",
   "pygments_lexer": "ipython3",
   "version": "3.6.4"
  }
 },
 "nbformat": 4,
 "nbformat_minor": 2
}
