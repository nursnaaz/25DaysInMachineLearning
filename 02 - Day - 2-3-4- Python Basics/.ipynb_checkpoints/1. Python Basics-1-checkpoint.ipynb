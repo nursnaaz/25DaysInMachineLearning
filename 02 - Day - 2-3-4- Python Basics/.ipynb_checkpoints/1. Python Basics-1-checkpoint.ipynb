{
 "cells": [
  {
   "cell_type": "markdown",
   "metadata": {},
   "source": [
    "Ways to run python\n",
    "1. Immediate mode - cmd or terminal prompt using direct console(Command 'python' Enter)\n",
    "2. Script mode - "
   ]
  }
 ],
 "metadata": {
  "kernelspec": {
   "display_name": "Python 3",
   "language": "python",
   "name": "python3"
  },
  "language_info": {
   "codemirror_mode": {
    "name": "ipython",
    "version": 3
   },
   "file_extension": ".py",
   "mimetype": "text/x-python",
   "name": "python",
   "nbconvert_exporter": "python",
   "pygments_lexer": "ipython3",
   "version": "3.6.4"
  }
 },
 "nbformat": 4,
 "nbformat_minor": 2
}
