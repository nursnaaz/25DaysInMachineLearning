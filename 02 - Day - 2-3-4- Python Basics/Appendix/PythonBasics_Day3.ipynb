{
 "cells": [
  {
   "cell_type": "code",
   "execution_count": 8,
   "metadata": {},
   "outputs": [
    {
     "name": "stdout",
     "output_type": "stream",
     "text": [
      "The type of num before conversion :  <class 'float'>\n",
      "5\n",
      "The type of num after conversion :  <class 'int'>\n"
     ]
    }
   ],
   "source": [
    "#Conversion of data types\n",
    "\n",
    "num  = 5.5\n",
    "\n",
    "print ('The type of num before conversion : ',type(num))\n",
    "\n",
    "#Conversion\n",
    "num = int(num)\n",
    "\n",
    "print(num)\n",
    "\n",
    "print ('The type of num after conversion : ',type(num))"
   ]
  },
  {
   "cell_type": "code",
   "execution_count": 19,
   "metadata": {},
   "outputs": [
    {
     "name": "stdout",
     "output_type": "stream",
     "text": [
      "-10\n",
      "10.0\n",
      "The type of abc before conversion :  <class 'int'>\n",
      "The type of abc after conversion :  <class 'str'>\n"
     ]
    }
   ],
   "source": [
    "print (int(-10.454))\n",
    "\n",
    "print (float(10))\n",
    "\n",
    "#conversion\n",
    "abc = 123\n",
    "\n",
    "print('The type of abc before conversion : ',type(abc))\n",
    "abc = str(abc)\n",
    "print('The type of abc after conversion : ',type(abc))\n"
   ]
  },
  {
   "cell_type": "code",
   "execution_count": 23,
   "metadata": {},
   "outputs": [
    {
     "ename": "ValueError",
     "evalue": "invalid literal for int() with base 10: 'a'",
     "output_type": "error",
     "traceback": [
      "\u001b[1;31m---------------------------------------------------------------------------\u001b[0m",
      "\u001b[1;31mValueError\u001b[0m                                Traceback (most recent call last)",
      "\u001b[1;32m<ipython-input-23-68b3798fb1bb>\u001b[0m in \u001b[0;36m<module>\u001b[1;34m()\u001b[0m\n\u001b[0;32m      1\u001b[0m \u001b[1;31m#Conversion should be\u001b[0m\u001b[1;33m\u001b[0m\u001b[1;33m\u001b[0m\u001b[0m\n\u001b[0;32m      2\u001b[0m \u001b[1;33m\u001b[0m\u001b[0m\n\u001b[1;32m----> 3\u001b[1;33m \u001b[0mint\u001b[0m\u001b[1;33m(\u001b[0m\u001b[1;34m'a'\u001b[0m\u001b[1;33m)\u001b[0m\u001b[1;33m\u001b[0m\u001b[0m\n\u001b[0m",
      "\u001b[1;31mValueError\u001b[0m: invalid literal for int() with base 10: 'a'"
     ]
    }
   ],
   "source": [
    "#Conversion should be compatible values\n",
    "\n",
    "int('a')"
   ]
  },
  {
   "cell_type": "code",
   "execution_count": 30,
   "metadata": {},
   "outputs": [
    {
     "name": "stdout",
     "output_type": "stream",
     "text": [
      "[11, 1, 1, 2, 2, 3, 3, 4, 4, 5, 5, 5, 6, 6, 6, 7]\n",
      "The type of a before conversion :  <class 'list'>\n",
      "{1, 2, 3, 4, 5, 6, 7, 11}\n",
      "The type of a after conversion :  <class 'set'>\n"
     ]
    }
   ],
   "source": [
    "#Set conversion\n",
    "a = [11,1,1,2,2,3,3,4,4,5,5,5,6,6,6,7]\n",
    "\n",
    "print (a)\n",
    "\n",
    "print('The type of a before conversion : ',type(a))\n",
    "\n",
    "#Conversion\n",
    "a = set(a)\n",
    "\n",
    "print (a)\n",
    "\n",
    "print('The type of a after conversion : ',type(a))\n",
    "\n",
    "\n"
   ]
  },
  {
   "cell_type": "code",
   "execution_count": 38,
   "metadata": {},
   "outputs": [
    {
     "name": "stdout",
     "output_type": "stream",
     "text": [
      "The type of a before conversion :  <class 'list'>\n",
      "The type of a after conversion :  <class 'tuple'>\n"
     ]
    },
    {
     "ename": "TypeError",
     "evalue": "'tuple' object does not support item assignment",
     "output_type": "error",
     "traceback": [
      "\u001b[1;31m---------------------------------------------------------------------------\u001b[0m",
      "\u001b[1;31mTypeError\u001b[0m                                 Traceback (most recent call last)",
      "\u001b[1;32m<ipython-input-38-29e806ce6636>\u001b[0m in \u001b[0;36m<module>\u001b[1;34m()\u001b[0m\n\u001b[0;32m     11\u001b[0m \u001b[0mprint\u001b[0m\u001b[1;33m(\u001b[0m\u001b[1;34m'The type of a after conversion : '\u001b[0m\u001b[1;33m,\u001b[0m\u001b[0mtype\u001b[0m\u001b[1;33m(\u001b[0m\u001b[0ma\u001b[0m\u001b[1;33m)\u001b[0m\u001b[1;33m)\u001b[0m\u001b[1;33m\u001b[0m\u001b[0m\n\u001b[0;32m     12\u001b[0m \u001b[1;33m\u001b[0m\u001b[0m\n\u001b[1;32m---> 13\u001b[1;33m \u001b[0ma\u001b[0m\u001b[1;33m[\u001b[0m\u001b[1;36m2\u001b[0m\u001b[1;33m]\u001b[0m \u001b[1;33m=\u001b[0m \u001b[1;36m100\u001b[0m\u001b[1;33m\u001b[0m\u001b[0m\n\u001b[0m",
      "\u001b[1;31mTypeError\u001b[0m: 'tuple' object does not support item assignment"
     ]
    }
   ],
   "source": [
    "a = [1,3,4,5,6,4,32,8,6,9]\n",
    "a\n",
    "print('The type of a before conversion : ',type(a))\n",
    "\n",
    "\n",
    "a[2] = 53\n",
    "a\n",
    "\n",
    "a = tuple(a)\n",
    "\n",
    "print('The type of a after conversion : ',type(a))\n",
    "\n",
    "a[2] = 100\n"
   ]
  },
  {
   "cell_type": "code",
   "execution_count": 45,
   "metadata": {},
   "outputs": [
    {
     "name": "stdout",
     "output_type": "stream",
     "text": [
      "Hello, How are you!\n",
      "The type of a before conversion :  <class 'str'>\n",
      "['H', 'e', 'l', 'l', 'o', ',', ' ', 'H', 'o', 'w', ' ', 'a', 'r', 'e', ' ', 'y', 'o', 'u', '!']\n",
      "The type of a after conversion :  <class 'list'>\n",
      "['H', 'e', 'r', 'l', 'o', ',', ' ', 'H', 'o', 'w', ' ', 'a', 'r', 'e', ' ', 'y', 'o', 'u', '!']\n"
     ]
    }
   ],
   "source": [
    "a = 'Hello, How are you!'\n",
    "print(a)\n",
    "\n",
    "#a[2] = 'r'\n",
    "print('The type of a before conversion : ',type(a))\n",
    "\n",
    "a = list(a)\n",
    "print(a)\n",
    "print('The type of a after conversion : ',type(a))\n",
    "\n",
    "a[2] = 'r'\n",
    "print(a)\n"
   ]
  },
  {
   "cell_type": "code",
   "execution_count": 51,
   "metadata": {},
   "outputs": [
    {
     "name": "stdout",
     "output_type": "stream",
     "text": [
      "{'a': 1, 'b': 2}\n"
     ]
    }
   ],
   "source": [
    "dict([[1,2],[3,4]])\n",
    "\n",
    "list1 = ['a',1]\n",
    "list2 = ['b',2]\n",
    "\n",
    "d = dict([list1,list2])\n",
    "\n",
    "print(d)\n",
    "\n"
   ]
  },
  {
   "cell_type": "code",
   "execution_count": 67,
   "metadata": {},
   "outputs": [
    {
     "name": "stdout",
     "output_type": "stream",
     "text": [
      "The value of a is :  4\n",
      "1 2 3 4\n",
      "1@2@3@4\n",
      "1@2@3@4****\n",
      "\n",
      "The value of x is 5 and y is 10\n",
      "The value of x is 5 and y is 10\n",
      "The value of x is 10 and y is 5\n",
      "The value of x is 10 and y is 5\n",
      "Hello Ashok, Good Morning\n",
      "Enter the number:22343\n",
      "22343\n"
     ]
    }
   ],
   "source": [
    "#Input and Output formatting\n",
    "\n",
    "a = 4\n",
    "\n",
    "print(\"The value of a is : \",a)\n",
    "\n",
    "print(1,2,3,4)\n",
    "\n",
    "#print(object,sep='',end='',file=sys.stdout,flush=False)\n",
    "\n",
    "print(1,2,3,4,sep='@')\n",
    "\n",
    "print(1,2,3,4,sep='@',end='****')\n",
    "\n",
    "print('\\n')\n",
    "\n",
    "x = 5\n",
    "\n",
    "y = 10\n",
    "\n",
    "print('The value of x is {} and y is {}'.format(x,y))\n",
    "\n",
    "\n",
    "print('The value of x is {0} and y is {1}'.format(x,y))\n",
    "\n",
    "print('The value of x is {1} and y is {0}'.format(x,y))\n",
    "\n",
    "print('The value of x is {0} and y is {1}'.format(y,x))\n",
    "\n",
    "print('Hello {name}, {greeting}'.format(greeting='Good Morning',name='Ashok'))\n",
    "\n",
    "\n",
    "num = input('Enter the number:')\n",
    "print (num)\n",
    "\n"
   ]
  },
  {
   "cell_type": "code",
   "execution_count": 71,
   "metadata": {},
   "outputs": [
    {
     "name": "stdout",
     "output_type": "stream",
     "text": [
      "Enter the first number 43\n",
      "Enter the second number 434\n",
      "477\n",
      "The sum of 43,434 is 477\n"
     ]
    }
   ],
   "source": [
    "a = input('Enter the first number ')\n",
    "b = input('Enter the second number ')\n",
    "\n",
    "a = int(a)\n",
    "b = int(b)\n",
    "\n",
    "c = a+b\n",
    "\n",
    "print(c)\n",
    "print('The sum of {0},{1} is {2}'.format(a,b,c))"
   ]
  }
 ],
 "metadata": {
  "kernelspec": {
   "display_name": "Python 3",
   "language": "python",
   "name": "python3"
  },
  "language_info": {
   "codemirror_mode": {
    "name": "ipython",
    "version": 3
   },
   "file_extension": ".py",
   "mimetype": "text/x-python",
   "name": "python",
   "nbconvert_exporter": "python",
   "pygments_lexer": "ipython3",
   "version": "3.6.4"
  }
 },
 "nbformat": 4,
 "nbformat_minor": 2
}
