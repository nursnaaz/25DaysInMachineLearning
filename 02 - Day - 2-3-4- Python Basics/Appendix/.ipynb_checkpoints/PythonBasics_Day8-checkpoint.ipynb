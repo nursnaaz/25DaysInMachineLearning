{
 "cells": [
  {
   "cell_type": "markdown",
   "metadata": {},
   "source": [
    "# List Comprehension"
   ]
  },
  {
   "cell_type": "markdown",
   "metadata": {},
   "source": [
    "List Comprehensions provide a concise way of creating lists. Many times a complex task can be modelled in a single line.\n",
    "Here are some simple examples for transforming a list."
   ]
  },
  {
   "cell_type": "code",
   "execution_count": 20,
   "metadata": {},
   "outputs": [],
   "source": [
    "a = range(10)"
   ]
  },
  {
   "cell_type": "code",
   "execution_count": 21,
   "metadata": {},
   "outputs": [
    {
     "data": {
      "text/plain": [
       "range(0, 10)"
      ]
     },
     "execution_count": 21,
     "metadata": {},
     "output_type": "execute_result"
    }
   ],
   "source": [
    "a"
   ]
  },
  {
   "cell_type": "code",
   "execution_count": 22,
   "metadata": {},
   "outputs": [
    {
     "data": {
      "text/plain": [
       "range"
      ]
     },
     "execution_count": 22,
     "metadata": {},
     "output_type": "execute_result"
    }
   ],
   "source": [
    "type(a)"
   ]
  },
  {
   "cell_type": "code",
   "execution_count": 31,
   "metadata": {},
   "outputs": [
    {
     "data": {
      "text/plain": [
       "[4, 16, 36, 64]"
      ]
     },
     "execution_count": 31,
     "metadata": {},
     "output_type": "execute_result"
    }
   ],
   "source": [
    "[i**2 for i in range(1,10) if i%2 == 0]"
   ]
  },
  {
   "cell_type": "code",
   "execution_count": 59,
   "metadata": {},
   "outputs": [],
   "source": [
    "[x for x in a]"
   ]
  },
  {
   "cell_type": "code",
   "execution_count": 7,
   "metadata": {},
   "outputs": [
    {
     "data": {
      "text/plain": [
       "[0, 1, 4, 9, 16, 25, 36, 49, 64, 81]"
      ]
     },
     "execution_count": 7,
     "metadata": {},
     "output_type": "execute_result"
    }
   ],
   "source": [
    "[x*x for x in a]"
   ]
  },
  {
   "cell_type": "code",
   "execution_count": 8,
   "metadata": {},
   "outputs": [
    {
     "data": {
      "text/plain": [
       "[0, 2, 4, 6, 8]"
      ]
     },
     "execution_count": 8,
     "metadata": {},
     "output_type": "execute_result"
    }
   ],
   "source": [
    "[x for x in a if x % 2 == 0]"
   ]
  },
  {
   "cell_type": "code",
   "execution_count": 33,
   "metadata": {},
   "outputs": [
    {
     "data": {
      "text/plain": [
       "[(1, 2), (2, 3), (3, 5), (4, 7), (9, 12)]"
      ]
     },
     "execution_count": 33,
     "metadata": {},
     "output_type": "execute_result"
    }
   ],
   "source": [
    "a = [1, 2, 3, 4 ,9]\n",
    "b = [2, 3, 5, 7, 12,6,7,8]\n",
    "list(zip(a, b))"
   ]
  },
  {
   "cell_type": "code",
   "execution_count": 12,
   "metadata": {},
   "outputs": [
    {
     "data": {
      "text/plain": [
       "[(1, 2), (2, 3), (3, 5), (4, 7)]"
      ]
     },
     "execution_count": 12,
     "metadata": {},
     "output_type": "execute_result"
    }
   ],
   "source": [
    "[(x,y) for x, y in zip(a, b)]"
   ]
  },
  {
   "cell_type": "code",
   "execution_count": 37,
   "metadata": {},
   "outputs": [
    {
     "data": {
      "text/plain": [
       "[(0, 0, 0),\n",
       " (0, 1, 1),\n",
       " (0, 2, 2),\n",
       " (0, 3, 3),\n",
       " (0, 4, 4),\n",
       " (0, 5, 5),\n",
       " (0, 6, 6),\n",
       " (0, 7, 7),\n",
       " (0, 8, 8),\n",
       " (0, 9, 9),\n",
       " (0, 10, 10),\n",
       " (0, 11, 11),\n",
       " (0, 12, 12),\n",
       " (0, 13, 13),\n",
       " (0, 14, 14),\n",
       " (0, 15, 15),\n",
       " (0, 16, 16),\n",
       " (0, 17, 17),\n",
       " (0, 18, 18),\n",
       " (0, 19, 19),\n",
       " (1, 0, 1),\n",
       " (2, 0, 2),\n",
       " (3, 0, 3),\n",
       " (3, 4, 5),\n",
       " (4, 0, 4),\n",
       " (4, 3, 5),\n",
       " (5, 0, 5),\n",
       " (5, 12, 13),\n",
       " (6, 0, 6),\n",
       " (6, 8, 10),\n",
       " (7, 0, 7),\n",
       " (8, 0, 8),\n",
       " (8, 6, 10),\n",
       " (8, 15, 17),\n",
       " (9, 0, 9),\n",
       " (9, 12, 15),\n",
       " (10, 0, 10),\n",
       " (11, 0, 11),\n",
       " (12, 0, 12),\n",
       " (12, 5, 13),\n",
       " (12, 9, 15),\n",
       " (13, 0, 13),\n",
       " (14, 0, 14),\n",
       " (15, 0, 15),\n",
       " (15, 8, 17),\n",
       " (16, 0, 16),\n",
       " (17, 0, 17),\n",
       " (18, 0, 18),\n",
       " (19, 0, 19)]"
      ]
     },
     "execution_count": 37,
     "metadata": {},
     "output_type": "execute_result"
    }
   ],
   "source": [
    "[(a,b,c) for a in range(0,20) for b in range(0,20) for c in range(0,20) if((a**2+b**2)==c**2)]"
   ]
  },
  {
   "cell_type": "code",
   "execution_count": 17,
   "metadata": {},
   "outputs": [
    {
     "data": {
      "text/plain": [
       "[(0, 0),\n",
       " (0, 2),\n",
       " (0, 4),\n",
       " (1, 1),\n",
       " (1, 3),\n",
       " (2, 0),\n",
       " (2, 2),\n",
       " (2, 4),\n",
       " (3, 1),\n",
       " (3, 3),\n",
       " (4, 0),\n",
       " (4, 2),\n",
       " (4, 4)]"
      ]
     },
     "execution_count": 17,
     "metadata": {},
     "output_type": "execute_result"
    }
   ],
   "source": [
    "[(x, y) for x in range(5) for y in range(5) if (x+y)%2 == 0]"
   ]
  },
  {
   "cell_type": "code",
   "execution_count": 24,
   "metadata": {
    "scrolled": true
   },
   "outputs": [
    {
     "name": "stdout",
     "output_type": "stream",
     "text": [
      "[0, 0, 0]\n",
      "[1, 0, 1]\n",
      "[1, 1, 0]\n",
      "[2, 0, 2]\n",
      "[2, 2, 0]\n",
      "[3, 0, 3]\n",
      "[3, 3, 0]\n",
      "[4, 0, 4]\n",
      "[4, 4, 0]\n",
      "[5, 0, 5]\n",
      "[5, 3, 4]\n",
      "[5, 4, 3]\n",
      "[5, 5, 0]\n",
      "[6, 0, 6]\n",
      "[6, 6, 0]\n",
      "[7, 0, 7]\n",
      "[7, 7, 0]\n",
      "[8, 0, 8]\n",
      "[8, 8, 0]\n",
      "[9, 0, 9]\n",
      "[9, 9, 0]\n",
      "[10, 0, 10]\n",
      "[10, 6, 8]\n",
      "[10, 8, 6]\n",
      "[10, 10, 0]\n",
      "[11, 0, 11]\n",
      "[11, 11, 0]\n",
      "[12, 0, 12]\n",
      "[12, 12, 0]\n",
      "[13, 0, 13]\n",
      "[13, 5, 12]\n",
      "[13, 12, 5]\n",
      "[13, 13, 0]\n",
      "[14, 0, 14]\n",
      "[14, 14, 0]\n",
      "[15, 0, 15]\n",
      "[15, 9, 12]\n",
      "[15, 12, 9]\n",
      "[15, 15, 0]\n",
      "[16, 0, 16]\n",
      "[16, 16, 0]\n",
      "[17, 0, 17]\n",
      "[17, 8, 15]\n",
      "[17, 15, 8]\n",
      "[17, 17, 0]\n",
      "[18, 0, 18]\n",
      "[18, 18, 0]\n",
      "[19, 0, 19]\n",
      "[19, 19, 0]\n"
     ]
    }
   ],
   "source": [
    "for a in range(20):\n",
    "    for b in range(20):\n",
    "        for c in range(20):\n",
    "            if(a*a == b*b + c*c):\n",
    "                print(list([a,b,c]))"
   ]
  },
  {
   "cell_type": "code",
   "execution_count": 19,
   "metadata": {
    "collapsed": true
   },
   "outputs": [
    {
     "data": {
      "text/plain": [
       "[(1, 1, 0),\n",
       " (2, 2, 0),\n",
       " (3, 3, 0),\n",
       " (4, 4, 0),\n",
       " (5, 4, 3),\n",
       " (5, 5, 0),\n",
       " (6, 6, 0),\n",
       " (7, 7, 0),\n",
       " (8, 8, 0),\n",
       " (9, 9, 0),\n",
       " (10, 8, 6),\n",
       " (10, 10, 0),\n",
       " (11, 11, 0),\n",
       " (12, 12, 0),\n",
       " (13, 12, 5),\n",
       " (13, 13, 0),\n",
       " (14, 14, 0),\n",
       " (15, 12, 9),\n",
       " (15, 15, 0),\n",
       " (16, 16, 0),\n",
       " (17, 15, 8),\n",
       " (17, 17, 0),\n",
       " (18, 18, 0),\n",
       " (19, 19, 0),\n",
       " (20, 16, 12),\n",
       " (20, 20, 0),\n",
       " (21, 21, 0),\n",
       " (22, 22, 0),\n",
       " (23, 23, 0),\n",
       " (24, 24, 0),\n",
       " (25, 20, 15),\n",
       " (25, 24, 7),\n",
       " (25, 25, 0),\n",
       " (26, 24, 10),\n",
       " (26, 26, 0),\n",
       " (27, 27, 0),\n",
       " (28, 28, 0),\n",
       " (29, 21, 20),\n",
       " (29, 29, 0),\n",
       " (30, 24, 18),\n",
       " (30, 30, 0),\n",
       " (31, 31, 0),\n",
       " (32, 32, 0),\n",
       " (33, 33, 0),\n",
       " (34, 30, 16),\n",
       " (34, 34, 0),\n",
       " (35, 28, 21),\n",
       " (35, 35, 0),\n",
       " (36, 36, 0),\n",
       " (37, 35, 12),\n",
       " (37, 37, 0),\n",
       " (38, 38, 0),\n",
       " (39, 36, 15),\n",
       " (39, 39, 0),\n",
       " (40, 32, 24),\n",
       " (40, 40, 0),\n",
       " (41, 40, 9),\n",
       " (41, 41, 0),\n",
       " (42, 42, 0),\n",
       " (43, 43, 0),\n",
       " (44, 44, 0),\n",
       " (45, 36, 27),\n",
       " (45, 45, 0),\n",
       " (46, 46, 0),\n",
       " (47, 47, 0),\n",
       " (48, 48, 0),\n",
       " (49, 49, 0),\n",
       " (50, 40, 30),\n",
       " (50, 48, 14),\n",
       " (50, 50, 0),\n",
       " (51, 45, 24),\n",
       " (51, 51, 0),\n",
       " (52, 48, 20),\n",
       " (52, 52, 0),\n",
       " (53, 45, 28),\n",
       " (53, 53, 0),\n",
       " (54, 54, 0),\n",
       " (55, 44, 33),\n",
       " (55, 55, 0),\n",
       " (56, 56, 0),\n",
       " (57, 57, 0),\n",
       " (58, 42, 40),\n",
       " (58, 58, 0),\n",
       " (59, 59, 0),\n",
       " (60, 48, 36),\n",
       " (60, 60, 0),\n",
       " (61, 60, 11),\n",
       " (61, 61, 0),\n",
       " (62, 62, 0),\n",
       " (63, 63, 0),\n",
       " (64, 64, 0),\n",
       " (65, 52, 39),\n",
       " (65, 56, 33),\n",
       " (65, 60, 25),\n",
       " (65, 63, 16),\n",
       " (65, 65, 0),\n",
       " (66, 66, 0),\n",
       " (67, 67, 0),\n",
       " (68, 60, 32),\n",
       " (68, 68, 0),\n",
       " (69, 69, 0),\n",
       " (70, 56, 42),\n",
       " (70, 70, 0),\n",
       " (71, 71, 0),\n",
       " (72, 72, 0),\n",
       " (73, 55, 48),\n",
       " (73, 73, 0),\n",
       " (74, 70, 24),\n",
       " (74, 74, 0),\n",
       " (75, 60, 45),\n",
       " (75, 72, 21),\n",
       " (75, 75, 0),\n",
       " (76, 76, 0),\n",
       " (77, 77, 0),\n",
       " (78, 72, 30),\n",
       " (78, 78, 0),\n",
       " (79, 79, 0),\n",
       " (80, 64, 48),\n",
       " (80, 80, 0),\n",
       " (81, 81, 0),\n",
       " (82, 80, 18),\n",
       " (82, 82, 0),\n",
       " (83, 83, 0),\n",
       " (84, 84, 0),\n",
       " (85, 68, 51),\n",
       " (85, 75, 40),\n",
       " (85, 77, 36),\n",
       " (85, 84, 13),\n",
       " (85, 85, 0),\n",
       " (86, 86, 0),\n",
       " (87, 63, 60),\n",
       " (87, 87, 0),\n",
       " (88, 88, 0),\n",
       " (89, 80, 39),\n",
       " (89, 89, 0),\n",
       " (90, 72, 54),\n",
       " (90, 90, 0),\n",
       " (91, 84, 35),\n",
       " (91, 91, 0),\n",
       " (92, 92, 0),\n",
       " (93, 93, 0),\n",
       " (94, 94, 0),\n",
       " (95, 76, 57),\n",
       " (95, 95, 0),\n",
       " (96, 96, 0),\n",
       " (97, 72, 65),\n",
       " (97, 97, 0),\n",
       " (98, 98, 0),\n",
       " (99, 99, 0)]"
      ]
     },
     "execution_count": 19,
     "metadata": {},
     "output_type": "execute_result"
    }
   ],
   "source": [
    "[(a,b,c) for a in range(100) for b in range(100) for c in range(b) if a*a == b*b + c*c]\n"
   ]
  },
  {
   "cell_type": "code",
   "execution_count": 45,
   "metadata": {
    "scrolled": true
   },
   "outputs": [],
   "source": [
    "x = [2, 3, 4]\n",
    "y = [4, 5]\n",
    "z = {v + w for v in x for w in y}"
   ]
  },
  {
   "cell_type": "code",
   "execution_count": 48,
   "metadata": {},
   "outputs": [
    {
     "data": {
      "text/plain": [
       "{6, 7, 8, 9}"
      ]
     },
     "execution_count": 48,
     "metadata": {},
     "output_type": "execute_result"
    }
   ],
   "source": [
    "z"
   ]
  },
  {
   "cell_type": "code",
   "execution_count": 52,
   "metadata": {},
   "outputs": [
    {
     "data": {
      "text/plain": [
       "30"
      ]
     },
     "execution_count": 52,
     "metadata": {},
     "output_type": "execute_result"
    }
   ],
   "source": [
    "sum([*map(lambda x : x*2,[1,2,3,4,5])])"
   ]
  },
  {
   "cell_type": "markdown",
   "metadata": {},
   "source": [
    "PEP 448 extends the allowed uses of the * iterable unpacking operator and ** dictionary unpacking operator. It is now possible to use an arbitrary number of unpackings in function calls:\n",
    "https://docs.python.org/3/whatsnew/3.5.html#whatsnew-pep-448"
   ]
  },
  {
   "cell_type": "code",
   "execution_count": 53,
   "metadata": {},
   "outputs": [],
   "source": [
    "x = [2, 3, 4]\n",
    "y = [4, 5]\n",
    "a = [*map(lambda v : [*map(lambda w : v + w, y)], x)]\n"
   ]
  },
  {
   "cell_type": "code",
   "execution_count": 54,
   "metadata": {},
   "outputs": [
    {
     "data": {
      "text/plain": [
       "[[6, 7], [7, 8], [8, 9]]"
      ]
     },
     "execution_count": 54,
     "metadata": {},
     "output_type": "execute_result"
    }
   ],
   "source": [
    "a"
   ]
  },
  {
   "cell_type": "code",
   "execution_count": 55,
   "metadata": {},
   "outputs": [
    {
     "name": "stdout",
     "output_type": "stream",
     "text": [
      "[97.7, 98.60000000000001, 99.5, 100.4, 102.2]\n",
      "[36.5, 37.00000000000001, 37.5, 38.00000000000001, 39.0]\n"
     ]
    }
   ],
   "source": [
    "def fahrenheit(T):\n",
    "     return ((float(9)/5)*T + 32)\n",
    " \n",
    "def celsius(T):\n",
    "     return (float(5)/9)*(T-32)\n",
    " \n",
    "temperatures = (36.5, 37, 37.5, 38, 39)\n",
    "F = map(fahrenheit, temperatures)\n",
    "C = map(celsius, F)\n",
    "\n",
    "temperatures_in_Fahrenheit = list(map(fahrenheit, temperatures))\n",
    "temperatures_in_Celsius = list(map(celsius, temperatures_in_Fahrenheit))\n",
    "print(temperatures_in_Fahrenheit)\n",
    "print(temperatures_in_Celsius)\n"
   ]
  },
  {
   "cell_type": "code",
   "execution_count": 57,
   "metadata": {},
   "outputs": [
    {
     "data": {
      "text/plain": [
       "[97.7, 98.60000000000001, 99.5, 100.4, 102.2]"
      ]
     },
     "execution_count": 57,
     "metadata": {},
     "output_type": "execute_result"
    }
   ],
   "source": [
    "[*map(lambda x : ((float(9)/5)*x + 32), temperatures )]\n"
   ]
  },
  {
   "cell_type": "code",
   "execution_count": 50,
   "metadata": {},
   "outputs": [
    {
     "name": "stdout",
     "output_type": "stream",
     "text": [
      "[102.56, 97.7, 99.14, 100.4, 100.03999999999999]\n",
      "[39.2, 36.5, 37.300000000000004, 38.00000000000001, 37.8]\n"
     ]
    }
   ],
   "source": [
    "C = [39.2, 36.5, 37.3, 38, 37.8] \n",
    "F = list(map(lambda x: (float(9)/5)*x + 32, C))\n",
    "print(F)\n",
    "C = list(map(lambda x: (float(5)/9)*(x-32), F))\n",
    "print(C)"
   ]
  },
  {
   "cell_type": "code",
   "execution_count": 51,
   "metadata": {},
   "outputs": [
    {
     "data": {
      "text/plain": [
       "[37.5, 33.0, 24.5, 21.0]"
      ]
     },
     "execution_count": 51,
     "metadata": {},
     "output_type": "execute_result"
    }
   ],
   "source": [
    "a = [1, 2, 3, 4]\n",
    "b = [17, 12, 11, 10]\n",
    "c = [-1, -4, 5, 9]\n",
    "list(map(lambda x, y : x+y, a, b))\n",
    "list(map(lambda x, y, z : x+y+z, a, b, c))\n",
    "list(map(lambda x, y, z : 2.5*x + 2*y - z, a, b, c))\n"
   ]
  },
  {
   "cell_type": "code",
   "execution_count": 65,
   "metadata": {},
   "outputs": [
    {
     "name": "stdout",
     "output_type": "stream",
     "text": [
      "{1, 3, 5, 13, 21, 55}\n",
      "[0, 2, 8, 34]\n",
      "[0, 2, 8, 34]\n"
     ]
    }
   ],
   "source": [
    "fibonacci = (0,1,1,2,3,5,8,13,21,34,55)\n",
    "odd_numbers = set(filter(lambda x: x % 2, fibonacci))\n",
    "print(odd_numbers)\n",
    "even_numbers = list(filter(lambda x: x % 2 == 0, fibonacci))\n",
    "print(even_numbers)\n",
    " \n",
    "# or alternatively:\n",
    "even_numbers = list(filter(lambda x: x % 2 -1, fibonacci))\n",
    "print(even_numbers)\n"
   ]
  },
  {
   "cell_type": "markdown",
   "metadata": {},
   "source": [
    "https://www.python-course.eu/images/reduce.png"
   ]
  },
  {
   "cell_type": "code",
   "execution_count": 65,
   "metadata": {},
   "outputs": [
    {
     "data": {
      "text/plain": [
       "654"
      ]
     },
     "execution_count": 65,
     "metadata": {},
     "output_type": "execute_result"
    }
   ],
   "source": [
    "import functools\n",
    "functools.reduce(lambda x,y: x if (x > y) else y, [654,47,11,42,13,12,334,565,23])\n"
   ]
  },
  {
   "cell_type": "markdown",
   "metadata": {},
   "source": [
    "https://www.python-course.eu/images/reduce_diagram.png"
   ]
  },
  {
   "cell_type": "markdown",
   "metadata": {},
   "source": [
    "Determining the maximum of a list of numerical values by using reduce:\n"
   ]
  },
  {
   "cell_type": "code",
   "execution_count": 10,
   "metadata": {},
   "outputs": [
    {
     "data": {
      "text/plain": [
       "102"
      ]
     },
     "execution_count": 10,
     "metadata": {},
     "output_type": "execute_result"
    }
   ],
   "source": [
    "from functools import reduce\n",
    "f = lambda a,b: a if (a > b) else b\n",
    "reduce(f, [47,11,42,102,13])"
   ]
  },
  {
   "cell_type": "code",
   "execution_count": null,
   "metadata": {},
   "outputs": [],
   "source": []
  }
 ],
 "metadata": {
  "kernelspec": {
   "display_name": "Python 3",
   "language": "python",
   "name": "python3"
  },
  "language_info": {
   "codemirror_mode": {
    "name": "ipython",
    "version": 3
   },
   "file_extension": ".py",
   "mimetype": "text/x-python",
   "name": "python",
   "nbconvert_exporter": "python",
   "pygments_lexer": "ipython3",
   "version": "3.6.4"
  }
 },
 "nbformat": 4,
 "nbformat_minor": 2
}
