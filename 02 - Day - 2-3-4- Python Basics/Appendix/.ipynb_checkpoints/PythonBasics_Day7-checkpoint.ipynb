{
 "cells": [
  {
   "cell_type": "code",
   "execution_count": 1,
   "metadata": {},
   "outputs": [
    {
     "name": "stdout",
     "output_type": "stream",
     "text": [
      "/Users/mnoordeen/Documents/GitHub/PythonWithAWSTraining/Python Basics\n"
     ]
    },
    {
     "data": {
      "text/plain": [
       "b'/Users/mnoordeen/Documents/GitHub/PythonWithAWSTraining/Python Basics'"
      ]
     },
     "execution_count": 1,
     "metadata": {},
     "output_type": "execute_result"
    }
   ],
   "source": [
    "#Python Directory and files Management\n",
    "#Get the directory\n",
    "import os\n",
    "print(os.getcwd()) # String\n",
    "os.getcwdb() # Bytes object"
   ]
  },
  {
   "cell_type": "code",
   "execution_count": 3,
   "metadata": {},
   "outputs": [
    {
     "name": "stdout",
     "output_type": "stream",
     "text": [
      "/Users/mnoordeen/Documents/GitHub/PythonWithAWSTraining\n"
     ]
    }
   ],
   "source": [
    "#Change the directory\n",
    "os.chdir('/Users/mnoordeen/Documents/GitHub/PythonWithAWSTraining/')\n",
    "print(os.getcwd()) # String\n"
   ]
  },
  {
   "cell_type": "code",
   "execution_count": 4,
   "metadata": {},
   "outputs": [
    {
     "name": "stdout",
     "output_type": "stream",
     "text": [
      "['Python Basics', '.DS_Store', '.git']\n"
     ]
    }
   ],
   "source": [
    "#list directories and files\n",
    "\n",
    "print(os.listdir())"
   ]
  },
  {
   "cell_type": "code",
   "execution_count": 5,
   "metadata": {},
   "outputs": [
    {
     "name": "stdout",
     "output_type": "stream",
     "text": [
      "['deepLearningBook-Notes', 'MachineLearning with python', 'PythonWithAWSTraining', 'TwitterSentiment-Example', 'Inceptez', 'TwitterApi-to-scrape', 'Easy-deep-learning-with-Keras', 'HousingPricePrediction', 'Artificial-Intelligence-Deep-Learning-Machine-Learning-Tutorials', '.DS_Store', 'Test', 'Deeplearning', 'Data-Science-Training-Python-', 'NatsProducerConsumer', 'retrain.py', 'CustomerResponsePrediction', 'NumpyLib', 'MachineLearningWithPython', 'Deeplearning_1', 'PythonOnlineAshok', 'testexample', 'CheetSheet', 'flower_photos', 'Batch-1-Beseant-Tech', 'BigData']\n"
     ]
    }
   ],
   "source": [
    "print(os.listdir('/Users/mnoordeen/Documents/GitHub/'))"
   ]
  },
  {
   "cell_type": "code",
   "execution_count": 9,
   "metadata": {},
   "outputs": [
    {
     "name": "stdout",
     "output_type": "stream",
     "text": [
      "/Users/mnoordeen/Documents/GitHub/PythonWithAWSTraining\n"
     ]
    }
   ],
   "source": [
    "print(os.getcwd())\n",
    "\n",
    "#Create a new directory\n",
    "\n",
    "os.mkdir('test')\n",
    "\n"
   ]
  },
  {
   "cell_type": "code",
   "execution_count": 10,
   "metadata": {},
   "outputs": [],
   "source": [
    "#Rename a directory\n",
    "os.rename('test', 'noortest')"
   ]
  },
  {
   "cell_type": "code",
   "execution_count": 11,
   "metadata": {},
   "outputs": [],
   "source": [
    "#Remove the Directory\n",
    "os.listdir()\n",
    "\n",
    "#os.remove('test.txt')\n",
    "\n",
    "os.removedirs('noortest')\n",
    "\n",
    "#os.rmdir('noortest')"
   ]
  },
  {
   "cell_type": "code",
   "execution_count": 13,
   "metadata": {},
   "outputs": [],
   "source": [
    "os.removedirs?"
   ]
  },
  {
   "cell_type": "code",
   "execution_count": 36,
   "metadata": {
    "collapsed": true
   },
   "outputs": [],
   "source": [
    "import shutil\n",
    "shutil.rmtree('noortest/')"
   ]
  },
  {
   "cell_type": "code",
   "execution_count": 37,
   "metadata": {},
   "outputs": [
    {
     "ename": "SyntaxError",
     "evalue": "invalid syntax (<ipython-input-37-8625009197cc>, line 1)",
     "output_type": "error",
     "traceback": [
      "\u001b[1;36m  File \u001b[1;32m\"<ipython-input-37-8625009197cc>\"\u001b[1;36m, line \u001b[1;32m1\u001b[0m\n\u001b[1;33m    if a < 3\u001b[0m\n\u001b[1;37m            ^\u001b[0m\n\u001b[1;31mSyntaxError\u001b[0m\u001b[1;31m:\u001b[0m invalid syntax\n"
     ]
    }
   ],
   "source": [
    "if a < 3"
   ]
  },
  {
   "cell_type": "code",
   "execution_count": 38,
   "metadata": {},
   "outputs": [
    {
     "ename": "ZeroDivisionError",
     "evalue": "division by zero",
     "output_type": "error",
     "traceback": [
      "\u001b[1;31m---------------------------------------------------------------------------\u001b[0m",
      "\u001b[1;31mZeroDivisionError\u001b[0m                         Traceback (most recent call last)",
      "\u001b[1;32m<ipython-input-38-05c9758a9c21>\u001b[0m in \u001b[0;36m<module>\u001b[1;34m()\u001b[0m\n\u001b[1;32m----> 1\u001b[1;33m \u001b[1;36m1\u001b[0m\u001b[1;33m/\u001b[0m\u001b[1;36m0\u001b[0m\u001b[1;33m\u001b[0m\u001b[0m\n\u001b[0m",
      "\u001b[1;31mZeroDivisionError\u001b[0m: division by zero"
     ]
    }
   ],
   "source": [
    "#Error can also occur at runtime and there are called exceptions\n",
    "1/0"
   ]
  },
  {
   "cell_type": "code",
   "execution_count": 48,
   "metadata": {},
   "outputs": [
    {
     "name": "stdout",
     "output_type": "stream",
     "text": [
      "1\n",
      "1\n",
      "\n",
      "\n",
      "Try is done and it is executed finally\n",
      "1\n",
      "3\n",
      "\n",
      "\n",
      "Try is done and it is executed finally\n",
      "1\n",
      "4\n",
      "\n",
      "\n",
      "Try is done and it is executed finally\n",
      "1\n",
      "0\n",
      "\n",
      "\n",
      "OOPs! <class 'ZeroDivisionError'> occured\n",
      "\n",
      "Try is done and it is executed finally\n",
      "1\n",
      "2\n",
      "\n",
      "\n",
      "Try is done and it is executed finally\n",
      "1\n",
      "4\n",
      "\n",
      "\n",
      "Try is done and it is executed finally\n",
      "2\n",
      "1\n",
      "\n",
      "\n",
      "Try is done and it is executed finally\n",
      "2\n",
      "3\n",
      "\n",
      "\n",
      "Try is done and it is executed finally\n",
      "2\n",
      "4\n",
      "\n",
      "\n",
      "Try is done and it is executed finally\n",
      "2\n",
      "0\n",
      "\n",
      "\n",
      "OOPs! <class 'ZeroDivisionError'> occured\n",
      "\n",
      "Try is done and it is executed finally\n",
      "2\n",
      "2\n",
      "\n",
      "\n",
      "Try is done and it is executed finally\n",
      "2\n",
      "4\n",
      "\n",
      "\n",
      "Try is done and it is executed finally\n",
      "3\n",
      "1\n",
      "\n",
      "\n",
      "Try is done and it is executed finally\n",
      "3\n",
      "3\n",
      "\n",
      "\n",
      "Try is done and it is executed finally\n",
      "3\n",
      "4\n",
      "\n",
      "\n",
      "Try is done and it is executed finally\n",
      "3\n",
      "0\n",
      "\n",
      "\n",
      "OOPs! <class 'ZeroDivisionError'> occured\n",
      "\n",
      "Try is done and it is executed finally\n",
      "3\n",
      "2\n",
      "\n",
      "\n",
      "Try is done and it is executed finally\n",
      "3\n",
      "4\n",
      "\n",
      "\n",
      "Try is done and it is executed finally\n",
      "40\n",
      "1\n",
      "\n",
      "\n",
      "Try is done and it is executed finally\n",
      "40\n",
      "3\n",
      "\n",
      "\n",
      "Try is done and it is executed finally\n",
      "40\n",
      "4\n",
      "\n",
      "\n",
      "Try is done and it is executed finally\n",
      "40\n",
      "0\n",
      "\n",
      "\n",
      "OOPs! <class 'ZeroDivisionError'> occured\n",
      "\n",
      "Try is done and it is executed finally\n",
      "40\n",
      "2\n",
      "\n",
      "\n",
      "Try is done and it is executed finally\n",
      "40\n",
      "4\n",
      "\n",
      "\n",
      "Try is done and it is executed finally\n",
      "0\n",
      "1\n",
      "\n",
      "\n",
      "Try is done and it is executed finally\n",
      "0\n",
      "3\n",
      "\n",
      "\n",
      "Try is done and it is executed finally\n",
      "0\n",
      "4\n",
      "\n",
      "\n",
      "Try is done and it is executed finally\n",
      "0\n",
      "0\n",
      "\n",
      "\n",
      "OOPs! <class 'ZeroDivisionError'> occured\n",
      "\n",
      "Try is done and it is executed finally\n",
      "0\n",
      "2\n",
      "\n",
      "\n",
      "Try is done and it is executed finally\n",
      "0\n",
      "4\n",
      "\n",
      "\n",
      "Try is done and it is executed finally\n",
      "23\n",
      "1\n",
      "\n",
      "\n",
      "Try is done and it is executed finally\n",
      "23\n",
      "3\n",
      "\n",
      "\n",
      "Try is done and it is executed finally\n",
      "23\n",
      "4\n",
      "\n",
      "\n",
      "Try is done and it is executed finally\n",
      "23\n",
      "0\n",
      "\n",
      "\n",
      "OOPs! <class 'ZeroDivisionError'> occured\n",
      "\n",
      "Try is done and it is executed finally\n",
      "23\n",
      "2\n",
      "\n",
      "\n",
      "Try is done and it is executed finally\n",
      "23\n",
      "4\n",
      "\n",
      "\n",
      "Try is done and it is executed finally\n"
     ]
    }
   ],
   "source": [
    "import sys\n",
    "a = [1,2,3,40,0,23]\n",
    "b = [1,3,4,0,2,4]\n",
    "\n",
    "for x in a:\n",
    "    for y in b:\n",
    "        try:\n",
    "            print(x)\n",
    "            print(y)\n",
    "            print(\"\\n\")\n",
    "            x/y\n",
    "        except:\n",
    "            print(\"OOPs!\",sys.exc_info()[0],\"occured\" )\n",
    "            print()\n",
    "        finally:\n",
    "            print(\"Try is done and it is executed finally\")\n",
    "            "
   ]
  }
 ],
 "metadata": {
  "kernelspec": {
   "display_name": "Python 3",
   "language": "python",
   "name": "python3"
  },
  "language_info": {
   "codemirror_mode": {
    "name": "ipython",
    "version": 3
   },
   "file_extension": ".py",
   "mimetype": "text/x-python",
   "name": "python",
   "nbconvert_exporter": "python",
   "pygments_lexer": "ipython3",
   "version": "3.6.4"
  }
 },
 "nbformat": 4,
 "nbformat_minor": 2
}
