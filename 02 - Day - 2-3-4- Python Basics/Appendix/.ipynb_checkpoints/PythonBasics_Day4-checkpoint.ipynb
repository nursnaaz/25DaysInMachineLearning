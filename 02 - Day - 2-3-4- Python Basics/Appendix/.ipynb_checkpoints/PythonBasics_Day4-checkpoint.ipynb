{
 "cells": [
  {
   "cell_type": "code",
   "execution_count": 2,
   "metadata": {},
   "outputs": [
    {
     "name": "stdout",
     "output_type": "stream",
     "text": [
      "3.141592653589793\n"
     ]
    },
    {
     "data": {
      "text/plain": [
       "3.141592653589793"
      ]
     },
     "execution_count": 2,
     "metadata": {},
     "output_type": "execute_result"
    }
   ],
   "source": [
    "#import \n",
    "# definitions inside inside module that can be imported to another module or interactive interpreter in python\n",
    "\n",
    "import math\n",
    "print(math.pi)\n",
    "\n",
    "from math import pi\n",
    "Print(pi)"
   ]
  },
  {
   "cell_type": "code",
   "execution_count": 9,
   "metadata": {},
   "outputs": [
    {
     "name": "stdout",
     "output_type": "stream",
     "text": [
      "13\n",
      "7\n",
      "30\n",
      "3.3333333333333335\n",
      "1\n",
      "3\n",
      "1000\n"
     ]
    }
   ],
   "source": [
    "#operators\n",
    "\n",
    "#Arithnetic operators\n",
    "\n",
    "#+,-,*,/,%,//,**\n",
    "\n",
    "x = 10\n",
    "y = 3\n",
    "print(x+y)\n",
    "print(x-y)\n",
    "print(x*3)\n",
    "print(x/y) #Quotient\n",
    "print(x%y)  #Reminder\n",
    "print(x//y) #whole number in quotient\n",
    "print(x**y) #Power"
   ]
  },
  {
   "cell_type": "code",
   "execution_count": 20,
   "metadata": {},
   "outputs": [
    {
     "name": "stdout",
     "output_type": "stream",
     "text": [
      "True\n",
      "True\n",
      "False\n",
      "False\n",
      "True\n",
      "True\n",
      "True\n",
      "False\n"
     ]
    }
   ],
   "source": [
    "#Comparison Operators\n",
    "\n",
    "#  >,<.==, !=, >=, <=\n",
    "\n",
    "#logical operators\n",
    "#   and , or, not\n",
    "\n",
    "#Bitwise operators\n",
    "#  &,|,~,^,>>,<<\n",
    "\n",
    "#Special operators - Identity operator\n",
    "\n",
    "#is  and isnot\n",
    "\n",
    "x1 = 5\n",
    "y1 = 5\n",
    "x2 = 'Hello'\n",
    "y2 = 'Hello'\n",
    "x3 = [1,2,3]\n",
    "y3 = [1,2,3]\n",
    "\n",
    "\n",
    "print(x1 is y1)\n",
    "print(x2 is y2)\n",
    "print(x3 is y3)\n",
    "\n",
    "#Membership operators\n",
    "\n",
    "# in and not in\n",
    "\n",
    "print(5 in x3)\n",
    "\n",
    "x = 'Hello world'\n",
    "y = {1 : 'a', 2:'b'}\n",
    "\n",
    "print('H' in x)\n",
    "print('hello' not in x)\n",
    "print(1 in y)\n",
    "print('a' in y)\n"
   ]
  },
  {
   "cell_type": "code",
   "execution_count": 22,
   "metadata": {},
   "outputs": [
    {
     "name": "stdout",
     "output_type": "stream",
     "text": [
      "Enter a number : -5\n",
      "This is always printed\n",
      "-5  is a negative number \n"
     ]
    }
   ],
   "source": [
    "#If statement\n",
    "\n",
    "#if test expression:\n",
    "#    statement(s)\n",
    "\n",
    "\n",
    "# program to print positive integer or not\n",
    "\n",
    "num = int(input(\"Enter a number : \"))\n",
    "\n",
    "if num > 0:\n",
    "    print(num,\" is a positive number \")\n",
    "print(\"This is always printed\")\n",
    "\n",
    "if num <0 :\n",
    "    print(num,\" is a negative number \")\n",
    "\n",
    "\n"
   ]
  },
  {
   "cell_type": "code",
   "execution_count": 25,
   "metadata": {},
   "outputs": [
    {
     "name": "stdout",
     "output_type": "stream",
     "text": [
      "Enter a number : 0\n",
      "0  is a negative number \n"
     ]
    }
   ],
   "source": [
    "#if else statement\n",
    "\n",
    "#if test expression:\n",
    "#    Body of if\n",
    "#else:\n",
    "#      Body of else   \n",
    "\n",
    "\n",
    "# program to print positive integer or not\n",
    "\n",
    "num = int(input(\"Enter a number : \"))\n",
    "\n",
    "if num > 0:\n",
    "    print(num,\" is a positive number \")\n",
    "else:\n",
    "    print(num,\" is a negative number \")\n",
    "\n",
    "\n"
   ]
  },
  {
   "cell_type": "code",
   "execution_count": 28,
   "metadata": {},
   "outputs": [
    {
     "name": "stdout",
     "output_type": "stream",
     "text": [
      "Enter a number : -4\n",
      "-4  is a negative number \n"
     ]
    }
   ],
   "source": [
    "# if...elif...else\n",
    "\n",
    "#if test expression:\n",
    "#   Body of if\n",
    "#elif test expresion\n",
    "#   Body of elif\n",
    "#else:\n",
    "#    Body of else\n",
    "\n",
    "\n",
    "# program to print positive integer or not\n",
    "\n",
    "num = int(input(\"Enter a number : \"))\n",
    "\n",
    "if num > 0:\n",
    "    print(num,\" is a positive number \")\n",
    "elif num == 0:\n",
    "    print(num,\" is Zero \")\n",
    "else:\n",
    "    print(num,\" is a negative number \")\n",
    "\n",
    "\n",
    "\n"
   ]
  },
  {
   "cell_type": "code",
   "execution_count": 30,
   "metadata": {},
   "outputs": [
    {
     "name": "stdout",
     "output_type": "stream",
     "text": [
      "The sum of num list is  65\n"
     ]
    }
   ],
   "source": [
    "#for loop\n",
    "\n",
    "#for val in sequence:\n",
    "#   Body of for\n",
    "\n",
    "num = [6,3,4,5,6,8,5,6,4,3,1,2,3,9]\n",
    "sum = 0\n",
    "for val in num:\n",
    "    sum = sum +val\n",
    "print (\"The sum of num list is \",sum)\n"
   ]
  },
  {
   "cell_type": "code",
   "execution_count": 40,
   "metadata": {},
   "outputs": [
    {
     "name": "stdout",
     "output_type": "stream",
     "text": [
      "[1, 2, 3, 4, 5, 6, 7, 8, 9, 10]\n",
      "[2, 3, 4, 5, 6, 7]\n",
      "[1, 4, 7, 10]\n",
      "I like  vanilla\n",
      "I like  strawberry\n",
      "I like  butterscoth\n"
     ]
    }
   ],
   "source": [
    "#Range\n",
    "\n",
    "print(list(range(1,11)))\n",
    "print(list(range(2,8)))\n",
    "print(list(range(1,11,3)))\n",
    "\n",
    "iceCream = ['vanilla', 'strawberry','butterscoth']\n",
    "for i in range(len(iceCream)):\n",
    "    print ('I like ',iceCream[i])\n"
   ]
  },
  {
   "cell_type": "code",
   "execution_count": 41,
   "metadata": {},
   "outputs": [
    {
     "name": "stdout",
     "output_type": "stream",
     "text": [
      "0\n",
      "1\n",
      "2\n",
      "6\n",
      "7\n",
      "9\n",
      "No item is left\n"
     ]
    }
   ],
   "source": [
    "#for with else\n",
    "\n",
    "digits = [0,1,2,6,7,9]\n",
    "for i in digits:\n",
    "    print(i)\n",
    "else:\n",
    "    print(\"No item is left\")\n"
   ]
  },
  {
   "cell_type": "code",
   "execution_count": 1,
   "metadata": {},
   "outputs": [
    {
     "name": "stdout",
     "output_type": "stream",
     "text": [
      "Enter Number:5\n",
      "120\n"
     ]
    }
   ],
   "source": [
    "num = int(input(\"Enter Number:\"))\n",
    "a = 1\n",
    "for i in range(1,num+1):\n",
    "    a = a*i\n",
    "print(a)"
   ]
  },
  {
   "cell_type": "code",
   "execution_count": null,
   "metadata": {
    "collapsed": true
   },
   "outputs": [],
   "source": [
    "# Write a program to check prime number or not\n",
    "# Write a program to find a factorial of the number"
   ]
  },
  {
   "cell_type": "code",
   "execution_count": 45,
   "metadata": {},
   "outputs": [
    {
     "name": "stdout",
     "output_type": "stream",
     "text": [
      "The program is done\n",
      "The sum is :  55\n"
     ]
    }
   ],
   "source": [
    "#While loop\n",
    "\n",
    "#While test_Expression:\n",
    "#    Body of while\n",
    "\n",
    "n = 10\n",
    "sum = 0\n",
    "i = 1\n",
    "while i <= n:\n",
    "    sum = sum + i\n",
    "    i = i + 1\n",
    "else:\n",
    "    print(\"The program is done\")\n",
    "print(\"The sum is : \",sum)\n",
    "\n",
    "\n"
   ]
  },
  {
   "cell_type": "code",
   "execution_count": null,
   "metadata": {
    "collapsed": true
   },
   "outputs": [],
   "source": [
    "#Write a program on fibonnacci series\n",
    "\n",
    "0,1,1,2,3,5,8,"
   ]
  },
  {
   "cell_type": "code",
   "execution_count": 7,
   "metadata": {},
   "outputs": [],
   "source": [
    "print?"
   ]
  },
  {
   "cell_type": "code",
   "execution_count": 6,
   "metadata": {},
   "outputs": [
    {
     "name": "stdout",
     "output_type": "stream",
     "text": [
      "s t r End\n"
     ]
    }
   ],
   "source": [
    "#break\n",
    "\n",
    "for val in 'string':\n",
    "    if val == 'i':\n",
    "        break\n",
    "    print(val,end=\" \")\n",
    "print(\"End\")"
   ]
  },
  {
   "cell_type": "code",
   "execution_count": 47,
   "metadata": {},
   "outputs": [
    {
     "name": "stdout",
     "output_type": "stream",
     "text": [
      "s\n",
      "t\n",
      "r\n",
      "n\n",
      "g\n",
      "End\n"
     ]
    }
   ],
   "source": [
    "#Continue\n",
    "\n",
    "for val in 'string':\n",
    "    if val == 'i':\n",
    "        continue\n",
    "    print(val)\n",
    "print(\"End\")"
   ]
  },
  {
   "cell_type": "code",
   "execution_count": 3,
   "metadata": {},
   "outputs": [],
   "source": [
    "#Pass \n",
    "\n",
    "#we use pass statement to construct a body that does not do anything\n",
    "\n",
    "sequence = {'p','a','s','s'}\n",
    "for val in sequence:\n",
    "    pass\n",
    "    \n",
    "\n",
    "def function(args):\n",
    "    pass\n",
    "    \n",
    "\n",
    "class example:\n",
    "    pass\n",
    "    "
   ]
  },
  {
   "cell_type": "code",
   "execution_count": null,
   "metadata": {},
   "outputs": [],
   "source": []
  }
 ],
 "metadata": {
  "kernelspec": {
   "display_name": "Python 3",
   "language": "python",
   "name": "python3"
  },
  "language_info": {
   "codemirror_mode": {
    "name": "ipython",
    "version": 3
   },
   "file_extension": ".py",
   "mimetype": "text/x-python",
   "name": "python",
   "nbconvert_exporter": "python",
   "pygments_lexer": "ipython3",
   "version": "3.6.4"
  }
 },
 "nbformat": 4,
 "nbformat_minor": 2
}
