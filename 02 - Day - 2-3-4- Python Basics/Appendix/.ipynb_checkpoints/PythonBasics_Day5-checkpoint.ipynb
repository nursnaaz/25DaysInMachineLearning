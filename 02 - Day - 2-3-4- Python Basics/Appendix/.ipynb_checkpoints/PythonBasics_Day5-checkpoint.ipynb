{
 "cells": [
  {
   "cell_type": "markdown",
   "metadata": {},
   "source": [
    "#Syntax of function\n",
    "\n",
    "#def function_name(parameters):\n",
    "     \"\"\"doc string\"\"\"\n",
    "     statement(s)\n",
    "     return \"\""
   ]
  },
  {
   "cell_type": "markdown",
   "metadata": {},
   "source": [
    "1. Keyword - def\n",
    "2. function name should be uniquely identify it.\n",
    "3. Parameter - optional\n",
    "4. : - mandatory\n",
    "5. doctring - optional\n",
    "6. return statement - optional"
   ]
  },
  {
   "cell_type": "code",
   "execution_count": 1,
   "metadata": {},
   "outputs": [
    {
     "name": "stdout",
     "output_type": "stream",
     "text": [
      "Hello,  xyz . Good morning!\n",
      "Hello,  abc . Good morning!\n"
     ]
    }
   ],
   "source": [
    "def greet(name):\n",
    "    \"\"\"This function greets to the person passed in as parameter\"\"\"\n",
    "    print(\"Hello, \",name,\". Good morning!\")\n",
    "\n",
    "#Function call\n",
    "greet(\"xyz\") \n",
    "greet(\"abc\")"
   ]
  },
  {
   "cell_type": "code",
   "execution_count": 2,
   "metadata": {},
   "outputs": [],
   "source": [
    "greet?"
   ]
  },
  {
   "cell_type": "code",
   "execution_count": 3,
   "metadata": {},
   "outputs": [
    {
     "name": "stdout",
     "output_type": "stream",
     "text": [
      "This function greets to the person passed in as parameter\n"
     ]
    }
   ],
   "source": [
    "print(greet.__doc__)"
   ]
  },
  {
   "cell_type": "code",
   "execution_count": 6,
   "metadata": {},
   "outputs": [
    {
     "name": "stdout",
     "output_type": "stream",
     "text": [
      "3\n",
      "3\n"
     ]
    }
   ],
   "source": [
    "def abs_value(num):\n",
    "    \"\"\"This function returns the absolute value of the entered number\"\"\"\n",
    "    if(num>=0):\n",
    "        return num\n",
    "    else:\n",
    "        return -num\n",
    "\n",
    "print(abs_value(3))\n",
    "print(abs_value(-3))"
   ]
  },
  {
   "cell_type": "code",
   "execution_count": 4,
   "metadata": {},
   "outputs": [
    {
     "name": "stdout",
     "output_type": "stream",
     "text": [
      "value inside function :  10\n",
      "value outside function :  20\n"
     ]
    }
   ],
   "source": [
    "#Scope of a variables in function\n",
    "\n",
    "def my_func(x):\n",
    "    x = 10\n",
    "    print(\"value inside function : \",x)\n",
    "\n",
    "x = 20\n",
    "my_func(x+1)\n",
    "print(\"value outside function : \",x)\n"
   ]
  },
  {
   "cell_type": "code",
   "execution_count": 7,
   "metadata": {},
   "outputs": [
    {
     "name": "stdout",
     "output_type": "stream",
     "text": [
      "first  20\n",
      "sec  10\n"
     ]
    }
   ],
   "source": [
    "x = 20\n",
    "print(\"first \",x)\n",
    "x = 10\n",
    "print(\"sec \",x)\n"
   ]
  },
  {
   "cell_type": "code",
   "execution_count": 13,
   "metadata": {},
   "outputs": [
    {
     "name": "stdout",
     "output_type": "stream",
     "text": [
      "Hello,  ashok Good Morning\n",
      "Hello,  abc Good Morning\n"
     ]
    }
   ],
   "source": [
    "#Argument/Parameter\n",
    "\n",
    "def greet(name,msg):\n",
    "    \"\"\"This function greets to the person passed in as parameter\"\"\"\n",
    "    print(\"Hello, \",name,msg)\n",
    "\n",
    "#Function call\n",
    "greet(\"xyz\",\"Good Morning\") \n",
    "greet(\"abc\",\"Good Morning\")\n",
    "\n"
   ]
  },
  {
   "cell_type": "code",
   "execution_count": 15,
   "metadata": {},
   "outputs": [
    {
     "name": "stdout",
     "output_type": "stream",
     "text": [
      "Hello,  ashok Good Night\n",
      "Hello,  abc Good morning\n"
     ]
    }
   ],
   "source": [
    "def greet(name,msg = \"Good morning\"):\n",
    "    \"\"\"This function greets to the person passed in as parameter\"\"\"\n",
    "    print(\"Hello, \",name,msg)\n",
    "\n",
    "#Function call\n",
    "greet(\"xyz\",\"Good Night\") \n",
    "greet(\"abc\")\n",
    "\n"
   ]
  },
  {
   "cell_type": "code",
   "execution_count": 20,
   "metadata": {},
   "outputs": [
    {
     "name": "stdout",
     "output_type": "stream",
     "text": [
      "Hello,  ashok\n",
      "Hello,  noor\n",
      "Hello,  csac\n"
     ]
    }
   ],
   "source": [
    "#Arbitrary Arguments\n",
    "\n",
    "def greet(*name):\n",
    "    \"\"\"This function greets to the person passed in as parameter\"\"\"\n",
    "    for i in name:\n",
    "        print(\"Hello, \",i)\n",
    "\n",
    "#Function call\n",
    "greet(\"xyz\",\"noor\",\"csac\")"
   ]
  },
  {
   "cell_type": "code",
   "execution_count": 6,
   "metadata": {},
   "outputs": [
    {
     "name": "stdout",
     "output_type": "stream",
     "text": [
      "Select operation : \n",
      "1. Add \n",
      "2. Subtract\n",
      "3. Multiply\n",
      "4. Divide\n",
      "Enter the choice (1/2/3/4): 4\n",
      "Enter the first number 56546\n",
      "Enter the second number 43\n",
      "56546 / 43  =  1315.0232558139535\n"
     ]
    }
   ],
   "source": [
    "#Simple calculator\n",
    "\n",
    "'''Program make a simple calculator'''\n",
    "#This function adds the two numbers\n",
    "def add(x,y):\n",
    "    return x+y\n",
    "\n",
    "#This function subtract the two numbers\n",
    "def sub(x,y):\n",
    "    return x-y\n",
    "\n",
    "#This function multiplication the two numbers\n",
    "def mul(x,y):\n",
    "    return x*y\n",
    "\n",
    "#This function division the two numbers\n",
    "def div(x,y):\n",
    "    return x/y\n",
    "\n",
    "print(\"Select operation : \")\n",
    "print(\"1. Add \")\n",
    "print(\"2. Subtract\")\n",
    "print(\"3. Multiply\")\n",
    "print(\"4. Divide\")\n",
    "#Take input from the user\n",
    "choice = input(\"Enter the choice (1/2/3/4): \")\n",
    "\n",
    "num1 = int(input(\"Enter the first number \"))\n",
    "num2 = int(input(\"Enter the second number \"))\n",
    "\n",
    "if choice == \"1\":\n",
    "    print(num1,\"+\",num2,\" = \",add(num1,num2))\n",
    "    \n",
    "elif choice == \"2\":\n",
    "    print(num1,\"-\",num2,\" = \",sub(num1,num2))\n",
    "    \n",
    "elif choice == \"3\":\n",
    "    print(num1,\"*\",num2,\" = \",mul(num1,num2))\n",
    "\n",
    "elif choice == \"4\":\n",
    "    print(num1,\"/\",num2,\" = \",div(num1,num2))\n",
    "\n",
    "else:\n",
    "    print(\"Invalid input\")"
   ]
  },
  {
   "cell_type": "code",
   "execution_count": 1,
   "metadata": {},
   "outputs": [
    {
     "name": "stdout",
     "output_type": "stream",
     "text": [
      "(2, 3, 4)\n"
     ]
    }
   ],
   "source": [
    "def test():\n",
    "    return 2,3,4\n",
    "\n",
    "print(test())"
   ]
  },
  {
   "cell_type": "code",
   "execution_count": null,
   "metadata": {},
   "outputs": [],
   "source": []
  }
 ],
 "metadata": {
  "kernelspec": {
   "display_name": "Python 3",
   "language": "python",
   "name": "python3"
  },
  "language_info": {
   "codemirror_mode": {
    "name": "ipython",
    "version": 3
   },
   "file_extension": ".py",
   "mimetype": "text/x-python",
   "name": "python",
   "nbconvert_exporter": "python",
   "pygments_lexer": "ipython3",
   "version": "3.6.4"
  }
 },
 "nbformat": 4,
 "nbformat_minor": 2
}
