{
 "cells": [
  {
   "cell_type": "code",
   "execution_count": 1,
   "metadata": {},
   "outputs": [
    {
     "name": "stdout",
     "output_type": "stream",
     "text": [
      "/Users/mnoordeen/Documents/GitHub/PythonWithAWSTraining/Python Basics\n"
     ]
    }
   ],
   "source": [
    "#Python Directory and files Management\n",
    "#Get the directory\n",
    "import os\n",
    "print(os.getcwd()) # String\n"
   ]
  },
  {
   "cell_type": "code",
   "execution_count": 3,
   "metadata": {},
   "outputs": [
    {
     "name": "stdout",
     "output_type": "stream",
     "text": [
      "/Users/mnoordeen/Documents/GitHub/PythonWithAWSTraining\n"
     ]
    }
   ],
   "source": [
    "#Change the directory\n",
    "os.chdir('/Users/mnoordeen/Documents/GitHub/PythonWithAWSTraining/')\n",
    "print(os.getcwd()) # String\n"
   ]
  },
  {
   "cell_type": "code",
   "execution_count": 4,
   "metadata": {},
   "outputs": [
    {
     "name": "stdout",
     "output_type": "stream",
     "text": [
      "['Python Basics', '.DS_Store', '.git']\n"
     ]
    }
   ],
   "source": [
    "#list directories and files\n",
    "\n",
    "print(os.listdir())"
   ]
  },
  {
   "cell_type": "code",
   "execution_count": 5,
   "metadata": {},
   "outputs": [
    {
     "name": "stdout",
     "output_type": "stream",
     "text": [
      "['deepLearningBook-Notes', 'MachineLearning with python', 'PythonWithAWSTraining', 'TwitterSentiment-Example', 'Inceptez', 'TwitterApi-to-scrape', 'Easy-deep-learning-with-Keras', 'HousingPricePrediction', 'Artificial-Intelligence-Deep-Learning-Machine-Learning-Tutorials', '.DS_Store', 'Test', 'Deeplearning', 'Data-Science-Training-Python-', 'NatsProducerConsumer', 'retrain.py', 'CustomerResponsePrediction', 'NumpyLib', 'MachineLearningWithPython', 'Deeplearning_1', 'PythonOnlineAshok', 'testexample', 'CheetSheet', 'flower_photos', 'Batch-1-Beseant-Tech', 'BigData']\n"
     ]
    }
   ],
   "source": [
    "print(os.listdir('/Users/mnoordeen/Documents/GitHub/'))"
   ]
  },
  {
   "cell_type": "code",
   "execution_count": 15,
   "metadata": {},
   "outputs": [
    {
     "name": "stdout",
     "output_type": "stream",
     "text": [
      "/Users/mnoordeen/Documents/GitHub/PythonWithAWSTraining\n"
     ]
    }
   ],
   "source": [
    "print(os.getcwd())\n",
    "\n",
    "#Create a new directory\n",
    "\n",
    "os.mkdir('test')\n",
    "\n"
   ]
  },
  {
   "cell_type": "code",
   "execution_count": 16,
   "metadata": {},
   "outputs": [],
   "source": [
    "#Rename a directory\n",
    "os.rename('test', 'noortest')"
   ]
  },
  {
   "cell_type": "code",
   "execution_count": 4,
   "metadata": {},
   "outputs": [],
   "source": [
    "os.rmdir?"
   ]
  },
  {
   "cell_type": "code",
   "execution_count": 11,
   "metadata": {},
   "outputs": [],
   "source": [
    "#Remove the Directory\n",
    "os.listdir()\n",
    "\n",
    "#os.remove('test.txt')\n",
    "\n",
    "os.removedirs('noortest')\n",
    "\n",
    "#os.rmdir('noortest')"
   ]
  },
  {
   "cell_type": "code",
   "execution_count": 13,
   "metadata": {},
   "outputs": [],
   "source": [
    "os.remove()"
   ]
  },
  {
   "cell_type": "code",
   "execution_count": 17,
   "metadata": {},
   "outputs": [],
   "source": [
    "import shutil\n",
    "shutil.rmtree('noortest/')"
   ]
  },
  {
   "cell_type": "code",
   "execution_count": 18,
   "metadata": {},
   "outputs": [
    {
     "ename": "ZeroDivisionError",
     "evalue": "division by zero",
     "output_type": "error",
     "traceback": [
      "\u001b[0;31m---------------------------------------------------------------------------\u001b[0m",
      "\u001b[0;31mZeroDivisionError\u001b[0m                         Traceback (most recent call last)",
      "\u001b[0;32m<ipython-input-18-c33e718e8a80>\u001b[0m in \u001b[0;36m<module>\u001b[0;34m()\u001b[0m\n\u001b[1;32m      1\u001b[0m \u001b[0;31m#Error can also occur at runtime and there are called exceptions\u001b[0m\u001b[0;34m\u001b[0m\u001b[0;34m\u001b[0m\u001b[0m\n\u001b[0;32m----> 2\u001b[0;31m \u001b[0;36m1\u001b[0m\u001b[0;34m/\u001b[0m\u001b[0;36m0\u001b[0m\u001b[0;34m\u001b[0m\u001b[0m\n\u001b[0m",
      "\u001b[0;31mZeroDivisionError\u001b[0m: division by zero"
     ]
    }
   ],
   "source": [
    "#Error can also occur at runtime and there are called exceptions\n",
    "1/0"
   ]
  },
  {
   "cell_type": "code",
   "execution_count": 9,
   "metadata": {},
   "outputs": [
    {
     "name": "stdout",
     "output_type": "stream",
     "text": [
      "1\n",
      "1\n",
      "\n",
      "\n",
      "Sorry ! You are dividing by zero \n",
      "Try is done and it is executed finally\n",
      "1\n",
      "3\n",
      "\n",
      "\n",
      "Sorry ! You are dividing by zero \n",
      "Try is done and it is executed finally\n",
      "1\n",
      "4\n",
      "\n",
      "\n",
      "Sorry ! You are dividing by zero \n",
      "Try is done and it is executed finally\n",
      "1\n",
      "0\n",
      "\n",
      "\n",
      "Sorry ! You are dividing by zero \n",
      "Try is done and it is executed finally\n",
      "1\n",
      "2\n",
      "\n",
      "\n",
      "Sorry ! You are dividing by zero \n",
      "Try is done and it is executed finally\n",
      "1\n",
      "4\n",
      "\n",
      "\n",
      "Sorry ! You are dividing by zero \n",
      "Try is done and it is executed finally\n",
      "2\n",
      "1\n",
      "\n",
      "\n",
      "Sorry ! You are dividing by zero \n",
      "Try is done and it is executed finally\n",
      "2\n",
      "3\n",
      "\n",
      "\n",
      "Sorry ! You are dividing by zero \n",
      "Try is done and it is executed finally\n",
      "2\n",
      "4\n",
      "\n",
      "\n",
      "Sorry ! You are dividing by zero \n",
      "Try is done and it is executed finally\n",
      "2\n",
      "0\n",
      "\n",
      "\n",
      "Sorry ! You are dividing by zero \n",
      "Try is done and it is executed finally\n",
      "2\n",
      "2\n",
      "\n",
      "\n",
      "Sorry ! You are dividing by zero \n",
      "Try is done and it is executed finally\n",
      "2\n",
      "4\n",
      "\n",
      "\n",
      "Sorry ! You are dividing by zero \n",
      "Try is done and it is executed finally\n",
      "3\n",
      "1\n",
      "\n",
      "\n",
      "Sorry ! You are dividing by zero \n",
      "Try is done and it is executed finally\n",
      "3\n",
      "3\n",
      "\n",
      "\n",
      "Sorry ! You are dividing by zero \n",
      "Try is done and it is executed finally\n",
      "3\n",
      "4\n",
      "\n",
      "\n",
      "Sorry ! You are dividing by zero \n",
      "Try is done and it is executed finally\n",
      "3\n",
      "0\n",
      "\n",
      "\n",
      "Sorry ! You are dividing by zero \n",
      "Try is done and it is executed finally\n",
      "3\n",
      "2\n",
      "\n",
      "\n",
      "Sorry ! You are dividing by zero \n",
      "Try is done and it is executed finally\n",
      "3\n",
      "4\n",
      "\n",
      "\n",
      "Sorry ! You are dividing by zero \n",
      "Try is done and it is executed finally\n",
      "40\n",
      "1\n",
      "\n",
      "\n",
      "Sorry ! You are dividing by zero \n",
      "Try is done and it is executed finally\n",
      "40\n",
      "3\n",
      "\n",
      "\n",
      "Sorry ! You are dividing by zero \n",
      "Try is done and it is executed finally\n",
      "40\n",
      "4\n",
      "\n",
      "\n",
      "Sorry ! You are dividing by zero \n",
      "Try is done and it is executed finally\n",
      "40\n",
      "0\n",
      "\n",
      "\n",
      "Sorry ! You are dividing by zero \n",
      "Try is done and it is executed finally\n",
      "40\n",
      "2\n",
      "\n",
      "\n",
      "Sorry ! You are dividing by zero \n",
      "Try is done and it is executed finally\n",
      "40\n",
      "4\n",
      "\n",
      "\n",
      "Sorry ! You are dividing by zero \n",
      "Try is done and it is executed finally\n",
      "0\n",
      "1\n",
      "\n",
      "\n",
      "Sorry ! You are dividing by zero \n",
      "Try is done and it is executed finally\n",
      "0\n",
      "3\n",
      "\n",
      "\n",
      "Sorry ! You are dividing by zero \n",
      "Try is done and it is executed finally\n",
      "0\n",
      "4\n",
      "\n",
      "\n",
      "Sorry ! You are dividing by zero \n",
      "Try is done and it is executed finally\n",
      "0\n",
      "0\n",
      "\n",
      "\n",
      "Sorry ! You are dividing by zero \n",
      "Try is done and it is executed finally\n",
      "0\n",
      "2\n",
      "\n",
      "\n",
      "Sorry ! You are dividing by zero \n",
      "Try is done and it is executed finally\n",
      "0\n",
      "4\n",
      "\n",
      "\n",
      "Sorry ! You are dividing by zero \n",
      "Try is done and it is executed finally\n",
      "23\n",
      "1\n",
      "\n",
      "\n",
      "Sorry ! You are dividing by zero \n",
      "Try is done and it is executed finally\n",
      "23\n",
      "3\n",
      "\n",
      "\n",
      "Sorry ! You are dividing by zero \n",
      "Try is done and it is executed finally\n",
      "23\n",
      "4\n",
      "\n",
      "\n",
      "Sorry ! You are dividing by zero \n",
      "Try is done and it is executed finally\n",
      "23\n",
      "0\n",
      "\n",
      "\n",
      "Sorry ! You are dividing by zero \n",
      "Try is done and it is executed finally\n",
      "23\n",
      "2\n",
      "\n",
      "\n",
      "Sorry ! You are dividing by zero \n",
      "Try is done and it is executed finally\n",
      "23\n",
      "4\n",
      "\n",
      "\n",
      "Sorry ! You are dividing by zero \n",
      "Try is done and it is executed finally\n"
     ]
    }
   ],
   "source": [
    "import sys\n",
    "a = [1,2,3,40,0,23]\n",
    "b = [1,3,4,0,2,4]\n",
    "\n",
    "for x in a:\n",
    "    for y in b:\n",
    "        try:\n",
    "            print(x)\n",
    "            print(y)\n",
    "            print(\"\\n\")\n",
    "            x/y\n",
    "            import vbgfg\n",
    "        #List of Exceptions\n",
    "        #https://docs.python.org/3.6/library/exceptions.html\n",
    "        \n",
    "        except (ZeroDivisionError , ModuleNotFoundError ):\n",
    "            print(\"Sorry ! You are dividing by zero \")    \n",
    "        except:\n",
    "            print(\"OOPs!\",sys.exc_info()[0],\"occured\" )\n",
    "            print()\n",
    "        finally:\n",
    "            print(\"Try is done and it is executed finally\")\n",
    "            "
   ]
  },
  {
   "cell_type": "markdown",
   "metadata": {},
   "source": [
    "Python has the syntactical requirement that code blocks (after if, except, def, class etc.) cannot be empty. Empty code blocks are however useful in a variety of different contexts, such as in examples below, which are the most frequent use cases I have seen.\n",
    "\n",
    "Therefore, if nothing is supposed to happen in a code block, a pass is needed for such a block to not produce an IndentationError"
   ]
  },
  {
   "cell_type": "code",
   "execution_count": 26,
   "metadata": {},
   "outputs": [
    {
     "name": "stdout",
     "output_type": "stream",
     "text": [
      "Hi\n"
     ]
    }
   ],
   "source": [
    "if(1>4):\n",
    "    pass\n",
    "   \n",
    "print(\"Hi\")"
   ]
  },
  {
   "cell_type": "code",
   "execution_count": 29,
   "metadata": {},
   "outputs": [
    {
     "name": "stdout",
     "output_type": "stream",
     "text": [
      "Hello\n"
     ]
    }
   ],
   "source": [
    "for i  in range(0,3):\n",
    "    pass\n",
    "    \n",
    "print(\"Hello\")"
   ]
  },
  {
   "cell_type": "code",
   "execution_count": 45,
   "metadata": {},
   "outputs": [
    {
     "name": "stdout",
     "output_type": "stream",
     "text": [
      "Hello\n"
     ]
    }
   ],
   "source": [
    "class a:\n",
    "    def abc(self):\n",
    "        print(\"Hi\")\n",
    "class b(a):\n",
    "    def abc(self):\n",
    "        print(\"Hello\")\n",
    "        \n",
    "obj = b()\n",
    "obj.abc()"
   ]
  },
  {
   "cell_type": "code",
   "execution_count": 46,
   "metadata": {},
   "outputs": [
    {
     "data": {
      "text/plain": [
       "8"
      ]
     },
     "execution_count": 46,
     "metadata": {},
     "output_type": "execute_result"
    }
   ],
   "source": [
    "class a:\n",
    "    def abc(self,x,y):\n",
    "        return x+y\n",
    "class b(a):\n",
    "    def abc(self,x,y):\n",
    "        return x*y\n",
    "        \n",
    "obj = b()\n",
    "obj.abc(2,4)"
   ]
  },
  {
   "cell_type": "code",
   "execution_count": 10,
   "metadata": {},
   "outputs": [
    {
     "name": "stdout",
     "output_type": "stream",
     "text": [
      "Enter a number: 2\n",
      "This value is too small, try again!\n",
      "\n",
      "Enter a number: 10\n",
      "Congratulations! You guessed it correctly.\n"
     ]
    }
   ],
   "source": [
    "# define Python user-defined exceptions\n",
    "class Error(Exception):\n",
    "   \"\"\"Base class for other exceptions\"\"\"\n",
    "   pass\n",
    "\n",
    "class ValueTooLargeError(Error):\n",
    "   \"\"\"Raised when the input value is too large\"\"\"\n",
    "   pass\n",
    "\n",
    "class ValueTooSmallError(ValueTooLargeError):\n",
    "   \"\"\"Raised when the input value is too small\"\"\"\n",
    "   pass\n",
    "\n",
    "\n",
    "\n",
    "# our main program\n",
    "# user guesses a number until he/she gets it right\n",
    "\n",
    "# you need to guess this number\n",
    "number = 10\n",
    "\n",
    "while True:\n",
    "   try:\n",
    "       i_num = int(input(\"Enter a number: \"))\n",
    "       if i_num < number:\n",
    "           raise ValueTooSmallError\n",
    "       elif i_num > number:\n",
    "           raise ValueTooLargeError\n",
    "       break\n",
    "   except ValueTooSmallError:\n",
    "       print(\"This value is too small, try again!\")\n",
    "       print()\n",
    "   except ValueTooLargeError:\n",
    "       print(\"This value is too large, try again!\")\n",
    "       print()\n",
    "\n",
    "print(\"Congratulations! You guessed it correctly.\")\n"
   ]
  },
  {
   "cell_type": "code",
   "execution_count": 12,
   "metadata": {},
   "outputs": [
    {
     "data": {
      "text/plain": [
       "45"
      ]
     },
     "execution_count": 12,
     "metadata": {},
     "output_type": "execute_result"
    }
   ],
   "source": [
    "a =13\n",
    "len(globals())"
   ]
  },
  {
   "cell_type": "code",
   "execution_count": 13,
   "metadata": {},
   "outputs": [
    {
     "data": {
      "text/plain": [
       "48"
      ]
     },
     "execution_count": 13,
     "metadata": {},
     "output_type": "execute_result"
    }
   ],
   "source": [
    "dcds=32423\n",
    "len(globals())"
   ]
  },
  {
   "cell_type": "code",
   "execution_count": null,
   "metadata": {},
   "outputs": [],
   "source": [
    "globals()"
   ]
  },
  {
   "cell_type": "code",
   "execution_count": 23,
   "metadata": {},
   "outputs": [],
   "source": [
    "import os.path"
   ]
  },
  {
   "cell_type": "code",
   "execution_count": 24,
   "metadata": {},
   "outputs": [
    {
     "ename": "SyntaxError",
     "evalue": "unexpected EOF while parsing (<ipython-input-24-47faaddfa13f>, line 2)",
     "output_type": "error",
     "traceback": [
      "\u001b[0;36m  File \u001b[0;32m\"<ipython-input-24-47faaddfa13f>\"\u001b[0;36m, line \u001b[0;32m2\u001b[0m\n\u001b[0;31m    print(\"dscdsc\")\u001b[0m\n\u001b[0m                   ^\u001b[0m\n\u001b[0;31mSyntaxError\u001b[0m\u001b[0;31m:\u001b[0m unexpected EOF while parsing\n"
     ]
    }
   ],
   "source": [
    "try:\n",
    "    print(\"dscdsc\")\n"
   ]
  },
  {
   "cell_type": "code",
   "execution_count": null,
   "metadata": {},
   "outputs": [],
   "source": []
  }
 ],
 "metadata": {
  "kernelspec": {
   "display_name": "Python 3",
   "language": "python",
   "name": "python3"
  },
  "language_info": {
   "codemirror_mode": {
    "name": "ipython",
    "version": 3
   },
   "file_extension": ".py",
   "mimetype": "text/x-python",
   "name": "python",
   "nbconvert_exporter": "python",
   "pygments_lexer": "ipython3",
   "version": "3.6.4"
  }
 },
 "nbformat": 4,
 "nbformat_minor": 2
}
