{
 "cells": [
  {
   "cell_type": "code",
   "execution_count": 23,
   "metadata": {},
   "outputs": [],
   "source": [
    "def fibi(n,z=10,y=5):\n",
    "    a, b = 0, 1\n",
    "    for i in range(n):\n",
    "        a, b = b, a + b\n",
    "    return a"
   ]
  },
  {
   "cell_type": "code",
   "execution_count": 26,
   "metadata": {},
   "outputs": [
    {
     "data": {
      "text/plain": [
       "5"
      ]
     },
     "execution_count": 26,
     "metadata": {},
     "output_type": "execute_result"
    }
   ],
   "source": [
    "fibi(5,10,100)"
   ]
  },
  {
   "cell_type": "code",
   "execution_count": 27,
   "metadata": {},
   "outputs": [
    {
     "data": {
      "text/plain": [
       "15"
      ]
     },
     "execution_count": 27,
     "metadata": {},
     "output_type": "execute_result"
    }
   ],
   "source": [
    "def factorial(x):\n",
    "    if x==1:\n",
    "        return 1\n",
    "    else:\n",
    "        return x+factorial(x-1)\n",
    "   \n",
    "factorial(5)"
   ]
  },
  {
   "cell_type": "code",
   "execution_count": 76,
   "metadata": {},
   "outputs": [
    {
     "data": {
      "text/plain": [
       "16"
      ]
     },
     "execution_count": 76,
     "metadata": {},
     "output_type": "execute_result"
    }
   ],
   "source": [
    "from functools import reduce\n",
    "reduce(lambda x,y : y*y, [1,2,3,4])"
   ]
  },
  {
   "cell_type": "code",
   "execution_count": 71,
   "metadata": {},
   "outputs": [
    {
     "data": {
      "text/plain": [
       "[3, 4, 5, 6]"
      ]
     },
     "execution_count": 71,
     "metadata": {},
     "output_type": "execute_result"
    }
   ],
   "source": [
    "a"
   ]
  },
  {
   "cell_type": "code",
   "execution_count": 78,
   "metadata": {},
   "outputs": [
    {
     "name": "stdout",
     "output_type": "stream",
     "text": [
      "30\n",
      "20\n"
     ]
    }
   ],
   "source": [
    "def my_func(x):\n",
    "    x = 30\n",
    "    print(x)\n",
    "\n",
    "x = 20\n",
    "my_func(x+5)\n",
    "print(x)"
   ]
  },
  {
   "cell_type": "code",
   "execution_count": 89,
   "metadata": {},
   "outputs": [],
   "source": [
    "def make_tuple(a, result=None): \n",
    "\n",
    "    if result is None: \n",
    "        result = []\n",
    "    for x in a:\n",
    "        if isinstance(x, list):\n",
    "            make_tuple(x, result) \n",
    "        else:\n",
    "            result.append(x) \n",
    "    return result"
   ]
  },
  {
   "cell_type": "code",
   "execution_count": 90,
   "metadata": {},
   "outputs": [
    {
     "data": {
      "text/plain": [
       "[1, 2, 3, 4, 5, 6, 7]"
      ]
     },
     "execution_count": 90,
     "metadata": {},
     "output_type": "execute_result"
    }
   ],
   "source": [
    "make_tuple([ [1, 2, [3, 4] ], [5, 6], 7])\n",
    "        "
   ]
  },
  {
   "cell_type": "code",
   "execution_count": 94,
   "metadata": {},
   "outputs": [
    {
     "name": "stdout",
     "output_type": "stream",
     "text": [
      "s t r End\n"
     ]
    }
   ],
   "source": [
    "for val in 'string':\n",
    "    if val == 'i':\n",
    "        break\n",
    "    if val == 'k':\n",
    "        continue\n",
    "    if val == 'g':\n",
    "        pass\n",
    "    print(val,end=\" \")\n",
    "print(\"End\")"
   ]
  },
  {
   "cell_type": "markdown",
   "metadata": {},
   "source": [
    "#https://www.fir3net.com/Programming/Python/how-do-you-import-a-python-module-from-another-folder.html"
   ]
  },
  {
   "cell_type": "code",
   "execution_count": 95,
   "metadata": {},
   "outputs": [],
   "source": [
    "import sys"
   ]
  },
  {
   "cell_type": "code",
   "execution_count": 96,
   "metadata": {},
   "outputs": [
    {
     "name": "stdout",
     "output_type": "stream",
     "text": [
      "['', '/anaconda3/lib/python36.zip', '/anaconda3/lib/python3.6', '/anaconda3/lib/python3.6/lib-dynload', '/anaconda3/lib/python3.6/site-packages', '/anaconda3/lib/python3.6/site-packages/aeosa', '/anaconda3/lib/python3.6/site-packages/setuptools-39.2.0-py3.6.egg', '/anaconda3/lib/python3.6/site-packages/gensim-3.4.0-py3.6-macosx-10.7-x86_64.egg', '/anaconda3/lib/python3.6/site-packages/smart_open-1.5.7-py3.6.egg', '/anaconda3/lib/python3.6/site-packages/boto3-1.7.25-py3.6.egg', '/anaconda3/lib/python3.6/site-packages/bz2file-0.98-py3.6.egg', '/anaconda3/lib/python3.6/site-packages/s3transfer-0.1.13-py3.6.egg', '/anaconda3/lib/python3.6/site-packages/jmespath-0.9.3-py3.6.egg', '/anaconda3/lib/python3.6/site-packages/botocore-1.10.25-py3.6.egg', '/anaconda3/lib/python3.6/site-packages/pymongo-3.6.1-py3.6-macosx-10.7-x86_64.egg', '/anaconda3/lib/python3.6/site-packages/IPython/extensions', '/Users/mnoordeen/.ipython']\n"
     ]
    }
   ],
   "source": [
    "print(sys.path)"
   ]
  },
  {
   "cell_type": "code",
   "execution_count": 97,
   "metadata": {},
   "outputs": [],
   "source": [
    "sys.path.append('/Users/mnoordeen/Documents/GitHub/PythonWithAWSTraining')"
   ]
  },
  {
   "cell_type": "code",
   "execution_count": 98,
   "metadata": {},
   "outputs": [
    {
     "name": "stdout",
     "output_type": "stream",
     "text": [
      "['', '/anaconda3/lib/python36.zip', '/anaconda3/lib/python3.6', '/anaconda3/lib/python3.6/lib-dynload', '/anaconda3/lib/python3.6/site-packages', '/anaconda3/lib/python3.6/site-packages/aeosa', '/anaconda3/lib/python3.6/site-packages/setuptools-39.2.0-py3.6.egg', '/anaconda3/lib/python3.6/site-packages/gensim-3.4.0-py3.6-macosx-10.7-x86_64.egg', '/anaconda3/lib/python3.6/site-packages/smart_open-1.5.7-py3.6.egg', '/anaconda3/lib/python3.6/site-packages/boto3-1.7.25-py3.6.egg', '/anaconda3/lib/python3.6/site-packages/bz2file-0.98-py3.6.egg', '/anaconda3/lib/python3.6/site-packages/s3transfer-0.1.13-py3.6.egg', '/anaconda3/lib/python3.6/site-packages/jmespath-0.9.3-py3.6.egg', '/anaconda3/lib/python3.6/site-packages/botocore-1.10.25-py3.6.egg', '/anaconda3/lib/python3.6/site-packages/pymongo-3.6.1-py3.6-macosx-10.7-x86_64.egg', '/anaconda3/lib/python3.6/site-packages/IPython/extensions', '/Users/mnoordeen/.ipython', '/Users/mnoordeen/Documents/GitHub/PythonWithAWSTraining']\n"
     ]
    }
   ],
   "source": [
    "print(sys.path)"
   ]
  },
  {
   "cell_type": "code",
   "execution_count": 107,
   "metadata": {},
   "outputs": [],
   "source": [
    "import example"
   ]
  },
  {
   "cell_type": "code",
   "execution_count": 110,
   "metadata": {},
   "outputs": [],
   "source": [
    "from module import example "
   ]
  },
  {
   "cell_type": "code",
   "execution_count": 111,
   "metadata": {},
   "outputs": [],
   "source": [
    "from module.folder import example"
   ]
  },
  {
   "cell_type": "code",
   "execution_count": 112,
   "metadata": {},
   "outputs": [],
   "source": [
    "from module.folder.infolder import example"
   ]
  },
  {
   "cell_type": "code",
   "execution_count": 132,
   "metadata": {},
   "outputs": [
    {
     "data": {
      "text/plain": [
       "(0, 1, 2, 3, 4)"
      ]
     },
     "execution_count": 132,
     "metadata": {},
     "output_type": "execute_result"
    }
   ],
   "source": [
    "#tuple comprehension\n",
    "\n",
    "tuple([i for i in range(5)])"
   ]
  },
  {
   "cell_type": "code",
   "execution_count": 133,
   "metadata": {},
   "outputs": [
    {
     "name": "stdout",
     "output_type": "stream",
     "text": [
      "loop 2.2752542849630117\n",
      "  2           0 BUILD_LIST               0\n",
      "              2 STORE_NAME               0 (result)\n",
      "\n",
      "  3           4 SETUP_LOOP              30 (to 36)\n",
      "              6 LOAD_NAME                1 (range)\n",
      "              8 LOAD_CONST               0 (20)\n",
      "             10 CALL_FUNCTION            1\n",
      "             12 GET_ITER\n",
      "        >>   14 FOR_ITER                18 (to 34)\n",
      "             16 STORE_NAME               2 (i)\n",
      "\n",
      "  4          18 LOAD_NAME                0 (result)\n",
      "             20 LOAD_ATTR                3 (append)\n",
      "             22 LOAD_NAME                2 (i)\n",
      "             24 LOAD_CONST               1 (2)\n",
      "             26 BINARY_MULTIPLY\n",
      "             28 CALL_FUNCTION            1\n",
      "             30 POP_TOP\n",
      "             32 JUMP_ABSOLUTE           14\n",
      "        >>   34 POP_BLOCK\n",
      "        >>   36 LOAD_CONST               2 (None)\n",
      "             38 RETURN_VALUE\n",
      "loop_faster 1.799087657011114\n",
      "  2           0 BUILD_LIST               0\n",
      "              2 STORE_NAME               0 (result)\n",
      "\n",
      "  3           4 LOAD_NAME                0 (result)\n",
      "              6 LOAD_ATTR                1 (append)\n",
      "              8 STORE_NAME               2 (add)\n",
      "\n",
      "  4          10 SETUP_LOOP              28 (to 40)\n",
      "             12 LOAD_NAME                3 (range)\n",
      "             14 LOAD_CONST               0 (20)\n",
      "             16 CALL_FUNCTION            1\n",
      "             18 GET_ITER\n",
      "        >>   20 FOR_ITER                16 (to 38)\n",
      "             22 STORE_NAME               4 (i)\n",
      "\n",
      "  5          24 LOAD_NAME                2 (add)\n",
      "             26 LOAD_NAME                4 (i)\n",
      "             28 LOAD_CONST               1 (2)\n",
      "             30 BINARY_MULTIPLY\n",
      "             32 CALL_FUNCTION            1\n",
      "             34 POP_TOP\n",
      "             36 JUMP_ABSOLUTE           20\n",
      "        >>   38 POP_BLOCK\n",
      "        >>   40 LOAD_CONST               2 (None)\n",
      "             42 RETURN_VALUE\n",
      "comprehension 1.5956402079900727\n",
      "  1           0 LOAD_CONST               0 (<code object <listcomp> at 0x10b3629c0, file \"<string>\", line 1>)\n",
      "              2 LOAD_CONST               1 ('<listcomp>')\n",
      "              4 MAKE_FUNCTION            0\n",
      "              6 LOAD_NAME                0 (range)\n",
      "              8 LOAD_CONST               2 (20)\n",
      "             10 CALL_FUNCTION            1\n",
      "             12 GET_ITER\n",
      "             14 CALL_FUNCTION            1\n",
      "             16 STORE_NAME               1 (result)\n",
      "             18 LOAD_CONST               3 (None)\n",
      "             20 RETURN_VALUE\n"
     ]
    }
   ],
   "source": [
    "#http://blog.cdleary.com/2010/04/efficiency-of-list-comprehensions/\n",
    "import dis\n",
    "import inspect\n",
    "import timeit\n",
    "\n",
    "\n",
    "programs = dict(\n",
    "    loop=\"\"\"\n",
    "result = []\n",
    "for i in range(20):\n",
    "    result.append(i * 2)\n",
    "\"\"\",\n",
    "   loop_faster=\"\"\"\n",
    "result = []\n",
    "add = result.append\n",
    "for i in range(20):\n",
    "    add(i * 2)\n",
    "\"\"\",\n",
    "    comprehension='result = [i * 2 for i in range(20)]',\n",
    ")\n",
    "\n",
    "\n",
    "for name, text in programs.items():\n",
    "    print(name, timeit.Timer(stmt=text).timeit())\n",
    "    code = compile(text, '<string>', 'exec')\n",
    "    dis.disassemble(code)"
   ]
  },
  {
   "cell_type": "code",
   "execution_count": null,
   "metadata": {},
   "outputs": [],
   "source": [
    "#Why switch case not there\n",
    "https://www.pydanny.com/why-doesnt-python-have-switch-case.html"
   ]
  },
  {
   "cell_type": "code",
   "execution_count": 118,
   "metadata": {},
   "outputs": [],
   "source": [
    "def numbers_to_strings(argument):\n",
    "    switcher = {\n",
    "        0: \"zero\",\n",
    "        1: \"one\",\n",
    "        2: \"two\",\n",
    "    }\n",
    "    return switcher.get(argument, \"nothing\")"
   ]
  },
  {
   "cell_type": "code",
   "execution_count": 135,
   "metadata": {},
   "outputs": [
    {
     "data": {
      "text/plain": [
       "'two'"
      ]
     },
     "execution_count": 135,
     "metadata": {},
     "output_type": "execute_result"
    }
   ],
   "source": [
    "numbers_to_strings(2)"
   ]
  },
  {
   "cell_type": "code",
   "execution_count": 121,
   "metadata": {},
   "outputs": [
    {
     "ename": "SyntaxError",
     "evalue": "invalid syntax (<ipython-input-121-80add881fce0>, line 1)",
     "output_type": "error",
     "traceback": [
      "\u001b[0;36m  File \u001b[0;32m\"<ipython-input-121-80add881fce0>\"\u001b[0;36m, line \u001b[0;32m1\u001b[0m\n\u001b[0;31m    function(argument){\u001b[0m\n\u001b[0m                      ^\u001b[0m\n\u001b[0;31mSyntaxError\u001b[0m\u001b[0;31m:\u001b[0m invalid syntax\n"
     ]
    }
   ],
   "source": [
    "function(argument){\n",
    "    switch(argument) {\n",
    "        case 0:\n",
    "            return \"zero\";\n",
    "        case 1:\n",
    "            return \"one\";\n",
    "        case 2:\n",
    "            return \"two\";\n",
    "        default:\n",
    "            return \"nothing\";\n",
    "    };\n",
    "};"
   ]
  },
  {
   "cell_type": "code",
   "execution_count": 122,
   "metadata": {},
   "outputs": [],
   "source": [
    "def zero():\n",
    "    return \"zero\"\n",
    "\n",
    "def one():\n",
    "    return \"one\"\n",
    "\n",
    "def numbers_to_functions_to_strings(argument):\n",
    "    switcher = {\n",
    "        0: zero,\n",
    "        1: one,\n",
    "        2: lambda: \"two\",\n",
    "    }\n",
    "    # Get the function from switcher dictionary\n",
    "    func = switcher.get(argument, lambda: \"nothing\")\n",
    "    # Execute the function\n",
    "    return func()"
   ]
  },
  {
   "cell_type": "code",
   "execution_count": 124,
   "metadata": {},
   "outputs": [
    {
     "data": {
      "text/plain": [
       "'nothing'"
      ]
     },
     "execution_count": 124,
     "metadata": {},
     "output_type": "execute_result"
    }
   ],
   "source": [
    "numbers_to_functions_to_strings(22)"
   ]
  },
  {
   "cell_type": "markdown",
   "metadata": {},
   "source": [
    "The Official Answer\n",
    "The official answer says, \\\"You can do this easily enough with a sequence of if... elif... elif... else\\\". And that you can use dictionary mapping for functions and dispatch methods for classes.\n",
    "\n",
    "Arguably the official answer doesn't explain anything except for workarounds. In other words, a \\\"non-answer\\\". In my opinion, what the official answer is really trying to say is, \\\"Python doesn't need a case statement.\\\""
   ]
  },
  {
   "cell_type": "markdown",
   "metadata": {},
   "source": [
    "Why w+?\n",
    "\n",
    "https://stackoverflow.com/questions/1466000/python-open-built-in-function-difference-between-modes-a-a-w-w-and-r"
   ]
  },
  {
   "cell_type": "code",
   "execution_count": null,
   "metadata": {},
   "outputs": [],
   "source": [
    "                  | r   r+   w   w+   a   a+\n",
    "------------------|--------------------------\n",
    "read              | +   +        +        +\n",
    "write             |     +    +   +    +   +\n",
    "write after seek  |     +    +   +\n",
    "create            |          +   +    +   +\n",
    "truncate          |          +   +\n",
    "position at start | +   +    +   +\n",
    "position at end   |                   +   +\n"
   ]
  },
  {
   "cell_type": "code",
   "execution_count": 125,
   "metadata": {},
   "outputs": [],
   "source": [
    "with open('somefile.txt', 'w+') as f:\n",
    "    # Note that f has now been truncated to 0 bytes, so you'll only\n",
    "    # be able to read data that you wrote earlier...\n",
    "    f.write('somedata\\n')\n",
    "    f.seek(0)  # Important: return to the top of the file before reading, otherwise you'll just read an empty string\n",
    "    data = f.read() # Returns 'somedata\\n'"
   ]
  },
  {
   "cell_type": "code",
   "execution_count": 126,
   "metadata": {},
   "outputs": [
    {
     "data": {
      "text/plain": [
       "'somedata\\n'"
      ]
     },
     "execution_count": 126,
     "metadata": {},
     "output_type": "execute_result"
    }
   ],
   "source": [
    "data"
   ]
  },
  {
   "cell_type": "code",
   "execution_count": 129,
   "metadata": {},
   "outputs": [],
   "source": [
    "with open('somefile.txt', 'r+') as f:\n",
    "    # Note that f has now been truncated to 0 bytes, so you'll only\n",
    "    # be able to read data that you wrote earlier...\n",
    "    f.write('somedata\\n')\n",
    "    f.seek(0)  # Important: return to the top of the file before reading, otherwise you'll just read an empty string\n",
    "    data = f.read() # Returns 'somedata\\n'"
   ]
  },
  {
   "cell_type": "code",
   "execution_count": 130,
   "metadata": {},
   "outputs": [
    {
     "data": {
      "text/plain": [
       "'somedata\\n'"
      ]
     },
     "execution_count": 130,
     "metadata": {},
     "output_type": "execute_result"
    }
   ],
   "source": [
    "data"
   ]
  },
  {
   "cell_type": "code",
   "execution_count": null,
   "metadata": {},
   "outputs": [],
   "source": []
  }
 ],
 "metadata": {
  "kernelspec": {
   "display_name": "Python 3",
   "language": "python",
   "name": "python3"
  },
  "language_info": {
   "codemirror_mode": {
    "name": "ipython",
    "version": 3
   },
   "file_extension": ".py",
   "mimetype": "text/x-python",
   "name": "python",
   "nbconvert_exporter": "python",
   "pygments_lexer": "ipython3",
   "version": "3.6.4"
  }
 },
 "nbformat": 4,
 "nbformat_minor": 2
}
