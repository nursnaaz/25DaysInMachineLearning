{
 "cells": [
  {
   "cell_type": "code",
   "execution_count": 96,
   "metadata": {},
   "outputs": [],
   "source": [
    "f= open(\"files.txt\",\"w+\")"
   ]
  },
  {
   "cell_type": "code",
   "execution_count": 18,
   "metadata": {},
   "outputs": [
    {
     "name": "stdout",
     "output_type": "stream",
     "text": [
      "['files.txt', 'PythonBasics_Day8.ipynb', '.DS_Store', 'Untitled.ipynb', '__pycache__', 'PythonBasics_Day3.ipynb', 'PythonBasics_Day1.ipynb', 'example.py', 'PythonBasics_Day5.ipynb', 'PythonBasics_Day7.ipynb', '.ipynb_checkpoints', 'examplecall.py', 'PythonBasics_Day2.ipynb', 'PythonBasics_Day6.ipynb', 'PythonBasics_Day4.ipynb']\n"
     ]
    }
   ],
   "source": [
    "import os\n",
    "#list directories and files\n",
    "\n",
    "print(os.listdir())"
   ]
  },
  {
   "cell_type": "code",
   "execution_count": 98,
   "metadata": {
    "scrolled": true
   },
   "outputs": [],
   "source": [
    "j=1\n",
    "for i in os.listdir():\n",
    "     f.write(\"This is line {0}:{1}\\r\\n\".format(j,i))\n",
    "     j+=1"
   ]
  },
  {
   "cell_type": "code",
   "execution_count": 99,
   "metadata": {},
   "outputs": [],
   "source": [
    "f.close() "
   ]
  },
  {
   "cell_type": "code",
   "execution_count": 100,
   "metadata": {},
   "outputs": [],
   "source": [
    "f=open(\"files.txt\", \"a+\")"
   ]
  },
  {
   "cell_type": "code",
   "execution_count": 101,
   "metadata": {},
   "outputs": [],
   "source": [
    "for i in range(2):\n",
    "     f.write(\"Appended line %d\\r\\n\" % (i+1))"
   ]
  },
  {
   "cell_type": "code",
   "execution_count": 102,
   "metadata": {},
   "outputs": [],
   "source": [
    "f.close()"
   ]
  },
  {
   "cell_type": "code",
   "execution_count": 103,
   "metadata": {},
   "outputs": [],
   "source": [
    "f=open(\"files.txt\", \"r\")"
   ]
  },
  {
   "cell_type": "code",
   "execution_count": 104,
   "metadata": {},
   "outputs": [
    {
     "name": "stdout",
     "output_type": "stream",
     "text": [
      "This is line 1:files.txt\n",
      "This is line 2:PythonBasics_Day8.ipynb\n",
      "This is line 3:.DS_Store\n",
      "This is line 4:PythonBasics_Day9.ipynb\n",
      "This is line 5:__pycache__\n",
      "This is line 6:PythonBasics_Day3.ipynb\n",
      "This is line 7:PythonBasics_Day1.ipynb\n",
      "This is line 8:example.py\n",
      "This is line 9:PythonBasics_Day5.ipynb\n",
      "This is line 10:PythonBasics_Day7.ipynb\n",
      "This is line 11:.ipynb_checkpoints\n",
      "This is line 12:examplecall.py\n",
      "This is line 13:PythonBasics_Day2.ipynb\n",
      "This is line 14:PythonBasics_Day6.ipynb\n",
      "This is line 15:PythonBasics_Day4.ipynb\n",
      "Appended line 1\n",
      "Appended line 2\n",
      "\n"
     ]
    }
   ],
   "source": [
    "if f.mode=='r':\n",
    "    contents = f.read()\n",
    "    print(contents)\n",
    "f.close()"
   ]
  },
  {
   "cell_type": "code",
   "execution_count": 105,
   "metadata": {},
   "outputs": [
    {
     "name": "stdout",
     "output_type": "stream",
     "text": [
      "This is line 1:files.txt\n",
      "\n",
      "This is line 2:PythonBasics_Day8.ipynb\n",
      "\n",
      "This is line 3:.DS_Store\n",
      "\n",
      "This is line 4:PythonBasics_Day9.ipynb\n",
      "\n",
      "This is line 5:__pycache__\n",
      "\n",
      "This is line 6:PythonBasics_Day3.ipynb\n",
      "\n",
      "This is line 7:PythonBasics_Day1.ipynb\n",
      "\n",
      "This is line 8:example.py\n",
      "\n",
      "This is line 9:PythonBasics_Day5.ipynb\n",
      "\n",
      "This is line 10:PythonBasics_Day7.ipynb\n",
      "\n",
      "This is line 11:.ipynb_checkpoints\n",
      "\n",
      "This is line 12:examplecall.py\n",
      "\n",
      "This is line 13:PythonBasics_Day2.ipynb\n",
      "\n",
      "This is line 14:PythonBasics_Day6.ipynb\n",
      "\n",
      "This is line 15:PythonBasics_Day4.ipynb\n",
      "\n",
      "Appended line 1\n",
      "\n",
      "Appended line 2\n",
      "\n"
     ]
    }
   ],
   "source": [
    "f=open(\"files.txt\", \"r\")\n",
    "f1 = f.readlines()\n",
    "for x in f1:\n",
    "    print(x)\n",
    "f.close()"
   ]
  },
  {
   "cell_type": "code",
   "execution_count": 52,
   "metadata": {},
   "outputs": [
    {
     "data": {
      "text/plain": [
       "547"
      ]
     },
     "execution_count": 52,
     "metadata": {},
     "output_type": "execute_result"
    }
   ],
   "source": [
    "#Character count\n",
    "def charcount(filename):\n",
    "    return len(open(filename).read())\n",
    "charcount(\"files.txt\")"
   ]
  },
  {
   "cell_type": "code",
   "execution_count": 51,
   "metadata": {},
   "outputs": [
    {
     "data": {
      "text/plain": [
       "66"
      ]
     },
     "execution_count": 51,
     "metadata": {},
     "output_type": "execute_result"
    }
   ],
   "source": [
    "#Word count\n",
    "def wordcount(filename):\n",
    "    return len(open(filename).read().split())\n",
    "wordcount(\"files.txt\")"
   ]
  },
  {
   "cell_type": "code",
   "execution_count": 109,
   "metadata": {},
   "outputs": [],
   "source": [
    "a = \"dddd\"\n",
    "a.split?"
   ]
  },
  {
   "cell_type": "code",
   "execution_count": null,
   "metadata": {},
   "outputs": [],
   "source": [
    "open().read().split"
   ]
  },
  {
   "cell_type": "code",
   "execution_count": null,
   "metadata": {},
   "outputs": [],
   "source": [
    "open(filename).read().split"
   ]
  },
  {
   "cell_type": "code",
   "execution_count": 53,
   "metadata": {},
   "outputs": [
    {
     "data": {
      "text/plain": [
       "17"
      ]
     },
     "execution_count": 53,
     "metadata": {},
     "output_type": "execute_result"
    }
   ],
   "source": [
    "def linecount(filename):\n",
    "    return len(open(filename).readlines())\n",
    "linecount(\"files.txt\")"
   ]
  },
  {
   "cell_type": "code",
   "execution_count": 65,
   "metadata": {},
   "outputs": [],
   "source": [
    "def word_frequency(words):\n",
    "    \"\"\"Returns frequency of each word given a list of words.\n",
    "        >>> word_frequency(['a', 'b', 'a'])\n",
    "        {'a': 2, 'b': 1}\n",
    "    \"\"\"\n",
    "    frequency = {} \n",
    "    for w in words:\n",
    "        frequency[w] = frequency.get(w, 0) + 1 \n",
    "    return frequency"
   ]
  },
  {
   "cell_type": "code",
   "execution_count": 66,
   "metadata": {},
   "outputs": [],
   "source": [
    "def read_words(filename):\n",
    "    return open(filename).read().split()"
   ]
  },
  {
   "cell_type": "code",
   "execution_count": 110,
   "metadata": {},
   "outputs": [],
   "source": [
    "def main(filename):\n",
    "    #print(read_words(filename))\n",
    "    #print(word_frequency(read_words(filename)))\n",
    "\n",
    "    frequency = word_frequency(read_words(filename)) \n",
    "    for word, count in frequency.items():\n",
    "        print(word, count)"
   ]
  },
  {
   "cell_type": "code",
   "execution_count": 68,
   "metadata": {},
   "outputs": [
    {
     "name": "stdout",
     "output_type": "stream",
     "text": [
      "{'This': 15, 'is': 15, 'line': 17, '1:files.txt': 1, '2:PythonBasics_Day8.ipynb': 1, '3:.DS_Store': 1, '4:Untitled.ipynb': 1, '5:__pycache__': 1, '6:PythonBasics_Day3.ipynb': 1, '7:PythonBasics_Day1.ipynb': 1, '8:example.py': 1, '9:PythonBasics_Day5.ipynb': 1, '10:PythonBasics_Day7.ipynb': 1, '11:.ipynb_checkpoints': 1, '12:examplecall.py': 1, '13:PythonBasics_Day2.ipynb': 1, '14:PythonBasics_Day6.ipynb': 1, '15:PythonBasics_Day4.ipynb': 1, 'Appended': 2, '1': 1, '2': 1}\n",
      "This 15\n",
      "is 15\n",
      "line 17\n",
      "1:files.txt 1\n",
      "2:PythonBasics_Day8.ipynb 1\n",
      "3:.DS_Store 1\n",
      "4:Untitled.ipynb 1\n",
      "5:__pycache__ 1\n",
      "6:PythonBasics_Day3.ipynb 1\n",
      "7:PythonBasics_Day1.ipynb 1\n",
      "8:example.py 1\n",
      "9:PythonBasics_Day5.ipynb 1\n",
      "10:PythonBasics_Day7.ipynb 1\n",
      "11:.ipynb_checkpoints 1\n",
      "12:examplecall.py 1\n",
      "13:PythonBasics_Day2.ipynb 1\n",
      "14:PythonBasics_Day6.ipynb 1\n",
      "15:PythonBasics_Day4.ipynb 1\n",
      "Appended 2\n",
      "1 1\n",
      "2 1\n"
     ]
    }
   ],
   "source": [
    "main(\"files.txt\")"
   ]
  },
  {
   "cell_type": "code",
   "execution_count": null,
   "metadata": {},
   "outputs": [],
   "source": [
    "cat \"$filename\"  | with open(\"$filename\",'r') as fin:        | Read the file Sequentially\n",
    "                 |     for line in fin:                      |   \n",
    "-----------------------------------------------------------------------------------\n",
    "grep 'something' | import re                                 | The python version returns\n",
    "                 | line = re.findall('something', line)[0]  | a list of matches. We are only\n",
    "                 |                                           | interested in the zero group\n",
    "-----------------------------------------------------------------------------------\n",
    "cut -d'\"' -f2    | line = line.split('\"')[1]                 | Splits the string and selects\n",
    "                 |                                           | the second field (which is\n",
    "                 |                                           | index 1 in python)"
   ]
  },
  {
   "cell_type": "code",
   "execution_count": 118,
   "metadata": {},
   "outputs": [
    {
     "name": "stdout",
     "output_type": "stream",
     "text": [
      "Sorry ! No files available \n"
     ]
    }
   ],
   "source": [
    "import re\n",
    "import sys\n",
    "\n",
    "try:\n",
    "    \n",
    "    file = open(\"files456.txt\", \"r\")\n",
    "\n",
    "    for line in file:\n",
    "         if re.findall(\"Appended\", line):\n",
    "             print(line)\n",
    "except FileNotFoundError:\n",
    "    print(\"Sorry ! No files available \") \n",
    "except :\n",
    "    print(\"Error \") "
   ]
  },
  {
   "cell_type": "code",
   "execution_count": 112,
   "metadata": {},
   "outputs": [],
   "source": [
    "!cd .."
   ]
  },
  {
   "cell_type": "code",
   "execution_count": 95,
   "metadata": {},
   "outputs": [
    {
     "name": "stdout",
     "output_type": "stream",
     "text": [
      "/Users/mnoordeen/Documents/GitHub/PythonWithAWSTraining/Python Basics\r\n"
     ]
    }
   ],
   "source": [
    "!pwd"
   ]
  },
  {
   "cell_type": "code",
   "execution_count": 119,
   "metadata": {},
   "outputs": [
    {
     "name": "stdout",
     "output_type": "stream",
     "text": [
      "PythonBasics_Day1.ipynb PythonBasics_Day6.ipynb example.py\r\n",
      "PythonBasics_Day2.ipynb PythonBasics_Day7.ipynb examplecall.py\r\n",
      "PythonBasics_Day3.ipynb PythonBasics_Day8.ipynb files.txt\r\n",
      "PythonBasics_Day4.ipynb PythonBasics_Day9.ipynb\r\n",
      "PythonBasics_Day5.ipynb \u001b[34m__pycache__\u001b[m\u001b[m\r\n"
     ]
    }
   ],
   "source": [
    "!ls"
   ]
  },
  {
   "cell_type": "code",
   "execution_count": 120,
   "metadata": {},
   "outputs": [],
   "source": [
    "!python example.py"
   ]
  },
  {
   "cell_type": "code",
   "execution_count": 121,
   "metadata": {},
   "outputs": [
    {
     "name": "stdout",
     "output_type": "stream",
     "text": [
      "9\r\n",
      "-1\r\n",
      "20\r\n",
      "9\r\n",
      "1\r\n"
     ]
    }
   ],
   "source": [
    "!python examplecall.py"
   ]
  },
  {
   "cell_type": "code",
   "execution_count": null,
   "metadata": {},
   "outputs": [],
   "source": []
  }
 ],
 "metadata": {
  "kernelspec": {
   "display_name": "Python 3",
   "language": "python",
   "name": "python3"
  },
  "language_info": {
   "codemirror_mode": {
    "name": "ipython",
    "version": 3
   },
   "file_extension": ".py",
   "mimetype": "text/x-python",
   "name": "python",
   "nbconvert_exporter": "python",
   "pygments_lexer": "ipython3",
   "version": "3.6.4"
  }
 },
 "nbformat": 4,
 "nbformat_minor": 2
}
