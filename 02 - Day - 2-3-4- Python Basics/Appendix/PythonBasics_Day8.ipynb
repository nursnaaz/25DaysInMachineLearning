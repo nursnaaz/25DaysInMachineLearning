{
 "cells": [
  {
   "cell_type": "markdown",
   "metadata": {},
   "source": [
    "# List Comprehension"
   ]
  },
  {
   "cell_type": "markdown",
   "metadata": {},
   "source": [
    "List Comprehensions provide a concise way of creating lists. Many times a complex task can be modelled in a single line.\n",
    "Here are some simple examples for transforming a list."
   ]
  },
  {
   "cell_type": "code",
   "execution_count": 20,
   "metadata": {},
   "outputs": [],
   "source": [
    "a = range(10)"
   ]
  },
  {
   "cell_type": "code",
   "execution_count": 21,
   "metadata": {},
   "outputs": [
    {
     "data": {
      "text/plain": [
       "range(0, 10)"
      ]
     },
     "execution_count": 21,
     "metadata": {},
     "output_type": "execute_result"
    }
   ],
   "source": [
    "a"
   ]
  },
  {
   "cell_type": "code",
   "execution_count": 22,
   "metadata": {},
   "outputs": [
    {
     "data": {
      "text/plain": [
       "range"
      ]
     },
     "execution_count": 22,
     "metadata": {},
     "output_type": "execute_result"
    }
   ],
   "source": [
    "type(a)"
   ]
  },
  {
   "cell_type": "code",
   "execution_count": 12,
   "metadata": {},
   "outputs": [
    {
     "data": {
      "text/plain": [
       "(0, 2, 4, 6, 8)"
      ]
     },
     "execution_count": 12,
     "metadata": {},
     "output_type": "execute_result"
    }
   ],
   "source": [
    "[i for i in range(0,10) if i%2==0]"
   ]
  },
  {
   "cell_type": "code",
   "execution_count": 17,
   "metadata": {},
   "outputs": [
    {
     "data": {
      "text/plain": [
       "{0: [9, 9],\n",
       " 1: [0, 1],\n",
       " 2: [0, 2],\n",
       " 3: [4, 5],\n",
       " 4: [3, 5],\n",
       " 5: [0, 5],\n",
       " 6: [0, 6],\n",
       " 7: [0, 7],\n",
       " 8: [0, 8],\n",
       " 9: [0, 9]}"
      ]
     },
     "execution_count": 17,
     "metadata": {},
     "output_type": "execute_result"
    }
   ],
   "source": [
    "{i:[j,k] for i in range(0,10) for j in range(0,10) for k in range(0,10) if i*i+j*j==k*k }"
   ]
  },
  {
   "cell_type": "code",
   "execution_count": 31,
   "metadata": {},
   "outputs": [
    {
     "data": {
      "text/plain": [
       "[4, 16, 36, 64]"
      ]
     },
     "execution_count": 31,
     "metadata": {},
     "output_type": "execute_result"
    }
   ],
   "source": [
    "[i**2 for i in range(1,10) if i%2 == 0]"
   ]
  },
  {
   "cell_type": "code",
   "execution_count": 59,
   "metadata": {},
   "outputs": [],
   "source": [
    "[x for x in a]"
   ]
  },
  {
   "cell_type": "code",
   "execution_count": 7,
   "metadata": {},
   "outputs": [
    {
     "data": {
      "text/plain": [
       "[0, 1, 4, 9, 16, 25, 36, 49, 64, 81]"
      ]
     },
     "execution_count": 7,
     "metadata": {},
     "output_type": "execute_result"
    }
   ],
   "source": [
    "[x*x for x in a]"
   ]
  },
  {
   "cell_type": "code",
   "execution_count": 8,
   "metadata": {},
   "outputs": [
    {
     "data": {
      "text/plain": [
       "[0, 2, 4, 6, 8]"
      ]
     },
     "execution_count": 8,
     "metadata": {},
     "output_type": "execute_result"
    }
   ],
   "source": [
    "[x for x in a if x % 2 == 0]"
   ]
  },
  {
   "cell_type": "code",
   "execution_count": 19,
   "metadata": {},
   "outputs": [
    {
     "data": {
      "text/plain": [
       "[(1, 2), (2, 3), (3, 5), (4, 7), (9, 12)]"
      ]
     },
     "execution_count": 19,
     "metadata": {},
     "output_type": "execute_result"
    }
   ],
   "source": [
    "a = [1, 2, 3, 4 ,9]\n",
    "b = [2, 3, 5, 7, 12,43,24,22]\n",
    "list(zip(a, b))"
   ]
  },
  {
   "cell_type": "code",
   "execution_count": 24,
   "metadata": {},
   "outputs": [
    {
     "name": "stdout",
     "output_type": "stream",
     "text": [
      "(1, 5)\n",
      "(2, 6)\n",
      "(3, 7)\n"
     ]
    }
   ],
   "source": [
    "a = [1,2,3]\n",
    "b = [5,6,7]\n",
    "for i in zip(a,b):\n",
    "    print(i)\n",
    "   "
   ]
  },
  {
   "cell_type": "code",
   "execution_count": 12,
   "metadata": {},
   "outputs": [
    {
     "data": {
      "text/plain": [
       "[(1, 2), (2, 3), (3, 5), (4, 7)]"
      ]
     },
     "execution_count": 12,
     "metadata": {},
     "output_type": "execute_result"
    }
   ],
   "source": [
    "[(x,y) for x, y in zip(a, b)]"
   ]
  },
  {
   "cell_type": "code",
   "execution_count": 37,
   "metadata": {
    "collapsed": true
   },
   "outputs": [
    {
     "data": {
      "text/plain": [
       "[(0, 0, 0),\n",
       " (0, 1, 1),\n",
       " (0, 2, 2),\n",
       " (0, 3, 3),\n",
       " (0, 4, 4),\n",
       " (0, 5, 5),\n",
       " (0, 6, 6),\n",
       " (0, 7, 7),\n",
       " (0, 8, 8),\n",
       " (0, 9, 9),\n",
       " (0, 10, 10),\n",
       " (0, 11, 11),\n",
       " (0, 12, 12),\n",
       " (0, 13, 13),\n",
       " (0, 14, 14),\n",
       " (0, 15, 15),\n",
       " (0, 16, 16),\n",
       " (0, 17, 17),\n",
       " (0, 18, 18),\n",
       " (0, 19, 19),\n",
       " (1, 0, 1),\n",
       " (2, 0, 2),\n",
       " (3, 0, 3),\n",
       " (3, 4, 5),\n",
       " (4, 0, 4),\n",
       " (4, 3, 5),\n",
       " (5, 0, 5),\n",
       " (5, 12, 13),\n",
       " (6, 0, 6),\n",
       " (6, 8, 10),\n",
       " (7, 0, 7),\n",
       " (8, 0, 8),\n",
       " (8, 6, 10),\n",
       " (8, 15, 17),\n",
       " (9, 0, 9),\n",
       " (9, 12, 15),\n",
       " (10, 0, 10),\n",
       " (11, 0, 11),\n",
       " (12, 0, 12),\n",
       " (12, 5, 13),\n",
       " (12, 9, 15),\n",
       " (13, 0, 13),\n",
       " (14, 0, 14),\n",
       " (15, 0, 15),\n",
       " (15, 8, 17),\n",
       " (16, 0, 16),\n",
       " (17, 0, 17),\n",
       " (18, 0, 18),\n",
       " (19, 0, 19)]"
      ]
     },
     "execution_count": 37,
     "metadata": {},
     "output_type": "execute_result"
    }
   ],
   "source": [
    "[(a,b,c) for a in range(0,20) for b in range(0,20) for c in range(0,20) if((a**2+b**2)==c**2)]"
   ]
  },
  {
   "cell_type": "code",
   "execution_count": 17,
   "metadata": {
    "collapsed": true
   },
   "outputs": [
    {
     "data": {
      "text/plain": [
       "[(0, 0),\n",
       " (0, 2),\n",
       " (0, 4),\n",
       " (1, 1),\n",
       " (1, 3),\n",
       " (2, 0),\n",
       " (2, 2),\n",
       " (2, 4),\n",
       " (3, 1),\n",
       " (3, 3),\n",
       " (4, 0),\n",
       " (4, 2),\n",
       " (4, 4)]"
      ]
     },
     "execution_count": 17,
     "metadata": {},
     "output_type": "execute_result"
    }
   ],
   "source": [
    "[(x, y) for x in range(5) for y in range(5) if (x+y)%2 == 0]"
   ]
  },
  {
   "cell_type": "code",
   "execution_count": 24,
   "metadata": {},
   "outputs": [
    {
     "name": "stdout",
     "output_type": "stream",
     "text": [
      "[0, 0, 0]\n",
      "[1, 0, 1]\n",
      "[1, 1, 0]\n",
      "[2, 0, 2]\n",
      "[2, 2, 0]\n",
      "[3, 0, 3]\n",
      "[3, 3, 0]\n",
      "[4, 0, 4]\n",
      "[4, 4, 0]\n",
      "[5, 0, 5]\n",
      "[5, 3, 4]\n",
      "[5, 4, 3]\n",
      "[5, 5, 0]\n",
      "[6, 0, 6]\n",
      "[6, 6, 0]\n",
      "[7, 0, 7]\n",
      "[7, 7, 0]\n",
      "[8, 0, 8]\n",
      "[8, 8, 0]\n",
      "[9, 0, 9]\n",
      "[9, 9, 0]\n",
      "[10, 0, 10]\n",
      "[10, 6, 8]\n",
      "[10, 8, 6]\n",
      "[10, 10, 0]\n",
      "[11, 0, 11]\n",
      "[11, 11, 0]\n",
      "[12, 0, 12]\n",
      "[12, 12, 0]\n",
      "[13, 0, 13]\n",
      "[13, 5, 12]\n",
      "[13, 12, 5]\n",
      "[13, 13, 0]\n",
      "[14, 0, 14]\n",
      "[14, 14, 0]\n",
      "[15, 0, 15]\n",
      "[15, 9, 12]\n",
      "[15, 12, 9]\n",
      "[15, 15, 0]\n",
      "[16, 0, 16]\n",
      "[16, 16, 0]\n",
      "[17, 0, 17]\n",
      "[17, 8, 15]\n",
      "[17, 15, 8]\n",
      "[17, 17, 0]\n",
      "[18, 0, 18]\n",
      "[18, 18, 0]\n",
      "[19, 0, 19]\n",
      "[19, 19, 0]\n"
     ]
    }
   ],
   "source": [
    "for a in range(20):\n",
    "    for b in range(20):\n",
    "        for c in range(20):\n",
    "            if(a*a == b*b + c*c):\n",
    "                print(list([a,b,c]))"
   ]
  },
  {
   "cell_type": "code",
   "execution_count": 1,
   "metadata": {},
   "outputs": [
    {
     "data": {
      "text/plain": [
       "[(0, 0, 0),\n",
       " (1, 0, 1),\n",
       " (1, 1, 0),\n",
       " (2, 0, 2),\n",
       " (2, 2, 0),\n",
       " (3, 0, 3),\n",
       " (3, 3, 0),\n",
       " (4, 0, 4),\n",
       " (4, 4, 0)]"
      ]
     },
     "execution_count": 1,
     "metadata": {},
     "output_type": "execute_result"
    }
   ],
   "source": [
    "[(a,b,c) for a in range(5) for b in range(5) for c in range(5) if a*a == b*b + c*c]\n"
   ]
  },
  {
   "cell_type": "code",
   "execution_count": 45,
   "metadata": {
    "scrolled": true
   },
   "outputs": [],
   "source": [
    "x = [2, 3, 4]\n",
    "y = [4, 5]\n",
    "z = {v + w for v in x for w in y}"
   ]
  },
  {
   "cell_type": "code",
   "execution_count": 48,
   "metadata": {},
   "outputs": [
    {
     "data": {
      "text/plain": [
       "{6, 7, 8, 9}"
      ]
     },
     "execution_count": 48,
     "metadata": {},
     "output_type": "execute_result"
    }
   ],
   "source": [
    "z"
   ]
  },
  {
   "cell_type": "code",
   "execution_count": 28,
   "metadata": {},
   "outputs": [
    {
     "data": {
      "text/plain": [
       "[2, 4, 6, 8, 10]"
      ]
     },
     "execution_count": 28,
     "metadata": {},
     "output_type": "execute_result"
    }
   ],
   "source": [
    "[*map(lambda x : x*2,[1,2,3,4,5])]"
   ]
  },
  {
   "cell_type": "markdown",
   "metadata": {},
   "source": [
    "PEP 448 extends the allowed uses of the * iterable unpacking operator and ** dictionary unpacking operator. It is now possible to use an arbitrary number of unpackings in function calls:\n",
    "https://docs.python.org/3/whatsnew/3.5.html#whatsnew-pep-448"
   ]
  },
  {
   "cell_type": "code",
   "execution_count": 53,
   "metadata": {},
   "outputs": [],
   "source": [
    "x = [2, 3, 4]\n",
    "y = [4, 5]\n",
    "a = [*map(lambda v : [*map(lambda w : v + w, y)], x)]\n"
   ]
  },
  {
   "cell_type": "code",
   "execution_count": 54,
   "metadata": {},
   "outputs": [
    {
     "data": {
      "text/plain": [
       "[[6, 7], [7, 8], [8, 9]]"
      ]
     },
     "execution_count": 54,
     "metadata": {},
     "output_type": "execute_result"
    }
   ],
   "source": [
    "a"
   ]
  },
  {
   "cell_type": "code",
   "execution_count": 55,
   "metadata": {},
   "outputs": [
    {
     "name": "stdout",
     "output_type": "stream",
     "text": [
      "[97.7, 98.60000000000001, 99.5, 100.4, 102.2]\n",
      "[36.5, 37.00000000000001, 37.5, 38.00000000000001, 39.0]\n"
     ]
    }
   ],
   "source": [
    "def fahrenheit(T):\n",
    "     return ((float(9)/5)*T + 32)\n",
    " \n",
    "def celsius(T):\n",
    "     return (float(5)/9)*(T-32)\n",
    " \n",
    "temperatures = (36.5, 37, 37.5, 38, 39)\n",
    "F = map(fahrenheit, temperatures)\n",
    "C = map(celsius, F)\n",
    "\n",
    "temperatures_in_Fahrenheit = list(map(fahrenheit, temperatures))\n",
    "temperatures_in_Celsius = list(map(celsius, temperatures_in_Fahrenheit))\n",
    "print(temperatures_in_Fahrenheit)\n",
    "print(temperatures_in_Celsius)\n"
   ]
  },
  {
   "cell_type": "code",
   "execution_count": 57,
   "metadata": {},
   "outputs": [
    {
     "data": {
      "text/plain": [
       "[97.7, 98.60000000000001, 99.5, 100.4, 102.2]"
      ]
     },
     "execution_count": 57,
     "metadata": {},
     "output_type": "execute_result"
    }
   ],
   "source": [
    "[*map(lambda x : ((float(9)/5)*x + 32), temperatures )]\n"
   ]
  },
  {
   "cell_type": "code",
   "execution_count": 50,
   "metadata": {},
   "outputs": [
    {
     "name": "stdout",
     "output_type": "stream",
     "text": [
      "[102.56, 97.7, 99.14, 100.4, 100.03999999999999]\n",
      "[39.2, 36.5, 37.300000000000004, 38.00000000000001, 37.8]\n"
     ]
    }
   ],
   "source": [
    "C = [39.2, 36.5, 37.3, 38, 37.8] \n",
    "F = list(map(lambda x: (float(9)/5)*x + 32, C))\n",
    "print(F)\n",
    "C = list(map(lambda x: (float(5)/9)*(x-32), F))\n",
    "print(C)"
   ]
  },
  {
   "cell_type": "code",
   "execution_count": 51,
   "metadata": {},
   "outputs": [
    {
     "data": {
      "text/plain": [
       "[37.5, 33.0, 24.5, 21.0]"
      ]
     },
     "execution_count": 51,
     "metadata": {},
     "output_type": "execute_result"
    }
   ],
   "source": [
    "a = [1, 2, 3, 4]\n",
    "b = [17, 12, 11, 10]\n",
    "c = [-1, -4, 5, 9]\n",
    "list(map(lambda x, y : x+y, a, b))\n",
    "list(map(lambda x, y, z : x+y+z, a, b, c))\n",
    "list(map(lambda x, y, z : 2.5*x + 2*y - z, a, b, c))\n"
   ]
  },
  {
   "cell_type": "code",
   "execution_count": 65,
   "metadata": {},
   "outputs": [
    {
     "name": "stdout",
     "output_type": "stream",
     "text": [
      "{1, 3, 5, 13, 21, 55}\n",
      "[0, 2, 8, 34]\n",
      "[0, 2, 8, 34]\n"
     ]
    }
   ],
   "source": [
    "fibonacci = (0,1,1,2,3,5,8,13,21,34,55)\n",
    "odd_numbers = set(filter(lambda x: x % 2, fibonacci))\n",
    "print(odd_numbers)\n",
    "even_numbers = list(filter(lambda x: x % 2 == 0, fibonacci))\n",
    "print(even_numbers)\n",
    " \n",
    "# or alternatively:\n",
    "even_numbers = list(filter(lambda x: x % 2 -1, fibonacci))\n",
    "print(even_numbers)\n"
   ]
  },
  {
   "cell_type": "markdown",
   "metadata": {},
   "source": [
    "https://www.python-course.eu/images/reduce.png"
   ]
  },
  {
   "cell_type": "code",
   "execution_count": 65,
   "metadata": {},
   "outputs": [
    {
     "data": {
      "text/plain": [
       "654"
      ]
     },
     "execution_count": 65,
     "metadata": {},
     "output_type": "execute_result"
    }
   ],
   "source": [
    "import functools\n",
    "functools.reduce(lambda x,y: x if (x > y) else y, [654,47,11,42,13,12,334,565,23])\n"
   ]
  },
  {
   "cell_type": "markdown",
   "metadata": {},
   "source": [
    "https://www.python-course.eu/images/reduce_diagram.png"
   ]
  },
  {
   "cell_type": "markdown",
   "metadata": {},
   "source": [
    "Determining the maximum of a list of numerical values by using reduce:\n"
   ]
  },
  {
   "cell_type": "code",
   "execution_count": 10,
   "metadata": {},
   "outputs": [
    {
     "data": {
      "text/plain": [
       "102"
      ]
     },
     "execution_count": 10,
     "metadata": {},
     "output_type": "execute_result"
    }
   ],
   "source": [
    "from functools import reduce\n",
    "f = lambda a,b: a if (a > b) else b\n",
    "reduce(f, [47,11,42,102,13])"
   ]
  },
  {
   "cell_type": "code",
   "execution_count": null,
   "metadata": {},
   "outputs": [],
   "source": []
  }
 ],
 "metadata": {
  "kernelspec": {
   "display_name": "Python 3",
   "language": "python",
   "name": "python3"
  },
  "language_info": {
   "codemirror_mode": {
    "name": "ipython",
    "version": 3
   },
   "file_extension": ".py",
   "mimetype": "text/x-python",
   "name": "python",
   "nbconvert_exporter": "python",
   "pygments_lexer": "ipython3",
   "version": "3.6.4"
  }
 },
 "nbformat": 4,
 "nbformat_minor": 2
}
